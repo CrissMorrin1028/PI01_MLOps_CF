{
 "cells": [
  {
   "cell_type": "markdown",
   "metadata": {},
   "source": [
    " #  Variables de entrada **`input`** que necesita cada función:\n",
    "\n",
    "* ``función 1``: def **desarrollador**( **`desarrollador`**: **str** ) : Cantidad de items y porcentajede contenido Free por año según empresa desarrolladora. **variables**: **`developer`**, **`release_date`**, **`price`**\n",
    "\n",
    "* ``función 2``: def **userdata**( **`User_id`**: **str** ) : Debe devolver `cantidad` de dinero gastado por el usuario, el `porcentaje` de recomendación en base a reviews.recommend y `cantidad de items`. **variables**: **`price`**, **`reviews.recommend o sentiment_analysis`**, **`cantidad-items (id o item_id)`**.\n",
    "\n",
    "* ``función 3``: def **UserForGenre**( **`genero`**: **str** ) : Debe devolver el usuario que acumula más horas jugadas para el género dado y una lista de la acumulación de horas jugadas por año de lanzamiento. **variables**: **`genres`**, **`user_id`**, **`playtime_forever`**, **`release_date`**.\n",
    "\n",
    "* ``función 4``: def **best_developer_year**(**`año`**: **int** ) : Devuelve el top 3 de desarrolladores con juegos MÁS recomendados por usuarios para el año dado. (reviews.recommend = Verdadero y comentarios positivos). **variables**. **`release_date`**, **`reviews.recommend (sentiment_analysis)`**\n",
    "\n",
    "* ``función 5``: def **desarrollador_reviews_analysis**( **`desarrolladora`**: **str**) : Según el desarrollador, se devuelve un diccionario con el nombre del desarrollador como llave y una lista con la cantidad total de registros de reseñas de usuarios que se encuentran categorizados con un análisis de sentimiento como valor positivo o negativo. **`developer`**, **`sentiment_analysis`**\n",
    "\n",
    "# Sistemas de recomendación elegir uno o los dos:\n",
    "\n",
    "**Sistema de recomendación de juegos** si es por ***item-item***:\n",
    "def **recomendacion_juego**(**`id de producto`**): Ingresando el id de producto, deberíamos recibir una lista con 5 juegos recomendados similares al ingresado. **variables**:\n",
    "\n",
    "Si es por ***user-item***:\n",
    "def **recomendacion_usuario**(**`id de usuario`**): Ingresando el id de un usuario, deberíamos recibir una lista con 5 juegos recomendados para dicho usuario. **variables**:\n",
    "\n",
    "***usado***: def **get_recommendation**(**`item_id`**: int): Devuelve los indices similares. **variables**: **`item_id`**, **`user_id`**, **`recommend`**, **`item_name`** "
   ]
  }
 ],
 "metadata": {
  "language_info": {
   "name": "python"
  }
 },
 "nbformat": 4,
 "nbformat_minor": 2
}
