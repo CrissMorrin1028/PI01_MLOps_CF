{
 "cells": [
  {
   "cell_type": "markdown",
   "metadata": {},
   "source": [
    "### Procesamiento **ETL** al archivo **`user_reviews.json`**"
   ]
  },
  {
   "cell_type": "code",
   "execution_count": 61,
   "metadata": {},
   "outputs": [],
   "source": [
    "# Importamos las librerias necesarias para el procesamiento de los datos\n",
    "import pandas as pd\n",
    "import numpy as np\n",
    "import json\n",
    "import ast\n",
    "import nltk\n",
    "from nltk.sentiment.vader import SentimentIntensityAnalyzer"
   ]
  },
  {
   "cell_type": "code",
   "execution_count": 62,
   "metadata": {},
   "outputs": [
    {
     "data": {
      "text/html": [
       "<div>\n",
       "<style scoped>\n",
       "    .dataframe tbody tr th:only-of-type {\n",
       "        vertical-align: middle;\n",
       "    }\n",
       "\n",
       "    .dataframe tbody tr th {\n",
       "        vertical-align: top;\n",
       "    }\n",
       "\n",
       "    .dataframe thead th {\n",
       "        text-align: right;\n",
       "    }\n",
       "</style>\n",
       "<table border=\"1\" class=\"dataframe\">\n",
       "  <thead>\n",
       "    <tr style=\"text-align: right;\">\n",
       "      <th></th>\n",
       "      <th>user_id</th>\n",
       "      <th>user_url</th>\n",
       "      <th>reviews</th>\n",
       "    </tr>\n",
       "  </thead>\n",
       "  <tbody>\n",
       "    <tr>\n",
       "      <th>0</th>\n",
       "      <td>76561197970982479</td>\n",
       "      <td>http://steamcommunity.com/profiles/76561197970...</td>\n",
       "      <td>[{'funny': '', 'posted': 'Posted November 5, 2...</td>\n",
       "    </tr>\n",
       "    <tr>\n",
       "      <th>1</th>\n",
       "      <td>js41637</td>\n",
       "      <td>http://steamcommunity.com/id/js41637</td>\n",
       "      <td>[{'funny': '', 'posted': 'Posted June 24, 2014...</td>\n",
       "    </tr>\n",
       "    <tr>\n",
       "      <th>2</th>\n",
       "      <td>evcentric</td>\n",
       "      <td>http://steamcommunity.com/id/evcentric</td>\n",
       "      <td>[{'funny': '', 'posted': 'Posted February 3.',...</td>\n",
       "    </tr>\n",
       "    <tr>\n",
       "      <th>3</th>\n",
       "      <td>doctr</td>\n",
       "      <td>http://steamcommunity.com/id/doctr</td>\n",
       "      <td>[{'funny': '', 'posted': 'Posted October 14, 2...</td>\n",
       "    </tr>\n",
       "    <tr>\n",
       "      <th>4</th>\n",
       "      <td>maplemage</td>\n",
       "      <td>http://steamcommunity.com/id/maplemage</td>\n",
       "      <td>[{'funny': '3 people found this review funny',...</td>\n",
       "    </tr>\n",
       "    <tr>\n",
       "      <th>...</th>\n",
       "      <td>...</td>\n",
       "      <td>...</td>\n",
       "      <td>...</td>\n",
       "    </tr>\n",
       "    <tr>\n",
       "      <th>25794</th>\n",
       "      <td>76561198306599751</td>\n",
       "      <td>http://steamcommunity.com/profiles/76561198306...</td>\n",
       "      <td>[{'funny': '', 'posted': 'Posted May 31.', 'la...</td>\n",
       "    </tr>\n",
       "    <tr>\n",
       "      <th>25795</th>\n",
       "      <td>Ghoustik</td>\n",
       "      <td>http://steamcommunity.com/id/Ghoustik</td>\n",
       "      <td>[{'funny': '', 'posted': 'Posted June 17.', 'l...</td>\n",
       "    </tr>\n",
       "    <tr>\n",
       "      <th>25796</th>\n",
       "      <td>76561198310819422</td>\n",
       "      <td>http://steamcommunity.com/profiles/76561198310...</td>\n",
       "      <td>[{'funny': '1 person found this review funny',...</td>\n",
       "    </tr>\n",
       "    <tr>\n",
       "      <th>25797</th>\n",
       "      <td>76561198312638244</td>\n",
       "      <td>http://steamcommunity.com/profiles/76561198312...</td>\n",
       "      <td>[{'funny': '', 'posted': 'Posted July 21.', 'l...</td>\n",
       "    </tr>\n",
       "    <tr>\n",
       "      <th>25798</th>\n",
       "      <td>LydiaMorley</td>\n",
       "      <td>http://steamcommunity.com/id/LydiaMorley</td>\n",
       "      <td>[{'funny': '1 person found this review funny',...</td>\n",
       "    </tr>\n",
       "  </tbody>\n",
       "</table>\n",
       "<p>25799 rows × 3 columns</p>\n",
       "</div>"
      ],
      "text/plain": [
       "                 user_id                                           user_url  \\\n",
       "0      76561197970982479  http://steamcommunity.com/profiles/76561197970...   \n",
       "1                js41637               http://steamcommunity.com/id/js41637   \n",
       "2              evcentric             http://steamcommunity.com/id/evcentric   \n",
       "3                  doctr                 http://steamcommunity.com/id/doctr   \n",
       "4              maplemage             http://steamcommunity.com/id/maplemage   \n",
       "...                  ...                                                ...   \n",
       "25794  76561198306599751  http://steamcommunity.com/profiles/76561198306...   \n",
       "25795           Ghoustik              http://steamcommunity.com/id/Ghoustik   \n",
       "25796  76561198310819422  http://steamcommunity.com/profiles/76561198310...   \n",
       "25797  76561198312638244  http://steamcommunity.com/profiles/76561198312...   \n",
       "25798        LydiaMorley           http://steamcommunity.com/id/LydiaMorley   \n",
       "\n",
       "                                                 reviews  \n",
       "0      [{'funny': '', 'posted': 'Posted November 5, 2...  \n",
       "1      [{'funny': '', 'posted': 'Posted June 24, 2014...  \n",
       "2      [{'funny': '', 'posted': 'Posted February 3.',...  \n",
       "3      [{'funny': '', 'posted': 'Posted October 14, 2...  \n",
       "4      [{'funny': '3 people found this review funny',...  \n",
       "...                                                  ...  \n",
       "25794  [{'funny': '', 'posted': 'Posted May 31.', 'la...  \n",
       "25795  [{'funny': '', 'posted': 'Posted June 17.', 'l...  \n",
       "25796  [{'funny': '1 person found this review funny',...  \n",
       "25797  [{'funny': '', 'posted': 'Posted July 21.', 'l...  \n",
       "25798  [{'funny': '1 person found this review funny',...  \n",
       "\n",
       "[25799 rows x 3 columns]"
      ]
     },
     "execution_count": 62,
     "metadata": {},
     "output_type": "execute_result"
    }
   ],
   "source": [
    "# Abrimos el archivo json y lo convertimos en un dataframe\n",
    "filas = list()\n",
    "with open(\"data/australian_user_reviews.json\", \"r\",encoding=\"Latin-1\") as archivo:\n",
    "    for linea in archivo.readlines():\n",
    "        filas.append(ast.literal_eval(linea))\n",
    "\n",
    "df_user_reviews = pd.DataFrame(filas)\n",
    "df_user_reviews"
   ]
  },
  {
   "cell_type": "code",
   "execution_count": 63,
   "metadata": {},
   "outputs": [
    {
     "name": "stdout",
     "output_type": "stream",
     "text": [
      "<class 'pandas.core.frame.DataFrame'>\n",
      "RangeIndex: 25799 entries, 0 to 25798\n",
      "Data columns (total 3 columns):\n",
      " #   Column    Non-Null Count  Dtype \n",
      "---  ------    --------------  ----- \n",
      " 0   user_id   25799 non-null  object\n",
      " 1   user_url  25799 non-null  object\n",
      " 2   reviews   25799 non-null  object\n",
      "dtypes: object(3)\n",
      "memory usage: 604.8+ KB\n"
     ]
    },
    {
     "data": {
      "text/plain": [
       "(25799, 3)"
      ]
     },
     "execution_count": 63,
     "metadata": {},
     "output_type": "execute_result"
    }
   ],
   "source": [
    "df_user_reviews.info()\n",
    "df_user_reviews.shape"
   ]
  },
  {
   "cell_type": "code",
   "execution_count": 64,
   "metadata": {},
   "outputs": [
    {
     "data": {
      "text/plain": [
       "user_id     0\n",
       "user_url    0\n",
       "reviews     0\n",
       "dtype: int64"
      ]
     },
     "execution_count": 64,
     "metadata": {},
     "output_type": "execute_result"
    }
   ],
   "source": [
    "df_user_reviews.isnull().sum()"
   ]
  },
  {
   "cell_type": "markdown",
   "metadata": {},
   "source": [
    "### Limpieza de la columna **``items``**"
   ]
  },
  {
   "cell_type": "code",
   "execution_count": 65,
   "metadata": {},
   "outputs": [],
   "source": [
    "def desanidar_reviews_y_limpiar(df):\n",
    "    # Desanidar el diccionario de la columna 'reviews'\n",
    "    df_expanded_reviews = df['reviews'].explode().apply(pd.Series)\n",
    "\n",
    "    # Crear un nuevo DataFrame combinando columnas originales y desanidadas\n",
    "    df_combined = pd.concat([df.drop(['reviews'], axis=1), df_expanded_reviews], axis=1)\n",
    "\n",
    "    # Eliminar filas duplicadas basadas en la columna 'review'\n",
    "    df_result = df_combined.drop_duplicates(subset='review', keep='first')\n",
    "\n",
    "    # Eliminar la última columna redundante\n",
    "    df_result = df_result.iloc[:, :-1]\n",
    "\n",
    "    return df_result\n",
    "\n",
    "# Llamada a la función con tu DataFrame específico\n",
    "df_user_reviews = desanidar_reviews_y_limpiar(df_user_reviews)"
   ]
  },
  {
   "cell_type": "code",
   "execution_count": 66,
   "metadata": {},
   "outputs": [
    {
     "data": {
      "text/html": [
       "<div>\n",
       "<style scoped>\n",
       "    .dataframe tbody tr th:only-of-type {\n",
       "        vertical-align: middle;\n",
       "    }\n",
       "\n",
       "    .dataframe tbody tr th {\n",
       "        vertical-align: top;\n",
       "    }\n",
       "\n",
       "    .dataframe thead th {\n",
       "        text-align: right;\n",
       "    }\n",
       "</style>\n",
       "<table border=\"1\" class=\"dataframe\">\n",
       "  <thead>\n",
       "    <tr style=\"text-align: right;\">\n",
       "      <th></th>\n",
       "      <th>user_id</th>\n",
       "      <th>user_url</th>\n",
       "      <th>funny</th>\n",
       "      <th>posted</th>\n",
       "      <th>last_edited</th>\n",
       "      <th>item_id</th>\n",
       "      <th>helpful</th>\n",
       "      <th>recommend</th>\n",
       "      <th>review</th>\n",
       "    </tr>\n",
       "  </thead>\n",
       "  <tbody>\n",
       "    <tr>\n",
       "      <th>0</th>\n",
       "      <td>76561197970982479</td>\n",
       "      <td>http://steamcommunity.com/profiles/76561197970...</td>\n",
       "      <td></td>\n",
       "      <td>Posted November 5, 2011.</td>\n",
       "      <td></td>\n",
       "      <td>1250</td>\n",
       "      <td>No ratings yet</td>\n",
       "      <td>True</td>\n",
       "      <td>Simple yet with great replayability. In my opi...</td>\n",
       "    </tr>\n",
       "    <tr>\n",
       "      <th>0</th>\n",
       "      <td>76561197970982479</td>\n",
       "      <td>http://steamcommunity.com/profiles/76561197970...</td>\n",
       "      <td></td>\n",
       "      <td>Posted July 15, 2011.</td>\n",
       "      <td></td>\n",
       "      <td>22200</td>\n",
       "      <td>No ratings yet</td>\n",
       "      <td>True</td>\n",
       "      <td>It's unique and worth a playthrough.</td>\n",
       "    </tr>\n",
       "    <tr>\n",
       "      <th>0</th>\n",
       "      <td>76561197970982479</td>\n",
       "      <td>http://steamcommunity.com/profiles/76561197970...</td>\n",
       "      <td></td>\n",
       "      <td>Posted April 21, 2011.</td>\n",
       "      <td></td>\n",
       "      <td>43110</td>\n",
       "      <td>No ratings yet</td>\n",
       "      <td>True</td>\n",
       "      <td>Great atmosphere. The gunplay can be a bit chu...</td>\n",
       "    </tr>\n",
       "    <tr>\n",
       "      <th>1</th>\n",
       "      <td>js41637</td>\n",
       "      <td>http://steamcommunity.com/id/js41637</td>\n",
       "      <td></td>\n",
       "      <td>Posted June 24, 2014.</td>\n",
       "      <td></td>\n",
       "      <td>251610</td>\n",
       "      <td>15 of 20 people (75%) found this review helpful</td>\n",
       "      <td>True</td>\n",
       "      <td>I know what you think when you see this title ...</td>\n",
       "    </tr>\n",
       "    <tr>\n",
       "      <th>1</th>\n",
       "      <td>js41637</td>\n",
       "      <td>http://steamcommunity.com/id/js41637</td>\n",
       "      <td></td>\n",
       "      <td>Posted September 8, 2013.</td>\n",
       "      <td></td>\n",
       "      <td>227300</td>\n",
       "      <td>0 of 1 people (0%) found this review helpful</td>\n",
       "      <td>True</td>\n",
       "      <td>For a simple (it's actually not all that simpl...</td>\n",
       "    </tr>\n",
       "    <tr>\n",
       "      <th>...</th>\n",
       "      <td>...</td>\n",
       "      <td>...</td>\n",
       "      <td>...</td>\n",
       "      <td>...</td>\n",
       "      <td>...</td>\n",
       "      <td>...</td>\n",
       "      <td>...</td>\n",
       "      <td>...</td>\n",
       "      <td>...</td>\n",
       "    </tr>\n",
       "    <tr>\n",
       "      <th>25797</th>\n",
       "      <td>76561198312638244</td>\n",
       "      <td>http://steamcommunity.com/profiles/76561198312...</td>\n",
       "      <td></td>\n",
       "      <td>Posted July 10.</td>\n",
       "      <td></td>\n",
       "      <td>130</td>\n",
       "      <td>No ratings yet</td>\n",
       "      <td>True</td>\n",
       "      <td>if you liked Half life i would really recommen...</td>\n",
       "    </tr>\n",
       "    <tr>\n",
       "      <th>25797</th>\n",
       "      <td>76561198312638244</td>\n",
       "      <td>http://steamcommunity.com/profiles/76561198312...</td>\n",
       "      <td></td>\n",
       "      <td>Posted July 10.</td>\n",
       "      <td></td>\n",
       "      <td>70</td>\n",
       "      <td>No ratings yet</td>\n",
       "      <td>True</td>\n",
       "      <td>a must have classic from steam definitely wort...</td>\n",
       "    </tr>\n",
       "    <tr>\n",
       "      <th>25797</th>\n",
       "      <td>76561198312638244</td>\n",
       "      <td>http://steamcommunity.com/profiles/76561198312...</td>\n",
       "      <td></td>\n",
       "      <td>Posted July 8.</td>\n",
       "      <td></td>\n",
       "      <td>362890</td>\n",
       "      <td>No ratings yet</td>\n",
       "      <td>True</td>\n",
       "      <td>this game is a perfect remake of the original ...</td>\n",
       "    </tr>\n",
       "    <tr>\n",
       "      <th>25798</th>\n",
       "      <td>LydiaMorley</td>\n",
       "      <td>http://steamcommunity.com/id/LydiaMorley</td>\n",
       "      <td>1 person found this review funny</td>\n",
       "      <td>Posted July 3.</td>\n",
       "      <td></td>\n",
       "      <td>273110</td>\n",
       "      <td>1 of 2 people (50%) found this review helpful</td>\n",
       "      <td>True</td>\n",
       "      <td>had so much fun plaing this and collecting res...</td>\n",
       "    </tr>\n",
       "    <tr>\n",
       "      <th>25798</th>\n",
       "      <td>LydiaMorley</td>\n",
       "      <td>http://steamcommunity.com/id/LydiaMorley</td>\n",
       "      <td></td>\n",
       "      <td>Posted July 2.</td>\n",
       "      <td></td>\n",
       "      <td>440</td>\n",
       "      <td>No ratings yet</td>\n",
       "      <td>True</td>\n",
       "      <td>so much fun :D</td>\n",
       "    </tr>\n",
       "  </tbody>\n",
       "</table>\n",
       "<p>55314 rows × 9 columns</p>\n",
       "</div>"
      ],
      "text/plain": [
       "                 user_id                                           user_url  \\\n",
       "0      76561197970982479  http://steamcommunity.com/profiles/76561197970...   \n",
       "0      76561197970982479  http://steamcommunity.com/profiles/76561197970...   \n",
       "0      76561197970982479  http://steamcommunity.com/profiles/76561197970...   \n",
       "1                js41637               http://steamcommunity.com/id/js41637   \n",
       "1                js41637               http://steamcommunity.com/id/js41637   \n",
       "...                  ...                                                ...   \n",
       "25797  76561198312638244  http://steamcommunity.com/profiles/76561198312...   \n",
       "25797  76561198312638244  http://steamcommunity.com/profiles/76561198312...   \n",
       "25797  76561198312638244  http://steamcommunity.com/profiles/76561198312...   \n",
       "25798        LydiaMorley           http://steamcommunity.com/id/LydiaMorley   \n",
       "25798        LydiaMorley           http://steamcommunity.com/id/LydiaMorley   \n",
       "\n",
       "                                  funny                     posted  \\\n",
       "0                                         Posted November 5, 2011.   \n",
       "0                                            Posted July 15, 2011.   \n",
       "0                                           Posted April 21, 2011.   \n",
       "1                                            Posted June 24, 2014.   \n",
       "1                                        Posted September 8, 2013.   \n",
       "...                                 ...                        ...   \n",
       "25797                                              Posted July 10.   \n",
       "25797                                              Posted July 10.   \n",
       "25797                                               Posted July 8.   \n",
       "25798  1 person found this review funny             Posted July 3.   \n",
       "25798                                               Posted July 2.   \n",
       "\n",
       "      last_edited item_id                                          helpful  \\\n",
       "0                    1250                                   No ratings yet   \n",
       "0                   22200                                   No ratings yet   \n",
       "0                   43110                                   No ratings yet   \n",
       "1                  251610  15 of 20 people (75%) found this review helpful   \n",
       "1                  227300     0 of 1 people (0%) found this review helpful   \n",
       "...           ...     ...                                              ...   \n",
       "25797                 130                                   No ratings yet   \n",
       "25797                  70                                   No ratings yet   \n",
       "25797              362890                                   No ratings yet   \n",
       "25798              273110    1 of 2 people (50%) found this review helpful   \n",
       "25798                 440                                   No ratings yet   \n",
       "\n",
       "      recommend                                             review  \n",
       "0          True  Simple yet with great replayability. In my opi...  \n",
       "0          True               It's unique and worth a playthrough.  \n",
       "0          True  Great atmosphere. The gunplay can be a bit chu...  \n",
       "1          True  I know what you think when you see this title ...  \n",
       "1          True  For a simple (it's actually not all that simpl...  \n",
       "...         ...                                                ...  \n",
       "25797      True  if you liked Half life i would really recommen...  \n",
       "25797      True  a must have classic from steam definitely wort...  \n",
       "25797      True  this game is a perfect remake of the original ...  \n",
       "25798      True  had so much fun plaing this and collecting res...  \n",
       "25798      True                                     so much fun :D  \n",
       "\n",
       "[55314 rows x 9 columns]"
      ]
     },
     "execution_count": 66,
     "metadata": {},
     "output_type": "execute_result"
    }
   ],
   "source": [
    "df_user_reviews"
   ]
  },
  {
   "cell_type": "code",
   "execution_count": 67,
   "metadata": {},
   "outputs": [
    {
     "name": "stdout",
     "output_type": "stream",
     "text": [
      "<class 'pandas.core.frame.DataFrame'>\n",
      "Index: 55314 entries, 0 to 25798\n",
      "Data columns (total 9 columns):\n",
      " #   Column       Non-Null Count  Dtype \n",
      "---  ------       --------------  ----- \n",
      " 0   user_id      55314 non-null  object\n",
      " 1   user_url     55314 non-null  object\n",
      " 2   funny        55313 non-null  object\n",
      " 3   posted       55313 non-null  object\n",
      " 4   last_edited  55313 non-null  object\n",
      " 5   item_id      55313 non-null  object\n",
      " 6   helpful      55313 non-null  object\n",
      " 7   recommend    55313 non-null  object\n",
      " 8   review       55313 non-null  object\n",
      "dtypes: object(9)\n",
      "memory usage: 4.2+ MB\n"
     ]
    },
    {
     "data": {
      "text/plain": [
       "user_id        0\n",
       "user_url       0\n",
       "funny          1\n",
       "posted         1\n",
       "last_edited    1\n",
       "item_id        1\n",
       "helpful        1\n",
       "recommend      1\n",
       "review         1\n",
       "dtype: int64"
      ]
     },
     "execution_count": 67,
     "metadata": {},
     "output_type": "execute_result"
    }
   ],
   "source": [
    "df_user_reviews.info()\n",
    "df_user_reviews.isnull().sum()"
   ]
  },
  {
   "cell_type": "code",
   "execution_count": 68,
   "metadata": {},
   "outputs": [],
   "source": [
    "# Filtramos las filas donde 'item_id', 'recommend' y 'review' no son nulos\n",
    "df_user_reviews = df_user_reviews[df_user_reviews['item_id'].notnull() & \n",
    "                                  df_user_reviews['recommend'].notnull() & \n",
    "                                  df_user_reviews['review'].notnull()]"
   ]
  },
  {
   "cell_type": "code",
   "execution_count": 69,
   "metadata": {},
   "outputs": [
    {
     "name": "stderr",
     "output_type": "stream",
     "text": [
      "C:\\Users\\57301\\AppData\\Local\\Temp\\ipykernel_10604\\2199371940.py:2: SettingWithCopyWarning: \n",
      "A value is trying to be set on a copy of a slice from a DataFrame\n",
      "\n",
      "See the caveats in the documentation: https://pandas.pydata.org/pandas-docs/stable/user_guide/indexing.html#returning-a-view-versus-a-copy\n",
      "  df_user_reviews.drop(['funny', 'last_edited', 'helpful'], axis=1, inplace=True)\n"
     ]
    },
    {
     "data": {
      "text/plain": [
       "user_id      0\n",
       "user_url     0\n",
       "posted       0\n",
       "item_id      0\n",
       "recommend    0\n",
       "review       0\n",
       "dtype: int64"
      ]
     },
     "execution_count": 69,
     "metadata": {},
     "output_type": "execute_result"
    }
   ],
   "source": [
    "#eliminamos \"funny\", \"last edited y \"helpful\"\n",
    "df_user_reviews.drop(['funny', 'last_edited', 'helpful'], axis=1, inplace=True)\n",
    "df_user_reviews.isna().sum()"
   ]
  },
  {
   "cell_type": "markdown",
   "metadata": {},
   "source": [
    "### Limpieza de la columna **``posted``**"
   ]
  },
  {
   "cell_type": "code",
   "execution_count": 70,
   "metadata": {},
   "outputs": [
    {
     "name": "stderr",
     "output_type": "stream",
     "text": [
      "C:\\Users\\57301\\AppData\\Local\\Temp\\ipykernel_10604\\308294874.py:2: SettingWithCopyWarning: \n",
      "A value is trying to be set on a copy of a slice from a DataFrame.\n",
      "Try using .loc[row_indexer,col_indexer] = value instead\n",
      "\n",
      "See the caveats in the documentation: https://pandas.pydata.org/pandas-docs/stable/user_guide/indexing.html#returning-a-view-versus-a-copy\n",
      "  df_user_reviews.loc[:, 'year'] = df_user_reviews['posted'].str.extract(r'(\\d{4})')\n"
     ]
    }
   ],
   "source": [
    "# Extraer el año de la columna 'posted' y almacenarlo en una nueva columna 'year'\n",
    "df_user_reviews.loc[:, 'year'] = df_user_reviews['posted'].str.extract(r'(\\d{4})')\n",
    "\n",
    "# Eliminar la columna 'posted' del DataFrame df_reviews_user\n",
    "df_user_reviews = df_user_reviews.drop('posted', axis=1)"
   ]
  },
  {
   "cell_type": "code",
   "execution_count": 71,
   "metadata": {},
   "outputs": [
    {
     "data": {
      "text/plain": [
       "array(['2011', '2014', '2013', nan, '2015', '2012', '2010'], dtype=object)"
      ]
     },
     "execution_count": 71,
     "metadata": {},
     "output_type": "execute_result"
    }
   ],
   "source": [
    "unique_years = df_user_reviews['year'].unique()\n",
    "unique_years"
   ]
  },
  {
   "cell_type": "markdown",
   "metadata": {},
   "source": [
    "Estos porcentajes indican la distribución de los años en la columna **`year`**. se puedes observar que la mayoría de los registros están concentrados en los años **`2014`** y **`2015`**, mientras que los años anteriores tienen una presencia más baja. Esta información es útil para entender la composición temporal de los datos y es importante para el posterior análisis exploratorio que se realizara. \n",
    "\n",
    "\n",
    "\n",
    "Se puede interpretar que:\n",
    "\n",
    "\n",
    "\n",
    "* Para el año 2014, el 44.91% de los registros tienen ese año.\n",
    "* Para el año 2015, el 37.70% de los registros tienen ese año.\n",
    "* Para el año 2013, el 13.69% de los registros tienen ese año.\n",
    "* Para el año 2012, el 2.45% de los registros tienen ese año.\n",
    "* Para el año 2011, el 1.11% de los registros tienen ese año.\n",
    "* Para el año 2010, el 0.14% de los registros tienen ese año."
   ]
  },
  {
   "cell_type": "code",
   "execution_count": 72,
   "metadata": {},
   "outputs": [
    {
     "data": {
      "text/plain": [
       "year\n",
       "2014    0.449068\n",
       "2015    0.376969\n",
       "2013    0.136931\n",
       "2012    0.024506\n",
       "2011    0.011085\n",
       "2010    0.001440\n",
       "Name: proportion, dtype: float64"
      ]
     },
     "execution_count": 72,
     "metadata": {},
     "output_type": "execute_result"
    }
   ],
   "source": [
    "# Calcular los value counts de la columna 'year'\n",
    "year_counts = df_user_reviews['year'].value_counts(normalize=True)\n",
    "year_counts"
   ]
  },
  {
   "cell_type": "markdown",
   "metadata": {},
   "source": [
    "La expresión **`df_user_reviews[\"year\"].isna().value_counts()`** la utilizamos para contar la cantidad de valores nulos **`(NaN)`** y no nulos en la columna **`year`**, se puede interpretar que  hay **`45,826 `** registros con valores en la columna **`year`** y **`9,487`** registros sin valores **`(valores nulos)`** en la misma columna. "
   ]
  },
  {
   "cell_type": "code",
   "execution_count": 73,
   "metadata": {},
   "outputs": [
    {
     "data": {
      "text/plain": [
       "year\n",
       "False    45826\n",
       "True      9487\n",
       "Name: count, dtype: int64"
      ]
     },
     "execution_count": 73,
     "metadata": {},
     "output_type": "execute_result"
    }
   ],
   "source": [
    "df_user_reviews[\"year\"].isna().value_counts()"
   ]
  },
  {
   "cell_type": "code",
   "execution_count": 74,
   "metadata": {},
   "outputs": [
    {
     "data": {
      "text/plain": [
       "user_id         0\n",
       "user_url        0\n",
       "item_id         0\n",
       "recommend       0\n",
       "review          0\n",
       "year         9487\n",
       "dtype: int64"
      ]
     },
     "execution_count": 74,
     "metadata": {},
     "output_type": "execute_result"
    }
   ],
   "source": [
    "df_user_reviews.isnull().sum()"
   ]
  },
  {
   "cell_type": "markdown",
   "metadata": {},
   "source": [
    "llenamos los valores faltantes en la columna **`year`** con la mediana utilizando la función **`impute_year`**, realizando una imputación de datos."
   ]
  },
  {
   "cell_type": "code",
   "execution_count": 75,
   "metadata": {},
   "outputs": [],
   "source": [
    "def impute_year (df, column_name):\n",
    "    # Calcula la mediana de la columna\n",
    "    median_value = df[column_name].median()\n",
    "    \n",
    "    # Rellena los valores faltantes con la mediana\n",
    "    df[column_name].fillna(median_value, inplace=True)\n",
    "\n",
    "    # Convierte la columna a tipo entero\n",
    "    df[column_name] = df[column_name].astype(int)\n",
    "\n",
    "# Utiliza la función para rellenar los datos faltantes en la columna 'year'\n",
    "impute_year(df_user_reviews, 'year')"
   ]
  },
  {
   "cell_type": "code",
   "execution_count": 76,
   "metadata": {},
   "outputs": [
    {
     "data": {
      "text/plain": [
       "0"
      ]
     },
     "execution_count": 76,
     "metadata": {},
     "output_type": "execute_result"
    }
   ],
   "source": [
    "df_user_reviews.year.isna().sum()"
   ]
  },
  {
   "cell_type": "code",
   "execution_count": 77,
   "metadata": {},
   "outputs": [
    {
     "data": {
      "text/html": [
       "<div>\n",
       "<style scoped>\n",
       "    .dataframe tbody tr th:only-of-type {\n",
       "        vertical-align: middle;\n",
       "    }\n",
       "\n",
       "    .dataframe tbody tr th {\n",
       "        vertical-align: top;\n",
       "    }\n",
       "\n",
       "    .dataframe thead th {\n",
       "        text-align: right;\n",
       "    }\n",
       "</style>\n",
       "<table border=\"1\" class=\"dataframe\">\n",
       "  <thead>\n",
       "    <tr style=\"text-align: right;\">\n",
       "      <th></th>\n",
       "      <th>user_id</th>\n",
       "      <th>user_url</th>\n",
       "      <th>item_id</th>\n",
       "      <th>recommend</th>\n",
       "      <th>review</th>\n",
       "      <th>year</th>\n",
       "    </tr>\n",
       "  </thead>\n",
       "  <tbody>\n",
       "    <tr>\n",
       "      <th>0</th>\n",
       "      <td>76561197970982479</td>\n",
       "      <td>http://steamcommunity.com/profiles/76561197970...</td>\n",
       "      <td>1250</td>\n",
       "      <td>True</td>\n",
       "      <td>Simple yet with great replayability. In my opi...</td>\n",
       "      <td>2011</td>\n",
       "    </tr>\n",
       "    <tr>\n",
       "      <th>1</th>\n",
       "      <td>76561197970982479</td>\n",
       "      <td>http://steamcommunity.com/profiles/76561197970...</td>\n",
       "      <td>22200</td>\n",
       "      <td>True</td>\n",
       "      <td>It's unique and worth a playthrough.</td>\n",
       "      <td>2011</td>\n",
       "    </tr>\n",
       "    <tr>\n",
       "      <th>2</th>\n",
       "      <td>76561197970982479</td>\n",
       "      <td>http://steamcommunity.com/profiles/76561197970...</td>\n",
       "      <td>43110</td>\n",
       "      <td>True</td>\n",
       "      <td>Great atmosphere. The gunplay can be a bit chu...</td>\n",
       "      <td>2011</td>\n",
       "    </tr>\n",
       "    <tr>\n",
       "      <th>3</th>\n",
       "      <td>js41637</td>\n",
       "      <td>http://steamcommunity.com/id/js41637</td>\n",
       "      <td>251610</td>\n",
       "      <td>True</td>\n",
       "      <td>I know what you think when you see this title ...</td>\n",
       "      <td>2014</td>\n",
       "    </tr>\n",
       "    <tr>\n",
       "      <th>4</th>\n",
       "      <td>js41637</td>\n",
       "      <td>http://steamcommunity.com/id/js41637</td>\n",
       "      <td>227300</td>\n",
       "      <td>True</td>\n",
       "      <td>For a simple (it's actually not all that simpl...</td>\n",
       "      <td>2013</td>\n",
       "    </tr>\n",
       "    <tr>\n",
       "      <th>...</th>\n",
       "      <td>...</td>\n",
       "      <td>...</td>\n",
       "      <td>...</td>\n",
       "      <td>...</td>\n",
       "      <td>...</td>\n",
       "      <td>...</td>\n",
       "    </tr>\n",
       "    <tr>\n",
       "      <th>55308</th>\n",
       "      <td>76561198312638244</td>\n",
       "      <td>http://steamcommunity.com/profiles/76561198312...</td>\n",
       "      <td>130</td>\n",
       "      <td>True</td>\n",
       "      <td>if you liked Half life i would really recommen...</td>\n",
       "      <td>2014</td>\n",
       "    </tr>\n",
       "    <tr>\n",
       "      <th>55309</th>\n",
       "      <td>76561198312638244</td>\n",
       "      <td>http://steamcommunity.com/profiles/76561198312...</td>\n",
       "      <td>70</td>\n",
       "      <td>True</td>\n",
       "      <td>a must have classic from steam definitely wort...</td>\n",
       "      <td>2014</td>\n",
       "    </tr>\n",
       "    <tr>\n",
       "      <th>55310</th>\n",
       "      <td>76561198312638244</td>\n",
       "      <td>http://steamcommunity.com/profiles/76561198312...</td>\n",
       "      <td>362890</td>\n",
       "      <td>True</td>\n",
       "      <td>this game is a perfect remake of the original ...</td>\n",
       "      <td>2014</td>\n",
       "    </tr>\n",
       "    <tr>\n",
       "      <th>55311</th>\n",
       "      <td>LydiaMorley</td>\n",
       "      <td>http://steamcommunity.com/id/LydiaMorley</td>\n",
       "      <td>273110</td>\n",
       "      <td>True</td>\n",
       "      <td>had so much fun plaing this and collecting res...</td>\n",
       "      <td>2014</td>\n",
       "    </tr>\n",
       "    <tr>\n",
       "      <th>55312</th>\n",
       "      <td>LydiaMorley</td>\n",
       "      <td>http://steamcommunity.com/id/LydiaMorley</td>\n",
       "      <td>440</td>\n",
       "      <td>True</td>\n",
       "      <td>so much fun :D</td>\n",
       "      <td>2014</td>\n",
       "    </tr>\n",
       "  </tbody>\n",
       "</table>\n",
       "<p>55313 rows × 6 columns</p>\n",
       "</div>"
      ],
      "text/plain": [
       "                 user_id                                           user_url  \\\n",
       "0      76561197970982479  http://steamcommunity.com/profiles/76561197970...   \n",
       "1      76561197970982479  http://steamcommunity.com/profiles/76561197970...   \n",
       "2      76561197970982479  http://steamcommunity.com/profiles/76561197970...   \n",
       "3                js41637               http://steamcommunity.com/id/js41637   \n",
       "4                js41637               http://steamcommunity.com/id/js41637   \n",
       "...                  ...                                                ...   \n",
       "55308  76561198312638244  http://steamcommunity.com/profiles/76561198312...   \n",
       "55309  76561198312638244  http://steamcommunity.com/profiles/76561198312...   \n",
       "55310  76561198312638244  http://steamcommunity.com/profiles/76561198312...   \n",
       "55311        LydiaMorley           http://steamcommunity.com/id/LydiaMorley   \n",
       "55312        LydiaMorley           http://steamcommunity.com/id/LydiaMorley   \n",
       "\n",
       "      item_id recommend                                             review  \\\n",
       "0        1250      True  Simple yet with great replayability. In my opi...   \n",
       "1       22200      True               It's unique and worth a playthrough.   \n",
       "2       43110      True  Great atmosphere. The gunplay can be a bit chu...   \n",
       "3      251610      True  I know what you think when you see this title ...   \n",
       "4      227300      True  For a simple (it's actually not all that simpl...   \n",
       "...       ...       ...                                                ...   \n",
       "55308     130      True  if you liked Half life i would really recommen...   \n",
       "55309      70      True  a must have classic from steam definitely wort...   \n",
       "55310  362890      True  this game is a perfect remake of the original ...   \n",
       "55311  273110      True  had so much fun plaing this and collecting res...   \n",
       "55312     440      True                                     so much fun :D   \n",
       "\n",
       "       year  \n",
       "0      2011  \n",
       "1      2011  \n",
       "2      2011  \n",
       "3      2014  \n",
       "4      2013  \n",
       "...     ...  \n",
       "55308  2014  \n",
       "55309  2014  \n",
       "55310  2014  \n",
       "55311  2014  \n",
       "55312  2014  \n",
       "\n",
       "[55313 rows x 6 columns]"
      ]
     },
     "execution_count": 77,
     "metadata": {},
     "output_type": "execute_result"
    }
   ],
   "source": [
    "# reseter el indice\n",
    "df_user_reviews.reset_index(drop=True)"
   ]
  },
  {
   "cell_type": "code",
   "execution_count": 78,
   "metadata": {},
   "outputs": [
    {
     "name": "stdout",
     "output_type": "stream",
     "text": [
      "<class 'pandas.core.frame.DataFrame'>\n",
      "Index: 55313 entries, 0 to 25798\n",
      "Data columns (total 6 columns):\n",
      " #   Column     Non-Null Count  Dtype \n",
      "---  ------     --------------  ----- \n",
      " 0   user_id    55313 non-null  object\n",
      " 1   user_url   55313 non-null  object\n",
      " 2   item_id    55313 non-null  object\n",
      " 3   recommend  55313 non-null  object\n",
      " 4   review     55313 non-null  object\n",
      " 5   year       55313 non-null  int32 \n",
      "dtypes: int32(1), object(5)\n",
      "memory usage: 2.7+ MB\n"
     ]
    }
   ],
   "source": [
    "df_user_reviews.info()"
   ]
  },
  {
   "cell_type": "code",
   "execution_count": 79,
   "metadata": {},
   "outputs": [],
   "source": [
    "# Filtramos las filas donde 'item_id', 'recommend' y 'review' no son nulos\n",
    "df_user_reviews = df_user_reviews[df_user_reviews['item_id'].notna() & \n",
    "                                  df_user_reviews['recommend'].notna() & \n",
    "                                  df_user_reviews['review'].notna()]"
   ]
  },
  {
   "cell_type": "code",
   "execution_count": 80,
   "metadata": {},
   "outputs": [
    {
     "data": {
      "text/plain": [
       "user_id      0\n",
       "user_url     0\n",
       "item_id      0\n",
       "recommend    0\n",
       "review       0\n",
       "year         0\n",
       "dtype: int64"
      ]
     },
     "execution_count": 80,
     "metadata": {},
     "output_type": "execute_result"
    }
   ],
   "source": [
    "df_user_reviews.isnull().sum() "
   ]
  },
  {
   "cell_type": "markdown",
   "metadata": {},
   "source": [
    "### Limpieza a la columna **``review``**\n",
    "Aplicamos análisis de ***sentimiento*** a la columna **`review`** con **NLP** para facilitar el trabajo de los modelos de machine learning y el análisis de datos."
   ]
  },
  {
   "cell_type": "code",
   "execution_count": 81,
   "metadata": {},
   "outputs": [
    {
     "name": "stderr",
     "output_type": "stream",
     "text": [
      "[nltk_data] Downloading package vader_lexicon to\n",
      "[nltk_data]     C:\\Users\\57301\\AppData\\Roaming\\nltk_data...\n",
      "[nltk_data]   Package vader_lexicon is already up-to-date!\n"
     ]
    }
   ],
   "source": [
    "# Descargar el léxico de VADER\n",
    "nltk.download('vader_lexicon')\n",
    "\n",
    "# Crear un analizador de sentimientos\n",
    "sia = SentimentIntensityAnalyzer()\n",
    "\n",
    "# Función para aplicar análisis de sentimientos a las reseñas\n",
    "def sentiment(text):\n",
    "    # Si la reseña está ausente, devolver '1'\n",
    "    if pd.isnull(text):\n",
    "        return '1'\n",
    "    # Obtener las puntuaciones de sentimiento para el texto\n",
    "    sentiment_scores = sia.polarity_scores(text)\n",
    "    # Obtener la puntuación compuesta\n",
    "    compound_score = sentiment_scores['compound']\n",
    "    # Categorizar el sentimiento basado en la puntuación compuesta\n",
    "    if compound_score < 0:\n",
    "        return '0'\n",
    "    elif compound_score == 0:\n",
    "        return '1'\n",
    "    else:\n",
    "        return '2'\n",
    "\n",
    "# Aplicar la función a la columna 'review' y reemplazar la columna 'review'\n",
    "df_user_reviews['sentiment_analysis'] = df_user_reviews['review'].apply(sentiment)"
   ]
  },
  {
   "cell_type": "markdown",
   "metadata": {},
   "source": [
    "Debe tomar el valor **`0`** si es ***malo***, **`1`** si es ***neutral*** y **`2`** si es ***positivo***."
   ]
  },
  {
   "cell_type": "code",
   "execution_count": 82,
   "metadata": {},
   "outputs": [
    {
     "data": {
      "text/plain": [
       "sentiment_analysis\n",
       "2    34926\n",
       "1    10833\n",
       "0     9554\n",
       "Name: count, dtype: int64"
      ]
     },
     "execution_count": 82,
     "metadata": {},
     "output_type": "execute_result"
    }
   ],
   "source": [
    "# Contar la cantidad de cada valor en la columna 'review'\n",
    "df_user_reviews['sentiment_analysis'].value_counts()"
   ]
  },
  {
   "cell_type": "code",
   "execution_count": 83,
   "metadata": {},
   "outputs": [
    {
     "data": {
      "text/plain": [
       "sentiment_analysis\n",
       "2    34926\n",
       "1    10833\n",
       "0     9554\n",
       "Name: count, dtype: int64"
      ]
     },
     "execution_count": 83,
     "metadata": {},
     "output_type": "execute_result"
    }
   ],
   "source": [
    "# Contar la cantidad de cada valor en la columna 'review'\n",
    "df_user_reviews['sentiment_analysis'].value_counts()"
   ]
  },
  {
   "cell_type": "code",
   "execution_count": 84,
   "metadata": {},
   "outputs": [],
   "source": [
    "def normalize(df, column_name):\n",
    "    # La función explode transforma cada elemento de una lista en una fila, replicando los valores del índice.\n",
    "    exploded_df = df.explode(column_name)\n",
    "    \n",
    "    # pd.json_normalize es una función de pandas que normaliza datos semi-estructurados JSON en un dataframe plano.\n",
    "    normalized_df = pd.json_normalize(exploded_df[column_name])\n",
    "    \n",
    "    # reset_index con el parámetro drop=True descarta el índice actual y reemplaza con un índice por defecto (0, 1, 2, ...).\n",
    "    exploded_df.reset_index(drop=True, inplace=True)\n",
    "    normalized_df.reset_index(drop=True, inplace=True)\n",
    "    \n",
    "    # pd.concat concatena los dataframes a lo largo de un eje. Aquí se está eliminando la columna especificada del dataframe original y luego se concatena con el dataframe normalizado.\n",
    "    result_df = pd.concat([exploded_df.drop(column_name, axis=1), normalized_df], axis=1)\n",
    "    \n",
    "    return result_df\n",
    "\n",
    "# Uso de la función con el DataFrame df_user_reviews y la columna 'review'\n",
    "df_user_reviews = normalize(df_user_reviews, 'review')"
   ]
  },
  {
   "cell_type": "code",
   "execution_count": 85,
   "metadata": {},
   "outputs": [
    {
     "data": {
      "text/plain": [
       "user_id               0\n",
       "user_url              0\n",
       "item_id               0\n",
       "recommend             0\n",
       "year                  0\n",
       "sentiment_analysis    0\n",
       "dtype: int64"
      ]
     },
     "execution_count": 85,
     "metadata": {},
     "output_type": "execute_result"
    }
   ],
   "source": [
    "df_user_reviews.isna().sum()"
   ]
  },
  {
   "cell_type": "code",
   "execution_count": 86,
   "metadata": {},
   "outputs": [
    {
     "data": {
      "text/html": [
       "<div>\n",
       "<style scoped>\n",
       "    .dataframe tbody tr th:only-of-type {\n",
       "        vertical-align: middle;\n",
       "    }\n",
       "\n",
       "    .dataframe tbody tr th {\n",
       "        vertical-align: top;\n",
       "    }\n",
       "\n",
       "    .dataframe thead th {\n",
       "        text-align: right;\n",
       "    }\n",
       "</style>\n",
       "<table border=\"1\" class=\"dataframe\">\n",
       "  <thead>\n",
       "    <tr style=\"text-align: right;\">\n",
       "      <th></th>\n",
       "      <th>user_id</th>\n",
       "      <th>user_url</th>\n",
       "      <th>item_id</th>\n",
       "      <th>recommend</th>\n",
       "      <th>year</th>\n",
       "      <th>sentiment_analysis</th>\n",
       "    </tr>\n",
       "  </thead>\n",
       "  <tbody>\n",
       "    <tr>\n",
       "      <th>29853</th>\n",
       "      <td>Hype_R</td>\n",
       "      <td>http://steamcommunity.com/id/Hype_R</td>\n",
       "      <td>10</td>\n",
       "      <td>True</td>\n",
       "      <td>2014</td>\n",
       "      <td>2</td>\n",
       "    </tr>\n",
       "    <tr>\n",
       "      <th>22237</th>\n",
       "      <td>lanatbeonakeehsasamokoshtan</td>\n",
       "      <td>http://steamcommunity.com/id/lanatbeonakeehsas...</td>\n",
       "      <td>10</td>\n",
       "      <td>True</td>\n",
       "      <td>2014</td>\n",
       "      <td>2</td>\n",
       "    </tr>\n",
       "    <tr>\n",
       "      <th>52416</th>\n",
       "      <td>76561198089673598</td>\n",
       "      <td>http://steamcommunity.com/profiles/76561198089...</td>\n",
       "      <td>10</td>\n",
       "      <td>True</td>\n",
       "      <td>2014</td>\n",
       "      <td>1</td>\n",
       "    </tr>\n",
       "    <tr>\n",
       "      <th>54946</th>\n",
       "      <td>nottynotty</td>\n",
       "      <td>http://steamcommunity.com/id/nottynotty</td>\n",
       "      <td>10</td>\n",
       "      <td>True</td>\n",
       "      <td>2014</td>\n",
       "      <td>1</td>\n",
       "    </tr>\n",
       "    <tr>\n",
       "      <th>36294</th>\n",
       "      <td>76561198134580826</td>\n",
       "      <td>http://steamcommunity.com/profiles/76561198134...</td>\n",
       "      <td>10</td>\n",
       "      <td>True</td>\n",
       "      <td>2014</td>\n",
       "      <td>2</td>\n",
       "    </tr>\n",
       "  </tbody>\n",
       "</table>\n",
       "</div>"
      ],
      "text/plain": [
       "                           user_id  \\\n",
       "29853                       Hype_R   \n",
       "22237  lanatbeonakeehsasamokoshtan   \n",
       "52416            76561198089673598   \n",
       "54946                   nottynotty   \n",
       "36294            76561198134580826   \n",
       "\n",
       "                                                user_url  item_id  recommend  \\\n",
       "29853                http://steamcommunity.com/id/Hype_R       10       True   \n",
       "22237  http://steamcommunity.com/id/lanatbeonakeehsas...       10       True   \n",
       "52416  http://steamcommunity.com/profiles/76561198089...       10       True   \n",
       "54946            http://steamcommunity.com/id/nottynotty       10       True   \n",
       "36294  http://steamcommunity.com/profiles/76561198134...       10       True   \n",
       "\n",
       "       year  sentiment_analysis  \n",
       "29853  2014                   2  \n",
       "22237  2014                   2  \n",
       "52416  2014                   1  \n",
       "54946  2014                   1  \n",
       "36294  2014                   2  "
      ]
     },
     "execution_count": 86,
     "metadata": {},
     "output_type": "execute_result"
    }
   ],
   "source": [
    "def transform(df):\n",
    "    # Rellenar los valores nulos con 'NotData'\n",
    "    df.fillna('NotData', inplace=True)\n",
    "\n",
    "    # Reemplazar 'NotData' con NaN en la columna 'item_id' y luego rellenar con 0\n",
    "    df['item_id'] = df['item_id'].replace('NotData', np.nan)\n",
    "    df['item_id'] = df['item_id'].fillna(0)\n",
    "\n",
    "    # Convertir la columna sentiment_analysis a int\n",
    "    df['sentiment_analysis'] = df['sentiment_analysis'].astype(int)\n",
    "\n",
    "    # Convertir la columna 'item_id' a int\n",
    "    df['item_id'] = df['item_id'].astype(int)\n",
    "\n",
    "    # Convertir la columna 'recommend' a bool\n",
    "    df = df.astype({'recommend': 'bool'})\n",
    "\n",
    "    # Convertir las columnas 'user_id' y 'user_url' a string\n",
    "    df = df.astype({'user_id': 'string', 'user_url': 'string'})\n",
    "\n",
    "    # Ordenar el DataFrame por 'item_id'\n",
    "    df = df.sort_values('item_id')\n",
    "\n",
    "    return df\n",
    "\n",
    "# Aplicar la función transform al DataFrame\n",
    "df_user_reviews = transform(df_user_reviews.copy())\n",
    "df_user_reviews.head()"
   ]
  },
  {
   "cell_type": "code",
   "execution_count": 87,
   "metadata": {},
   "outputs": [],
   "source": [
    "df_user_reviews.reset_index(drop=True, inplace=True)"
   ]
  },
  {
   "cell_type": "code",
   "execution_count": 88,
   "metadata": {},
   "outputs": [
    {
     "data": {
      "text/html": [
       "<div>\n",
       "<style scoped>\n",
       "    .dataframe tbody tr th:only-of-type {\n",
       "        vertical-align: middle;\n",
       "    }\n",
       "\n",
       "    .dataframe tbody tr th {\n",
       "        vertical-align: top;\n",
       "    }\n",
       "\n",
       "    .dataframe thead th {\n",
       "        text-align: right;\n",
       "    }\n",
       "</style>\n",
       "<table border=\"1\" class=\"dataframe\">\n",
       "  <thead>\n",
       "    <tr style=\"text-align: right;\">\n",
       "      <th></th>\n",
       "      <th>user_id</th>\n",
       "      <th>user_url</th>\n",
       "      <th>item_id</th>\n",
       "      <th>recommend</th>\n",
       "      <th>year</th>\n",
       "      <th>sentiment_analysis</th>\n",
       "    </tr>\n",
       "  </thead>\n",
       "  <tbody>\n",
       "    <tr>\n",
       "      <th>0</th>\n",
       "      <td>Hype_R</td>\n",
       "      <td>http://steamcommunity.com/id/Hype_R</td>\n",
       "      <td>10</td>\n",
       "      <td>True</td>\n",
       "      <td>2014</td>\n",
       "      <td>2</td>\n",
       "    </tr>\n",
       "    <tr>\n",
       "      <th>1</th>\n",
       "      <td>lanatbeonakeehsasamokoshtan</td>\n",
       "      <td>http://steamcommunity.com/id/lanatbeonakeehsas...</td>\n",
       "      <td>10</td>\n",
       "      <td>True</td>\n",
       "      <td>2014</td>\n",
       "      <td>2</td>\n",
       "    </tr>\n",
       "    <tr>\n",
       "      <th>2</th>\n",
       "      <td>76561198089673598</td>\n",
       "      <td>http://steamcommunity.com/profiles/76561198089...</td>\n",
       "      <td>10</td>\n",
       "      <td>True</td>\n",
       "      <td>2014</td>\n",
       "      <td>1</td>\n",
       "    </tr>\n",
       "    <tr>\n",
       "      <th>3</th>\n",
       "      <td>nottynotty</td>\n",
       "      <td>http://steamcommunity.com/id/nottynotty</td>\n",
       "      <td>10</td>\n",
       "      <td>True</td>\n",
       "      <td>2014</td>\n",
       "      <td>1</td>\n",
       "    </tr>\n",
       "    <tr>\n",
       "      <th>4</th>\n",
       "      <td>76561198134580826</td>\n",
       "      <td>http://steamcommunity.com/profiles/76561198134...</td>\n",
       "      <td>10</td>\n",
       "      <td>True</td>\n",
       "      <td>2014</td>\n",
       "      <td>2</td>\n",
       "    </tr>\n",
       "    <tr>\n",
       "      <th>...</th>\n",
       "      <td>...</td>\n",
       "      <td>...</td>\n",
       "      <td>...</td>\n",
       "      <td>...</td>\n",
       "      <td>...</td>\n",
       "      <td>...</td>\n",
       "    </tr>\n",
       "    <tr>\n",
       "      <th>55308</th>\n",
       "      <td>76561198075141715</td>\n",
       "      <td>http://steamcommunity.com/profiles/76561198075...</td>\n",
       "      <td>521430</td>\n",
       "      <td>True</td>\n",
       "      <td>2014</td>\n",
       "      <td>2</td>\n",
       "    </tr>\n",
       "    <tr>\n",
       "      <th>55309</th>\n",
       "      <td>76561198071122396</td>\n",
       "      <td>http://steamcommunity.com/profiles/76561198071...</td>\n",
       "      <td>521570</td>\n",
       "      <td>True</td>\n",
       "      <td>2014</td>\n",
       "      <td>0</td>\n",
       "    </tr>\n",
       "    <tr>\n",
       "      <th>55310</th>\n",
       "      <td>TfhuAWGscvg</td>\n",
       "      <td>http://steamcommunity.com/id/TfhuAWGscvg</td>\n",
       "      <td>521570</td>\n",
       "      <td>True</td>\n",
       "      <td>2014</td>\n",
       "      <td>0</td>\n",
       "    </tr>\n",
       "    <tr>\n",
       "      <th>55311</th>\n",
       "      <td>mikeyg74</td>\n",
       "      <td>http://steamcommunity.com/id/mikeyg74</td>\n",
       "      <td>521990</td>\n",
       "      <td>True</td>\n",
       "      <td>2014</td>\n",
       "      <td>2</td>\n",
       "    </tr>\n",
       "    <tr>\n",
       "      <th>55312</th>\n",
       "      <td>Limo1300</td>\n",
       "      <td>http://steamcommunity.com/id/Limo1300</td>\n",
       "      <td>527340</td>\n",
       "      <td>True</td>\n",
       "      <td>2014</td>\n",
       "      <td>1</td>\n",
       "    </tr>\n",
       "  </tbody>\n",
       "</table>\n",
       "<p>55313 rows × 6 columns</p>\n",
       "</div>"
      ],
      "text/plain": [
       "                           user_id  \\\n",
       "0                           Hype_R   \n",
       "1      lanatbeonakeehsasamokoshtan   \n",
       "2                76561198089673598   \n",
       "3                       nottynotty   \n",
       "4                76561198134580826   \n",
       "...                            ...   \n",
       "55308            76561198075141715   \n",
       "55309            76561198071122396   \n",
       "55310                  TfhuAWGscvg   \n",
       "55311                     mikeyg74   \n",
       "55312                     Limo1300   \n",
       "\n",
       "                                                user_url  item_id  recommend  \\\n",
       "0                    http://steamcommunity.com/id/Hype_R       10       True   \n",
       "1      http://steamcommunity.com/id/lanatbeonakeehsas...       10       True   \n",
       "2      http://steamcommunity.com/profiles/76561198089...       10       True   \n",
       "3                http://steamcommunity.com/id/nottynotty       10       True   \n",
       "4      http://steamcommunity.com/profiles/76561198134...       10       True   \n",
       "...                                                  ...      ...        ...   \n",
       "55308  http://steamcommunity.com/profiles/76561198075...   521430       True   \n",
       "55309  http://steamcommunity.com/profiles/76561198071...   521570       True   \n",
       "55310           http://steamcommunity.com/id/TfhuAWGscvg   521570       True   \n",
       "55311              http://steamcommunity.com/id/mikeyg74   521990       True   \n",
       "55312              http://steamcommunity.com/id/Limo1300   527340       True   \n",
       "\n",
       "       year  sentiment_analysis  \n",
       "0      2014                   2  \n",
       "1      2014                   2  \n",
       "2      2014                   1  \n",
       "3      2014                   1  \n",
       "4      2014                   2  \n",
       "...     ...                 ...  \n",
       "55308  2014                   2  \n",
       "55309  2014                   0  \n",
       "55310  2014                   0  \n",
       "55311  2014                   2  \n",
       "55312  2014                   1  \n",
       "\n",
       "[55313 rows x 6 columns]"
      ]
     },
     "execution_count": 88,
     "metadata": {},
     "output_type": "execute_result"
    }
   ],
   "source": [
    "df_user_reviews"
   ]
  },
  {
   "cell_type": "code",
   "execution_count": 89,
   "metadata": {},
   "outputs": [
    {
     "name": "stdout",
     "output_type": "stream",
     "text": [
      "<class 'pandas.core.frame.DataFrame'>\n",
      "RangeIndex: 55313 entries, 0 to 55312\n",
      "Data columns (total 6 columns):\n",
      " #   Column              Non-Null Count  Dtype \n",
      "---  ------              --------------  ----- \n",
      " 0   user_id             55313 non-null  string\n",
      " 1   user_url            55313 non-null  string\n",
      " 2   item_id             55313 non-null  int32 \n",
      " 3   recommend           55313 non-null  bool  \n",
      " 4   year                55313 non-null  int32 \n",
      " 5   sentiment_analysis  55313 non-null  int32 \n",
      "dtypes: bool(1), int32(3), string(2)\n",
      "memory usage: 1.5 MB\n"
     ]
    }
   ],
   "source": [
    "df_user_reviews.info()"
   ]
  },
  {
   "cell_type": "markdown",
   "metadata": {},
   "source": [
    "Convertimos el **`DataFrame`** **`df_users_items`** a un archivo **`Parquet`** utilizando el método **`to_parquet()`**"
   ]
  },
  {
   "cell_type": "code",
   "execution_count": 90,
   "metadata": {},
   "outputs": [],
   "source": [
    "df_user_reviews.to_parquet('reviews.parquet')"
   ]
  }
 ],
 "metadata": {
  "kernelspec": {
   "display_name": "Python 3",
   "language": "python",
   "name": "python3"
  },
  "language_info": {
   "codemirror_mode": {
    "name": "ipython",
    "version": 3
   },
   "file_extension": ".py",
   "mimetype": "text/x-python",
   "name": "python",
   "nbconvert_exporter": "python",
   "pygments_lexer": "ipython3",
   "version": "3.11.4"
  }
 },
 "nbformat": 4,
 "nbformat_minor": 2
}
