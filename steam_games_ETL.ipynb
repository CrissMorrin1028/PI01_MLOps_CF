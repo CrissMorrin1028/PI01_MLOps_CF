{
 "cells": [
  {
   "cell_type": "markdown",
   "metadata": {},
   "source": [
    "### Procesamiento **ETL** al archivo **`output_steam_games.json`**"
   ]
  },
  {
   "cell_type": "code",
   "execution_count": 268,
   "metadata": {},
   "outputs": [],
   "source": [
    "# Importamos las librerias necesarias para el procesamiento de los datos\n",
    "import pandas as pd\n",
    "import numpy as np\n",
    "import json\n",
    "import ast"
   ]
  },
  {
   "cell_type": "code",
   "execution_count": 269,
   "metadata": {},
   "outputs": [],
   "source": [
    "# Leer el archivo JSON y convertirlo en un DataFrame\n",
    "df_steam_games = pd.read_json('data/output_steam_games.json', lines=True)"
   ]
  },
  {
   "cell_type": "markdown",
   "metadata": {},
   "source": [
    "### Entendiendo los datos como estan conformados y sus caracteristicas \n",
    "\n",
    "Para entender los datos empezamos observando las columnas y los valores de cada columna se puede apreciar que las primeras filas existen muchos valores nulos `NaN`\n",
    "\n",
    "> Eliminamos todos estos datos **`NaN`**\n",
    "\n",
    "---\n",
    "Empezamos obteniendo un poco de información básica del dataframe esta conformado por ``13`` columnas `publisher`, `genres`, `app_name`, `title`, `url`, `release_date`, ``tags``, ``reviews_url``, `speces`, `price`, `early_access`, `id`, ``developer`` tipos de datos: `float64(2)`, `object(11)`\n",
    "\n",
    "- Usando la función ``.shape`` observamos el número de filas y columnas que tiene nuestro dataframe **``(120445, 13)``**\n",
    "\n",
    "- Usando la función **``isnull().sum()``** sumamos la cantidad de valores `NaN` de cada columna, obteniendo una gran cantidad de valores `NaN` el primer paso para tratar estos valores sera eliminar todos las columnas que tienen completamente valores `NaN` y posteriormente estaremos tomando decisiones de como seguir tratando estos valores."
   ]
  },
  {
   "cell_type": "code",
   "execution_count": 270,
   "metadata": {},
   "outputs": [
    {
     "name": "stdout",
     "output_type": "stream",
     "text": [
      "<class 'pandas.core.frame.DataFrame'>\n",
      "RangeIndex: 120445 entries, 0 to 120444\n",
      "Data columns (total 13 columns):\n",
      " #   Column        Non-Null Count  Dtype  \n",
      "---  ------        --------------  -----  \n",
      " 0   publisher     24083 non-null  object \n",
      " 1   genres        28852 non-null  object \n",
      " 2   app_name      32133 non-null  object \n",
      " 3   title         30085 non-null  object \n",
      " 4   url           32135 non-null  object \n",
      " 5   release_date  30068 non-null  object \n",
      " 6   tags          31972 non-null  object \n",
      " 7   reviews_url   32133 non-null  object \n",
      " 8   specs         31465 non-null  object \n",
      " 9   price         30758 non-null  object \n",
      " 10  early_access  32135 non-null  float64\n",
      " 11  id            32133 non-null  float64\n",
      " 12  developer     28836 non-null  object \n",
      "dtypes: float64(2), object(11)\n",
      "memory usage: 11.9+ MB\n"
     ]
    }
   ],
   "source": [
    "df_steam_games.info()"
   ]
  },
  {
   "cell_type": "code",
   "execution_count": 271,
   "metadata": {},
   "outputs": [
    {
     "data": {
      "text/plain": [
       "(120445, 13)"
      ]
     },
     "execution_count": 271,
     "metadata": {},
     "output_type": "execute_result"
    }
   ],
   "source": [
    "df_steam_games.shape "
   ]
  },
  {
   "cell_type": "code",
   "execution_count": 272,
   "metadata": {},
   "outputs": [
    {
     "data": {
      "text/plain": [
       "publisher       96362\n",
       "genres          91593\n",
       "app_name        88312\n",
       "title           90360\n",
       "url             88310\n",
       "release_date    90377\n",
       "tags            88473\n",
       "reviews_url     88312\n",
       "specs           88980\n",
       "price           89687\n",
       "early_access    88310\n",
       "id              88312\n",
       "developer       91609\n",
       "dtype: int64"
      ]
     },
     "execution_count": 272,
     "metadata": {},
     "output_type": "execute_result"
    }
   ],
   "source": [
    "df_steam_games.isnull().sum()"
   ]
  },
  {
   "cell_type": "markdown",
   "metadata": {},
   "source": [
    "> Teniendo esta comprensión básica de los datos como primer paso empezamos eliminando los valores nulos `NaN`"
   ]
  },
  {
   "cell_type": "code",
   "execution_count": 273,
   "metadata": {},
   "outputs": [
    {
     "data": {
      "text/html": [
       "<div>\n",
       "<style scoped>\n",
       "    .dataframe tbody tr th:only-of-type {\n",
       "        vertical-align: middle;\n",
       "    }\n",
       "\n",
       "    .dataframe tbody tr th {\n",
       "        vertical-align: top;\n",
       "    }\n",
       "\n",
       "    .dataframe thead th {\n",
       "        text-align: right;\n",
       "    }\n",
       "</style>\n",
       "<table border=\"1\" class=\"dataframe\">\n",
       "  <thead>\n",
       "    <tr style=\"text-align: right;\">\n",
       "      <th></th>\n",
       "      <th>publisher</th>\n",
       "      <th>genres</th>\n",
       "      <th>app_name</th>\n",
       "      <th>title</th>\n",
       "      <th>url</th>\n",
       "      <th>release_date</th>\n",
       "      <th>tags</th>\n",
       "      <th>reviews_url</th>\n",
       "      <th>specs</th>\n",
       "      <th>price</th>\n",
       "      <th>early_access</th>\n",
       "      <th>id</th>\n",
       "      <th>developer</th>\n",
       "    </tr>\n",
       "  </thead>\n",
       "  <tbody>\n",
       "    <tr>\n",
       "      <th>0</th>\n",
       "      <td>None</td>\n",
       "      <td>None</td>\n",
       "      <td>None</td>\n",
       "      <td>None</td>\n",
       "      <td>None</td>\n",
       "      <td>None</td>\n",
       "      <td>None</td>\n",
       "      <td>None</td>\n",
       "      <td>None</td>\n",
       "      <td>None</td>\n",
       "      <td>NaN</td>\n",
       "      <td>NaN</td>\n",
       "      <td>None</td>\n",
       "    </tr>\n",
       "    <tr>\n",
       "      <th>1</th>\n",
       "      <td>None</td>\n",
       "      <td>None</td>\n",
       "      <td>None</td>\n",
       "      <td>None</td>\n",
       "      <td>None</td>\n",
       "      <td>None</td>\n",
       "      <td>None</td>\n",
       "      <td>None</td>\n",
       "      <td>None</td>\n",
       "      <td>None</td>\n",
       "      <td>NaN</td>\n",
       "      <td>NaN</td>\n",
       "      <td>None</td>\n",
       "    </tr>\n",
       "    <tr>\n",
       "      <th>2</th>\n",
       "      <td>None</td>\n",
       "      <td>None</td>\n",
       "      <td>None</td>\n",
       "      <td>None</td>\n",
       "      <td>None</td>\n",
       "      <td>None</td>\n",
       "      <td>None</td>\n",
       "      <td>None</td>\n",
       "      <td>None</td>\n",
       "      <td>None</td>\n",
       "      <td>NaN</td>\n",
       "      <td>NaN</td>\n",
       "      <td>None</td>\n",
       "    </tr>\n",
       "  </tbody>\n",
       "</table>\n",
       "</div>"
      ],
      "text/plain": [
       "  publisher genres app_name title   url release_date  tags reviews_url specs  \\\n",
       "0      None   None     None  None  None         None  None        None  None   \n",
       "1      None   None     None  None  None         None  None        None  None   \n",
       "2      None   None     None  None  None         None  None        None  None   \n",
       "\n",
       "  price  early_access  id developer  \n",
       "0  None           NaN NaN      None  \n",
       "1  None           NaN NaN      None  \n",
       "2  None           NaN NaN      None  "
      ]
     },
     "execution_count": 273,
     "metadata": {},
     "output_type": "execute_result"
    }
   ],
   "source": [
    "# Muestra las primeras filas del DataFrame\n",
    "df_steam_games.head(3)"
   ]
  },
  {
   "cell_type": "code",
   "execution_count": null,
   "metadata": {},
   "outputs": [],
   "source": [
    "# buscar en stem_games el desarrollador Lost Summoner Kitty\n",
    "df_steam_games[df_steam_games['developer'] == '']"
   ]
  },
  {
   "cell_type": "code",
   "execution_count": 274,
   "metadata": {},
   "outputs": [],
   "source": [
    "# Con el método dropna eliminamos las filas que contienen valores nulos\n",
    "df_steam_games = df_steam_games.dropna(how='all').reset_index(drop=True)"
   ]
  },
  {
   "cell_type": "code",
   "execution_count": 275,
   "metadata": {},
   "outputs": [
    {
     "name": "stdout",
     "output_type": "stream",
     "text": [
      "<class 'pandas.core.frame.DataFrame'>\n",
      "RangeIndex: 32135 entries, 0 to 32134\n",
      "Data columns (total 13 columns):\n",
      " #   Column        Non-Null Count  Dtype  \n",
      "---  ------        --------------  -----  \n",
      " 0   publisher     24083 non-null  object \n",
      " 1   genres        28852 non-null  object \n",
      " 2   app_name      32133 non-null  object \n",
      " 3   title         30085 non-null  object \n",
      " 4   url           32135 non-null  object \n",
      " 5   release_date  30068 non-null  object \n",
      " 6   tags          31972 non-null  object \n",
      " 7   reviews_url   32133 non-null  object \n",
      " 8   specs         31465 non-null  object \n",
      " 9   price         30758 non-null  object \n",
      " 10  early_access  32135 non-null  float64\n",
      " 11  id            32133 non-null  float64\n",
      " 12  developer     28836 non-null  object \n",
      "dtypes: float64(2), object(11)\n",
      "memory usage: 3.2+ MB\n"
     ]
    },
    {
     "data": {
      "text/plain": [
       "(32135, 13)"
      ]
     },
     "execution_count": 275,
     "metadata": {},
     "output_type": "execute_result"
    }
   ],
   "source": [
    "# Observamos los cambios\n",
    "df_steam_games.info()\n",
    "df_steam_games.shape"
   ]
  },
  {
   "cell_type": "code",
   "execution_count": 276,
   "metadata": {},
   "outputs": [
    {
     "data": {
      "text/plain": [
       "publisher       8052\n",
       "genres          3283\n",
       "app_name           2\n",
       "title           2050\n",
       "url                0\n",
       "release_date    2067\n",
       "tags             163\n",
       "reviews_url        2\n",
       "specs            670\n",
       "price           1377\n",
       "early_access       0\n",
       "id                 2\n",
       "developer       3299\n",
       "dtype: int64"
      ]
     },
     "execution_count": 276,
     "metadata": {},
     "output_type": "execute_result"
    }
   ],
   "source": [
    "df_steam_games.isnull().sum()"
   ]
  },
  {
   "cell_type": "markdown",
   "metadata": {},
   "source": [
    "> Apreciamos que de tener **``(120445, 13)``** la cantidad de filas  cambia a **``(32135, 13)``** al mismo tiempo bajan las cifras de valores `NaN` por columnas \n",
    "\n",
    "Tabla para comparar los valores `NaN` por columnas\n",
    "\n",
    "***Antes***\n",
    "| Columnas      |   `NaN`  |\n",
    "|---------------|----------|\n",
    "| publisher     | 96362    |\n",
    "| genres        | 91593    |\n",
    "| app_name      | 88312    |\n",
    "| title         | 90360    |\n",
    "| url           | 88310    |\n",
    "| release_date  | 90377    |\n",
    "| tags          | 88473    |\n",
    "| reviews_url   | 88312    |\n",
    "| specs         | 88980    |\n",
    "| price         | 89687    |\n",
    "| early_access  | 88310    |\n",
    "| id            | 88312    |\n",
    "| developer     | 91609    |\n",
    "\n",
    "***Actualizado***\n",
    "| Columnas      |   `NaN`  |\n",
    "|---------------|----------|\n",
    "| publisher     | 8052     |\n",
    "| genres        | 3283     |\n",
    "| app_name      | 2        |\n",
    "| title         | 2050     |\n",
    "| url           | 0        |\n",
    "| release_date  | 2067     |\n",
    "| tags          | 163      |\n",
    "| reviews_url   | 2        |\n",
    "| specs         | 670      |\n",
    "| price         | 1377     |\n",
    "| early_access  | 0        |\n",
    "| id            | 2        |\n",
    "| developer     | 3299     |"
   ]
  },
  {
   "cell_type": "code",
   "execution_count": 277,
   "metadata": {},
   "outputs": [
    {
     "data": {
      "text/html": [
       "<div>\n",
       "<style scoped>\n",
       "    .dataframe tbody tr th:only-of-type {\n",
       "        vertical-align: middle;\n",
       "    }\n",
       "\n",
       "    .dataframe tbody tr th {\n",
       "        vertical-align: top;\n",
       "    }\n",
       "\n",
       "    .dataframe thead th {\n",
       "        text-align: right;\n",
       "    }\n",
       "</style>\n",
       "<table border=\"1\" class=\"dataframe\">\n",
       "  <thead>\n",
       "    <tr style=\"text-align: right;\">\n",
       "      <th></th>\n",
       "      <th>publisher</th>\n",
       "      <th>genres</th>\n",
       "      <th>app_name</th>\n",
       "      <th>title</th>\n",
       "      <th>url</th>\n",
       "      <th>release_date</th>\n",
       "      <th>tags</th>\n",
       "      <th>reviews_url</th>\n",
       "      <th>specs</th>\n",
       "      <th>price</th>\n",
       "      <th>early_access</th>\n",
       "      <th>id</th>\n",
       "      <th>developer</th>\n",
       "    </tr>\n",
       "  </thead>\n",
       "  <tbody>\n",
       "    <tr>\n",
       "      <th>0</th>\n",
       "      <td>Kotoshiro</td>\n",
       "      <td>[Action, Casual, Indie, Simulation, Strategy]</td>\n",
       "      <td>Lost Summoner Kitty</td>\n",
       "      <td>Lost Summoner Kitty</td>\n",
       "      <td>http://store.steampowered.com/app/761140/Lost_...</td>\n",
       "      <td>2018-01-04</td>\n",
       "      <td>[Strategy, Action, Indie, Casual, Simulation]</td>\n",
       "      <td>http://steamcommunity.com/app/761140/reviews/?...</td>\n",
       "      <td>[Single-player]</td>\n",
       "      <td>4.99</td>\n",
       "      <td>0.0</td>\n",
       "      <td>761140.0</td>\n",
       "      <td>Kotoshiro</td>\n",
       "    </tr>\n",
       "    <tr>\n",
       "      <th>1</th>\n",
       "      <td>Making Fun, Inc.</td>\n",
       "      <td>[Free to Play, Indie, RPG, Strategy]</td>\n",
       "      <td>Ironbound</td>\n",
       "      <td>Ironbound</td>\n",
       "      <td>http://store.steampowered.com/app/643980/Ironb...</td>\n",
       "      <td>2018-01-04</td>\n",
       "      <td>[Free to Play, Strategy, Indie, RPG, Card Game...</td>\n",
       "      <td>http://steamcommunity.com/app/643980/reviews/?...</td>\n",
       "      <td>[Single-player, Multi-player, Online Multi-Pla...</td>\n",
       "      <td>Free To Play</td>\n",
       "      <td>0.0</td>\n",
       "      <td>643980.0</td>\n",
       "      <td>Secret Level SRL</td>\n",
       "    </tr>\n",
       "    <tr>\n",
       "      <th>2</th>\n",
       "      <td>Poolians.com</td>\n",
       "      <td>[Casual, Free to Play, Indie, Simulation, Sports]</td>\n",
       "      <td>Real Pool 3D - Poolians</td>\n",
       "      <td>Real Pool 3D - Poolians</td>\n",
       "      <td>http://store.steampowered.com/app/670290/Real_...</td>\n",
       "      <td>2017-07-24</td>\n",
       "      <td>[Free to Play, Simulation, Sports, Casual, Ind...</td>\n",
       "      <td>http://steamcommunity.com/app/670290/reviews/?...</td>\n",
       "      <td>[Single-player, Multi-player, Online Multi-Pla...</td>\n",
       "      <td>Free to Play</td>\n",
       "      <td>0.0</td>\n",
       "      <td>670290.0</td>\n",
       "      <td>Poolians.com</td>\n",
       "    </tr>\n",
       "  </tbody>\n",
       "</table>\n",
       "</div>"
      ],
      "text/plain": [
       "          publisher                                             genres  \\\n",
       "0         Kotoshiro      [Action, Casual, Indie, Simulation, Strategy]   \n",
       "1  Making Fun, Inc.               [Free to Play, Indie, RPG, Strategy]   \n",
       "2      Poolians.com  [Casual, Free to Play, Indie, Simulation, Sports]   \n",
       "\n",
       "                  app_name                    title  \\\n",
       "0      Lost Summoner Kitty      Lost Summoner Kitty   \n",
       "1                Ironbound                Ironbound   \n",
       "2  Real Pool 3D - Poolians  Real Pool 3D - Poolians   \n",
       "\n",
       "                                                 url release_date  \\\n",
       "0  http://store.steampowered.com/app/761140/Lost_...   2018-01-04   \n",
       "1  http://store.steampowered.com/app/643980/Ironb...   2018-01-04   \n",
       "2  http://store.steampowered.com/app/670290/Real_...   2017-07-24   \n",
       "\n",
       "                                                tags  \\\n",
       "0      [Strategy, Action, Indie, Casual, Simulation]   \n",
       "1  [Free to Play, Strategy, Indie, RPG, Card Game...   \n",
       "2  [Free to Play, Simulation, Sports, Casual, Ind...   \n",
       "\n",
       "                                         reviews_url  \\\n",
       "0  http://steamcommunity.com/app/761140/reviews/?...   \n",
       "1  http://steamcommunity.com/app/643980/reviews/?...   \n",
       "2  http://steamcommunity.com/app/670290/reviews/?...   \n",
       "\n",
       "                                               specs         price  \\\n",
       "0                                    [Single-player]          4.99   \n",
       "1  [Single-player, Multi-player, Online Multi-Pla...  Free To Play   \n",
       "2  [Single-player, Multi-player, Online Multi-Pla...  Free to Play   \n",
       "\n",
       "   early_access        id         developer  \n",
       "0           0.0  761140.0         Kotoshiro  \n",
       "1           0.0  643980.0  Secret Level SRL  \n",
       "2           0.0  670290.0      Poolians.com  "
      ]
     },
     "execution_count": 277,
     "metadata": {},
     "output_type": "execute_result"
    }
   ],
   "source": [
    "df_steam_games.head(3)"
   ]
  },
  {
   "cell_type": "markdown",
   "metadata": {},
   "source": [
    "### El siguiente paso será seleccionar las columnas que usaremos para los **``edpoints``** de la API y todo el sistema que se desea crear.\n",
    "\n",
    "> Para este paso se creo el siguiente reporte informativo de las columnas o variables ***inputs*** que necesita cada función y el sistema de recomendación, en este caso nos enfocaremos en las columnas que se encuentran en este analisis **ETL** del archivo **``steam_games``**.\n",
    "\n",
    "---\n",
    " ###  Variables de entrada **`input`** que necesita cada función:\n",
    "\n",
    "* ``función 1``: def **desarrollador**( **`desarrollador`**: **str** ) : Cantidad de items y porcentajede contenido Free por año según empresa desarrolladora. **variables**: **`developer`**, **`release_date`**, **`price`**\n",
    "\n",
    "* ``función 2``: def **userdata**( **`User_id`**: **str** ) : Debe devolver `cantidad` de dinero gastado por el usuario, el `porcentaje` de recomendación en base a reviews.recommend y `cantidad de items`. **variables**: **`price`**, **`recommend `**, **`item_id`**.\n",
    "\n",
    "* ``función 3``: def **UserForGenre**( **`genero`**: **str** ) : Debe devolver el usuario que acumula más horas jugadas para el género dado y una lista de la acumulación de horas jugadas por año de lanzamiento. **variables**: **`genres`**, **`user_id`**, **`playtime_forever`**, **`release_date`**.\n",
    "\n",
    "* ``función 4``: def **best_developer_year**(**`año`**: **int** ) : Devuelve el top 3 de desarrolladores con juegos MÁS recomendados por usuarios para el año dado. (reviews.recommend = Verdadero y comentarios positivos). **variables**. **`release_date`**, **`reviews.recommend (sentiment_analysis)`**\n",
    "\n",
    "* ``función 5``: def **desarrollador_reviews_analysis**( **`desarrolladora`**: **str**) : Según el desarrollador, se devuelve un diccionario con el nombre del desarrollador como llave y una lista con la cantidad total de registros de reseñas de usuarios que se encuentran categorizados con un análisis de sentimiento como valor positivo o negativo. **`developer`**, **`sentiment_analysis`**\n",
    "\n",
    "### Sistemas de recomendación elegir uno o los dos:\n",
    "\n",
    "**Sistema de recomendación de juegos** si es por ***item-item***:\n",
    "def **recomendacion_juego**(**`id de producto`**): Ingresando el id de producto, deberíamos recibir una lista con 5 juegos recomendados similares al ingresado. **variables**: **``item_id``**, **``recommend``**, **``sentiment_analysis``**, **`item_name`**.\n",
    "\n",
    "Si es por ***user-item***:\n",
    "def **recomendacion_usuario**(**`id de usuario`**): Ingresando el id de un usuario, deberíamos recibir una lista con 5 juegos recomendados para dicho usuario. **variables**: **``user_id``**, **``recommend``**, **``sentiment_analysis``**, **`item_name`**.\n",
    "\n",
    "---\n",
    "\n",
    "***usado***: def **get_recommendation**(**`item_id`**: int): Devuelve los indices similares. **variables**: **`item_id`**, **`user_id`**, **`recommend`**, **`item_name`** \n"
   ]
  },
  {
   "cell_type": "markdown",
   "metadata": {},
   "source": [
    "### Limpieza  de la columna **``price``**\n",
    "\n",
    "Caracteristicas de la columna `price`:\n",
    "\n",
    "- El tipo de dato es ``object`` contiene valores de tipo genérico. \n",
    "\n",
    "- observamos los valores unicos que conforman la columna ``price`` entre esos tipos de datos genéricos encontramos valores de precios en decimales ``float`` y etiquetas que referencian un valor `string`.\n",
    "\n",
    "- Se encontraron 18 etiquetas diferentes para referirse al precio y otras sin un contexto claro. Para manejar estos valores, se tomaron las siguientes decisiones:\n",
    "\n",
    "- **`Free` y variantes exactas:** Las etiquetas como 'Free', 'Free Demo', 'Play for Free!', 'Free Mod', 'Free Movie', 'Free to Use', entre otras, parecen indicar claramente que el contenido es gratuito. Se decidió tratar estas etiquetas directamente como juegos gratuitos **`(0.0)`**.\n",
    "\n",
    "- **`Free To Play` y variantes:** 'Free To Play' y 'Free to Play' también son indicadores claros de que un juego es gratuito. Se consideran estas variantes como juegos gratuitos también.\n",
    "\n",
    "- **Otras etiquetas ambiguas:** Algunas etiquetas como 'Play Now', 'Install Now', 'Third-party' se reemplazaron por un valor gratuito y las que mencionan precios ('Starting at...') no son claras sobre si el contenido es gratuito o no, pero se tomó la decisión de reemplazar su valor a los precios que indicaban ($ 449.00) y ($499.00).\n",
    "\n",
    "- **`Free to Try`:** Esta etiqueta indica que el juego es gratuito para probar, pero podría tener limitaciones o restricciones después de un cierto período de tiempo. Por la falta de contexto Se decidió considerar estos juegos como gratuitos también.\n",
    "\n",
    "> Para fines practicos\n",
    "\n",
    "- Para los valores **Nulos** **`(NaN o None)`** se decidio imputar estos valores específicos con la mediana de los datos. \n",
    "\n",
    "- Por ultimo cambiamos el tipo de dato `object` al tipo de dato `float` para poder operar cálculos numéricos.\n",
    "\n",
    "> Con esta limpieza y transformación de datos la columna `price` queda sin valores `NaN` y lista para ser usada."
   ]
  },
  {
   "cell_type": "code",
   "execution_count": 278,
   "metadata": {},
   "outputs": [
    {
     "name": "stdout",
     "output_type": "stream",
     "text": [
      "[4.99 'Free To Play' 'Free to Play' 0.99 2.99 3.99 9.99 18.99 29.99 None\n",
      " 'Free' 10.99 1.5899999999999999 14.99 1.99 59.99 8.99 6.99 7.99 39.99\n",
      " 19.99 7.49 12.99 5.99 2.49 15.99 1.25 24.99 17.99 61.99 3.49 11.99 13.99\n",
      " 'Free Demo' 'Play for Free!' 34.99 74.76 1.49 32.99 99.99 14.95 69.99\n",
      " 16.99 79.99 49.99 5.0 44.99 13.98 29.96 119.99 109.99 149.99 771.71\n",
      " 'Install Now' 21.99 89.99 'Play WARMACHINE: Tactics Demo' 0.98 139.92\n",
      " 4.29 64.99 'Free Mod' 54.99 74.99 'Install Theme' 0.89 'Third-party' 0.5\n",
      " 'Play Now' 299.99 1.29 3.0 15.0 5.49 23.99 49.0 20.99 10.93\n",
      " 1.3900000000000001 'Free HITMAN™ Holiday Pack' 36.99 4.49 2.0 4.0 9.0\n",
      " 234.99 1.9500000000000002 1.5 199.0 189.0 6.66 27.99 10.49 129.99 179.0\n",
      " 26.99 399.99 31.99 399.0 20.0 40.0 3.33 199.99 22.99 320.0 38.85 71.7\n",
      " 59.95 995.0 27.49 3.39 6.0 19.95 499.99 16.06 4.68 131.4 44.98 202.76 1.0\n",
      " 2.3 0.9500000000000001 172.24 249.99 2.9699999999999998 10.96 10.0 30.0\n",
      " 2.66 6.48 19.29 11.15 18.9 2.89 'Play the Demo' 99.0 87.94 599.0 8.98\n",
      " 9.69 0.49 9.98 9.95 7.0 'Starting at $499.00' 'Starting at $449.00' 12.89\n",
      " 6.49 1.87 42.99 41.99 289.99 'Free to Try' 23.96 5.65 12.0 13.37 189.96\n",
      " 124.99 'Free Movie' 19.98 160.91 'Free to Use']\n"
     ]
    }
   ],
   "source": [
    "# Obtener los valores únicos de la columna 'price'\n",
    "precios_unicos = df_steam_games['price'].unique()\n",
    "\n",
    "print(precios_unicos)"
   ]
  },
  {
   "cell_type": "code",
   "execution_count": 279,
   "metadata": {},
   "outputs": [],
   "source": [
    "# Reemplazar etiquetas por 0.0\n",
    "etiquetas_gratuitas = ['Free To Play', 'Free to Play', 'Free', 'Free Demo', 'Play for Free!', 'Install Now', 'Play WARMACHINE: Tactics Demo', 'Free Mod', 'Install Theme', 'Third-party', 'Play Now', 'Free HITMAN™ Holiday Pack', 'Play the Demo', 'Free to Try', 'Free Movie', 'Free to Use']\n",
    "df_steam_games['price'].replace(etiquetas_gratuitas, 0.0, inplace=True)"
   ]
  },
  {
   "cell_type": "code",
   "execution_count": 280,
   "metadata": {},
   "outputs": [],
   "source": [
    "# Reemplazar 'Starting at $499.00' por '499.00'\n",
    "df_steam_games['price'] = df_steam_games['price'].replace('Starting at $499.00', '499.00')"
   ]
  },
  {
   "cell_type": "code",
   "execution_count": 281,
   "metadata": {},
   "outputs": [],
   "source": [
    "# Reemplazar 'Starting at $499.00' por '499.00'\n",
    "df_steam_games['price'] = df_steam_games['price'].replace('Starting at $449.00', '449.00')"
   ]
  },
  {
   "cell_type": "code",
   "execution_count": 282,
   "metadata": {},
   "outputs": [],
   "source": [
    "# Calcular la mediana\n",
    "mediana = df_steam_games['price'].median()\n",
    "\n",
    "# Imputar los valores nulos con la mediana\n",
    "df_steam_games['price'].fillna(mediana, inplace=True)"
   ]
  },
  {
   "cell_type": "code",
   "execution_count": 283,
   "metadata": {},
   "outputs": [],
   "source": [
    "# Convertir la columna 'price' a float\n",
    "df_steam_games['price'] = df_steam_games['price'].astype(float)"
   ]
  },
  {
   "cell_type": "markdown",
   "metadata": {},
   "source": [
    "### Limpieza de la columna **``developer``**\n",
    "\n",
    "Caracteristicas de la columna `developer`: \n",
    "\n",
    "- El tipo de dato es ``object`` contiene valores de tipo genérico. \n",
    "- Contiene **``3299``** valores `NaN`  \n",
    "- Cantidad de desarrolladores unicos **``10992``** \n",
    "- Se tomo la decision de que los valores nulos `NaN` primero se reemplazaran por los valores que contenia la columna ``publisher`` que es igual  a ``developer`` inicialmente teniamos en la columna developer `3299` valores nulos haciendo este cambio bajo el número a `3234`\n",
    "- Eliminamos la columna **``publisher``**\n",
    "- Reemplazamos los valores nulos restante en ``developer ``con el valor ``Dev-desconocidos`` para categorizar esta lista de desarrolladores y conservar los datos para las consultas\n",
    "- Eliminando todo los valores `NaN` a `0`\n",
    "- Se cambio al tipo de dato ``string``\n"
   ]
  },
  {
   "cell_type": "code",
   "execution_count": 284,
   "metadata": {},
   "outputs": [
    {
     "data": {
      "text/plain": [
       "10992"
      ]
     },
     "execution_count": 284,
     "metadata": {},
     "output_type": "execute_result"
    }
   ],
   "source": [
    "# contar con numeros la cantidad de desarrolladores unicos\n",
    "desarrolladores_unicos = df_steam_games['developer'].nunique()\n",
    "desarrolladores_unicos"
   ]
  },
  {
   "cell_type": "code",
   "execution_count": 285,
   "metadata": {},
   "outputs": [],
   "source": [
    "# Reemplazar los valores nulos en 'developer' con los valores correspondientes de 'publisher'\n",
    "df_steam_games['developer'].fillna(df_steam_games['publisher'], inplace=True)"
   ]
  },
  {
   "cell_type": "code",
   "execution_count": 286,
   "metadata": {},
   "outputs": [
    {
     "data": {
      "text/plain": [
       "publisher       8052\n",
       "genres          3283\n",
       "app_name           2\n",
       "title           2050\n",
       "url                0\n",
       "release_date    2067\n",
       "tags             163\n",
       "reviews_url        2\n",
       "specs            670\n",
       "price              0\n",
       "early_access       0\n",
       "id                 2\n",
       "developer       3234\n",
       "dtype: int64"
      ]
     },
     "execution_count": 286,
     "metadata": {},
     "output_type": "execute_result"
    }
   ],
   "source": [
    "df_steam_games.isnull().sum()"
   ]
  },
  {
   "cell_type": "code",
   "execution_count": 287,
   "metadata": {},
   "outputs": [],
   "source": [
    "# Eliminar la columna publisher y resetear el indice\n",
    "df_steam_games.drop(columns=['publisher'], inplace=True)"
   ]
  },
  {
   "cell_type": "code",
   "execution_count": 288,
   "metadata": {},
   "outputs": [],
   "source": [
    "# Reemplazar cualquier valor nulo restante en 'developer' con un valor predeterminado\n",
    "df_steam_games['developer'].fillna('Dev-desconocidos', inplace=True)"
   ]
  },
  {
   "cell_type": "code",
   "execution_count": 289,
   "metadata": {},
   "outputs": [
    {
     "data": {
      "text/plain": [
       "genres          3283\n",
       "app_name           2\n",
       "title           2050\n",
       "url                0\n",
       "release_date    2067\n",
       "tags             163\n",
       "reviews_url        2\n",
       "specs            670\n",
       "price              0\n",
       "early_access       0\n",
       "id                 2\n",
       "developer          0\n",
       "dtype: int64"
      ]
     },
     "execution_count": 289,
     "metadata": {},
     "output_type": "execute_result"
    }
   ],
   "source": [
    "df_steam_games.isnull().sum()"
   ]
  },
  {
   "cell_type": "code",
   "execution_count": 290,
   "metadata": {},
   "outputs": [
    {
     "name": "stdout",
     "output_type": "stream",
     "text": [
      "<class 'pandas.core.frame.DataFrame'>\n",
      "RangeIndex: 32135 entries, 0 to 32134\n",
      "Data columns (total 12 columns):\n",
      " #   Column        Non-Null Count  Dtype  \n",
      "---  ------        --------------  -----  \n",
      " 0   genres        28852 non-null  object \n",
      " 1   app_name      32133 non-null  object \n",
      " 2   title         30085 non-null  object \n",
      " 3   url           32135 non-null  object \n",
      " 4   release_date  30068 non-null  object \n",
      " 5   tags          31972 non-null  object \n",
      " 6   reviews_url   32133 non-null  object \n",
      " 7   specs         31465 non-null  object \n",
      " 8   price         32135 non-null  float64\n",
      " 9   early_access  32135 non-null  float64\n",
      " 10  id            32133 non-null  float64\n",
      " 11  developer     32135 non-null  object \n",
      "dtypes: float64(3), object(9)\n",
      "memory usage: 2.9+ MB\n"
     ]
    }
   ],
   "source": [
    "df_steam_games.info()"
   ]
  },
  {
   "cell_type": "markdown",
   "metadata": {},
   "source": [
    "### Limpieza de la columna **``release_date``**\n",
    "\n",
    "Caracteristicas de la columna `release_date`: \n",
    "\n",
    "- El tipo de dato es ``object`` contiene valores de tipo genérico. \n",
    "- Contiene **``2067``** valores `NaN`  \n",
    "- Los tipos de valores unicos de la columna **``release_date``** estaban con valores mal estructurados ejemplo: YYYY-MM-DD (2018-01-04), `NaN`, soon.., Beta测试已开启, Jun 2009, etc. \n",
    "- Se tomo la decision de extraer solo los valores que seguían este formato ``YYYY`` es decir los años \n",
    "- El resto de valores que solo contenian caracteres los convertimos en **``0``** que representa valores desconocidos de igual forma se aplico lo mismo para  los `NaN`\n",
    "- Se cambio al tipo de dato ``int``\n",
    "\n",
    "---\n",
    "Después de aplicar los pasos anteriores obtemos los siguientes valores de los años únicos registrados en la base de datos ``users_items``:\n",
    "\n",
    "Donde **``0``** representa los valores desconocidos, tenemos registros desde **``1970``** hasta el **``2021``** notamos que un año esta fuera de contexto el año **``5275``** así que lo convertimos a un año ***desconocido***. Entendiendo que la extracción se tomo de este valor 预热群**5275**6441\n",
    "\n",
    "| Años Únicos |\n",
    "|:-----------:|\n",
    "| 5275        |\n",
    "| 2021        |\n",
    "| 2019        |\n",
    "| 2018        |\n",
    "| 2017        |\n",
    "| 2016        |\n",
    "| 2015        |\n",
    "| 2014        |\n",
    "| 2013        |\n",
    "| 2012        |\n",
    "| 2011        |\n",
    "| 2010        |\n",
    "| 2009        |\n",
    "| 2008        |\n",
    "| 2007        |\n",
    "| 2006        |\n",
    "| 2005        |\n",
    "| 2004        |\n",
    "| 2003        |\n",
    "| 2002        |\n",
    "| 2001        |\n",
    "| 2000        |\n",
    "| 1999        |\n",
    "| 1998        |\n",
    "| 1997        |\n",
    "| 1996        |\n",
    "| 1995        |\n",
    "| 1994        |\n",
    "| 1993        |\n",
    "| 1992        |\n",
    "| 1991        |\n",
    "| 1990        |\n",
    "| 1989        |\n",
    "| 1988        |\n",
    "| 1987        |\n",
    "| 1986        |\n",
    "| 1985        |\n",
    "| 1984        |\n",
    "| 1983        |\n",
    "| 1982        |\n",
    "| 1981        |\n",
    "| 1980        |\n",
    "| 1975        |\n",
    "| 1970        |\n",
    "| 0           |\n",
    "\n"
   ]
  },
  {
   "cell_type": "code",
   "execution_count": 291,
   "metadata": {},
   "outputs": [],
   "source": [
    "# Extraer el año de la columna 'release_date'\n",
    "df_steam_games['release_date'] = df_steam_games['release_date'].str.extract(r'(\\d{4})')"
   ]
  },
  {
   "cell_type": "code",
   "execution_count": 292,
   "metadata": {},
   "outputs": [],
   "source": [
    "#  Rellenamos los nulos con 0 y convertimos la columna release_date a int usando la siguiente función\n",
    "def transform_release_date(df_steam_games):\n",
    "    df_steam_games['release_date'] = df_steam_games['release_date'].fillna('0').astype(int)\n",
    "    return df_steam_games\n",
    "\n",
    "df_steam_games = transform_release_date(df_steam_games)"
   ]
  },
  {
   "cell_type": "code",
   "execution_count": 293,
   "metadata": {},
   "outputs": [],
   "source": [
    "# Resetear el indice\n",
    "df_steam_games.reset_index(drop=True, inplace=True)"
   ]
  },
  {
   "cell_type": "code",
   "execution_count": 294,
   "metadata": {},
   "outputs": [
    {
     "name": "stdout",
     "output_type": "stream",
     "text": [
      "[5275, 2021, 2019, 2018, 2017, 2016, 2015, 2014, 2013, 2012, 2011, 2010, 2009, 2008, 2007, 2006, 2005, 2004, 2003, 2002, 2001, 2000, 1999, 1998, 1997, 1996, 1995, 1994, 1993, 1992, 1991, 1990, 1989, 1988, 1987, 1986, 1985, 1984, 1983, 1982, 1981, 1980, 1975, 1970, 0]\n"
     ]
    }
   ],
   "source": [
    "# valores unicos de la columna release_date en una lista\n",
    "unique_dates = df_steam_games['release_date'].unique()\n",
    "unique_dates.sort()\n",
    "unique_dates = list(unique_dates[::-1])\n",
    "print(unique_dates)"
   ]
  },
  {
   "cell_type": "code",
   "execution_count": 295,
   "metadata": {},
   "outputs": [
    {
     "data": {
      "text/html": [
       "<div>\n",
       "<style scoped>\n",
       "    .dataframe tbody tr th:only-of-type {\n",
       "        vertical-align: middle;\n",
       "    }\n",
       "\n",
       "    .dataframe tbody tr th {\n",
       "        vertical-align: top;\n",
       "    }\n",
       "\n",
       "    .dataframe thead th {\n",
       "        text-align: right;\n",
       "    }\n",
       "</style>\n",
       "<table border=\"1\" class=\"dataframe\">\n",
       "  <thead>\n",
       "    <tr style=\"text-align: right;\">\n",
       "      <th></th>\n",
       "      <th>genres</th>\n",
       "      <th>app_name</th>\n",
       "      <th>title</th>\n",
       "      <th>url</th>\n",
       "      <th>release_date</th>\n",
       "      <th>tags</th>\n",
       "      <th>reviews_url</th>\n",
       "      <th>specs</th>\n",
       "      <th>price</th>\n",
       "      <th>early_access</th>\n",
       "      <th>id</th>\n",
       "      <th>developer</th>\n",
       "    </tr>\n",
       "  </thead>\n",
       "  <tbody>\n",
       "    <tr>\n",
       "      <th>13428</th>\n",
       "      <td>[Casual, Indie, Early Access]</td>\n",
       "      <td>Puzzle Sisters Foer</td>\n",
       "      <td>Puzzle Sisters Foer</td>\n",
       "      <td>http://store.steampowered.com/app/710190/Puzzl...</td>\n",
       "      <td>5275</td>\n",
       "      <td>[Early Access, Casual, Indie]</td>\n",
       "      <td>http://steamcommunity.com/app/710190/reviews/?...</td>\n",
       "      <td>[Single-player, Steam Achievements, Steam Trad...</td>\n",
       "      <td>4.99</td>\n",
       "      <td>1.0</td>\n",
       "      <td>710190.0</td>\n",
       "      <td>一次元创作组</td>\n",
       "    </tr>\n",
       "  </tbody>\n",
       "</table>\n",
       "</div>"
      ],
      "text/plain": [
       "                              genres             app_name  \\\n",
       "13428  [Casual, Indie, Early Access]  Puzzle Sisters Foer   \n",
       "\n",
       "                     title                                                url  \\\n",
       "13428  Puzzle Sisters Foer  http://store.steampowered.com/app/710190/Puzzl...   \n",
       "\n",
       "       release_date                           tags  \\\n",
       "13428          5275  [Early Access, Casual, Indie]   \n",
       "\n",
       "                                             reviews_url  \\\n",
       "13428  http://steamcommunity.com/app/710190/reviews/?...   \n",
       "\n",
       "                                                   specs  price  early_access  \\\n",
       "13428  [Single-player, Steam Achievements, Steam Trad...   4.99           1.0   \n",
       "\n",
       "             id developer  \n",
       "13428  710190.0    一次元创作组  "
      ]
     },
     "execution_count": 295,
     "metadata": {},
     "output_type": "execute_result"
    }
   ],
   "source": [
    "# buscar el 'año' 5275\n",
    "df_steam_games[df_steam_games['release_date'] == 5275]"
   ]
  },
  {
   "cell_type": "code",
   "execution_count": 296,
   "metadata": {},
   "outputs": [],
   "source": [
    "# Cambiar el 'año' 5275 y reemplazarlo por 0\n",
    "df_steam_games['release_date'] = df_steam_games['release_date'].replace(5275, 0)\n"
   ]
  },
  {
   "cell_type": "code",
   "execution_count": 297,
   "metadata": {},
   "outputs": [
    {
     "data": {
      "text/plain": [
       "release_date\n",
       "2017    9595\n",
       "2016    6943\n",
       "2015    4952\n",
       "2014    2844\n",
       "0       2169\n",
       "2013    1552\n",
       "2012    1193\n",
       "2011     590\n",
       "2010     442\n",
       "2009     341\n",
       "2008     213\n",
       "2007     167\n",
       "2018     159\n",
       "2006     155\n",
       "2005     102\n",
       "2003      84\n",
       "2004      79\n",
       "2001      69\n",
       "1998      61\n",
       "1999      55\n",
       "2002      50\n",
       "1997      42\n",
       "2000      40\n",
       "1996      39\n",
       "1994      36\n",
       "1993      34\n",
       "1995      33\n",
       "1991      16\n",
       "1992      15\n",
       "1990      12\n",
       "1989      10\n",
       "1987       9\n",
       "1988       7\n",
       "1984       4\n",
       "1983       4\n",
       "2019       4\n",
       "1985       3\n",
       "1982       3\n",
       "1981       3\n",
       "1970       2\n",
       "1986       1\n",
       "2021       1\n",
       "1975       1\n",
       "1980       1\n",
       "Name: count, dtype: int64"
      ]
     },
     "execution_count": 297,
     "metadata": {},
     "output_type": "execute_result"
    }
   ],
   "source": [
    "# mostrar la frecuencia de los valores en la columna 'release_date'\n",
    "frecuencia = df_steam_games['release_date'].value_counts()\n",
    "frecuencia"
   ]
  },
  {
   "cell_type": "code",
   "execution_count": 298,
   "metadata": {},
   "outputs": [
    {
     "data": {
      "text/plain": [
       "(32135, 12)"
      ]
     },
     "execution_count": 298,
     "metadata": {},
     "output_type": "execute_result"
    }
   ],
   "source": [
    "# mostrar números de valores total del dataframe\n",
    "df_steam_games.shape\n"
   ]
  },
  {
   "cell_type": "code",
   "execution_count": 299,
   "metadata": {},
   "outputs": [
    {
     "data": {
      "text/plain": [
       "genres          3283\n",
       "app_name           2\n",
       "title           2050\n",
       "url                0\n",
       "release_date       0\n",
       "tags             163\n",
       "reviews_url        2\n",
       "specs            670\n",
       "price              0\n",
       "early_access       0\n",
       "id                 2\n",
       "developer          0\n",
       "dtype: int64"
      ]
     },
     "execution_count": 299,
     "metadata": {},
     "output_type": "execute_result"
    }
   ],
   "source": [
    "# contar los valores nulos del dataframe\n",
    "df_steam_games.isnull().sum()"
   ]
  },
  {
   "cell_type": "markdown",
   "metadata": {},
   "source": [
    "### Liempieza de la columna **``id``** y **``app_name``**\n",
    "### **``id``**\n",
    "- El tipo de dato es ``object`` contiene valores de tipo genérico. \n",
    "- En la columna **``id``** y **``app_name``** encontramos dos valores nulos en cada columna. ``app_name: 2``, ``id: 2``.\n",
    "- En la columna id reemplazamos un valor **``NaN``** por **``0``** que sería un id no identifado y en el segundo valor **``NaN``** observamos que pertenecia al id **``200260 ``** así que lo reemplazamos por ese valor. \n",
    "- Renombramos la columna **``id``** a **``item_id``**\n",
    "- Convertir la columna ``item_id`` a ``int``\n",
    "\n",
    "### **``app_name``**\n",
    "- Renombramos la columna **``app_name``** a **``item_name``**\n",
    "- En el valor **`` NaN ``** encontrado del indice ``2580`` de nuestro dataframe para fines practico entre a la url donde me llevo a la pagina del juego **Duet** asi que simplemente lo reemplace por ese nombre ya que solo teniamos dos valores nulos, el otro valor fue remplazado a ***SinNombre***.\n",
    "- "
   ]
  },
  {
   "cell_type": "code",
   "execution_count": 300,
   "metadata": {},
   "outputs": [],
   "source": [
    "# Renombramos la columna 'id' a 'item_id'\n",
    "df_steam_games = df_steam_games.rename(columns={'id': 'item_id'})"
   ]
  },
  {
   "cell_type": "code",
   "execution_count": 301,
   "metadata": {},
   "outputs": [
    {
     "data": {
      "text/html": [
       "<div>\n",
       "<style scoped>\n",
       "    .dataframe tbody tr th:only-of-type {\n",
       "        vertical-align: middle;\n",
       "    }\n",
       "\n",
       "    .dataframe tbody tr th {\n",
       "        vertical-align: top;\n",
       "    }\n",
       "\n",
       "    .dataframe thead th {\n",
       "        text-align: right;\n",
       "    }\n",
       "</style>\n",
       "<table border=\"1\" class=\"dataframe\">\n",
       "  <thead>\n",
       "    <tr style=\"text-align: right;\">\n",
       "      <th></th>\n",
       "      <th>genres</th>\n",
       "      <th>app_name</th>\n",
       "      <th>title</th>\n",
       "      <th>url</th>\n",
       "      <th>release_date</th>\n",
       "      <th>tags</th>\n",
       "      <th>reviews_url</th>\n",
       "      <th>specs</th>\n",
       "      <th>price</th>\n",
       "      <th>early_access</th>\n",
       "      <th>item_id</th>\n",
       "      <th>developer</th>\n",
       "    </tr>\n",
       "  </thead>\n",
       "  <tbody>\n",
       "    <tr>\n",
       "      <th>74</th>\n",
       "      <td>None</td>\n",
       "      <td>None</td>\n",
       "      <td>None</td>\n",
       "      <td>http://store.steampowered.com/</td>\n",
       "      <td>0</td>\n",
       "      <td>None</td>\n",
       "      <td>None</td>\n",
       "      <td>None</td>\n",
       "      <td>19.99</td>\n",
       "      <td>0.0</td>\n",
       "      <td>NaN</td>\n",
       "      <td>Dev-desconocidos</td>\n",
       "    </tr>\n",
       "    <tr>\n",
       "      <th>30961</th>\n",
       "      <td>[Action, Adventure]</td>\n",
       "      <td>Batman: Arkham City - Game of the Year Edition</td>\n",
       "      <td>Batman: Arkham City - Game of the Year Edition</td>\n",
       "      <td>http://store.steampowered.com/app/200260</td>\n",
       "      <td>2012</td>\n",
       "      <td>[Action, Open World, Batman, Adventure, Stealt...</td>\n",
       "      <td>None</td>\n",
       "      <td>[Single-player, Steam Achievements, Steam Trad...</td>\n",
       "      <td>19.99</td>\n",
       "      <td>0.0</td>\n",
       "      <td>NaN</td>\n",
       "      <td>Rocksteady Studios,Feral Interactive (Mac)</td>\n",
       "    </tr>\n",
       "  </tbody>\n",
       "</table>\n",
       "</div>"
      ],
      "text/plain": [
       "                    genres                                        app_name  \\\n",
       "74                    None                                            None   \n",
       "30961  [Action, Adventure]  Batman: Arkham City - Game of the Year Edition   \n",
       "\n",
       "                                                title  \\\n",
       "74                                               None   \n",
       "30961  Batman: Arkham City - Game of the Year Edition   \n",
       "\n",
       "                                            url  release_date  \\\n",
       "74               http://store.steampowered.com/             0   \n",
       "30961  http://store.steampowered.com/app/200260          2012   \n",
       "\n",
       "                                                    tags reviews_url  \\\n",
       "74                                                  None        None   \n",
       "30961  [Action, Open World, Batman, Adventure, Stealt...        None   \n",
       "\n",
       "                                                   specs  price  early_access  \\\n",
       "74                                                  None  19.99           0.0   \n",
       "30961  [Single-player, Steam Achievements, Steam Trad...  19.99           0.0   \n",
       "\n",
       "       item_id                                   developer  \n",
       "74         NaN                            Dev-desconocidos  \n",
       "30961      NaN  Rocksteady Studios,Feral Interactive (Mac)  "
      ]
     },
     "execution_count": 301,
     "metadata": {},
     "output_type": "execute_result"
    }
   ],
   "source": [
    "# Buscar los valores nulos en la columna 'item_id'\n",
    "item_id_null = df_steam_games[df_steam_games['item_id'].isnull()]\n",
    "\n",
    "# Imprimir los valores nulos\n",
    "item_id_null"
   ]
  },
  {
   "cell_type": "code",
   "execution_count": 302,
   "metadata": {},
   "outputs": [],
   "source": [
    "# Cambiar el valor de la columna 'item_id' en la fila con índice 30961 a 200260\n",
    "df_steam_games.loc[30961, 'item_id'] = 200260"
   ]
  },
  {
   "cell_type": "code",
   "execution_count": 303,
   "metadata": {},
   "outputs": [],
   "source": [
    "# Cambiar el valor de la columna 'item_id' en la fila con índice 30961 a 200260\n",
    "df_steam_games.loc[74, 'item_id'] = 0"
   ]
  },
  {
   "cell_type": "code",
   "execution_count": 304,
   "metadata": {},
   "outputs": [
    {
     "data": {
      "text/plain": [
       "0"
      ]
     },
     "execution_count": 304,
     "metadata": {},
     "output_type": "execute_result"
    }
   ],
   "source": [
    "# buscar valores nulos de la columna item_id\n",
    "df_steam_games['item_id'].isnull().sum()"
   ]
  },
  {
   "cell_type": "code",
   "execution_count": 305,
   "metadata": {},
   "outputs": [],
   "source": [
    "# Convertir la columna 'item_id' a int\n",
    "df_steam_games['item_id'] = df_steam_games['item_id'].astype(int)"
   ]
  },
  {
   "cell_type": "code",
   "execution_count": 306,
   "metadata": {},
   "outputs": [],
   "source": [
    "# Cambiar el valor de la columna 'app_name' en la fila con índice 2580 a 'Duet'\n",
    "df_steam_games.loc[2580, 'app_name'] = 'Duet'"
   ]
  },
  {
   "cell_type": "code",
   "execution_count": 307,
   "metadata": {},
   "outputs": [],
   "source": [
    "# Cambiar el valor de la columna 'app_name' en la fila con índice 74 a 'SinNombre'\n",
    "df_steam_games.loc[74, 'app_name'] = 'SinNombre'"
   ]
  },
  {
   "cell_type": "code",
   "execution_count": 308,
   "metadata": {},
   "outputs": [],
   "source": [
    "# Renombrar la columna 'app_name' a 'item_name'\n",
    "df_steam_games = df_steam_games.rename(columns={'app_name': 'item_name'})"
   ]
  },
  {
   "cell_type": "code",
   "execution_count": 309,
   "metadata": {},
   "outputs": [
    {
     "data": {
      "text/plain": [
       "genres          3283\n",
       "item_name          0\n",
       "title           2050\n",
       "url                0\n",
       "release_date       0\n",
       "tags             163\n",
       "reviews_url        2\n",
       "specs            670\n",
       "price              0\n",
       "early_access       0\n",
       "item_id            0\n",
       "developer          0\n",
       "dtype: int64"
      ]
     },
     "execution_count": 309,
     "metadata": {},
     "output_type": "execute_result"
    }
   ],
   "source": [
    "# contar los valores nulos del dataframe\n",
    "df_steam_games.isnull().sum()"
   ]
  },
  {
   "cell_type": "code",
   "execution_count": 310,
   "metadata": {},
   "outputs": [
    {
     "data": {
      "text/plain": [
       "genres          28852\n",
       "item_name       32135\n",
       "title           30085\n",
       "url             32135\n",
       "release_date    32135\n",
       "tags            31972\n",
       "reviews_url     32133\n",
       "specs           31465\n",
       "price           32135\n",
       "early_access    32135\n",
       "item_id         32135\n",
       "developer       32135\n",
       "dtype: int64"
      ]
     },
     "execution_count": 310,
     "metadata": {},
     "output_type": "execute_result"
    }
   ],
   "source": [
    "# cantidad de filas por columna\n",
    "df_steam_games.count() "
   ]
  },
  {
   "cell_type": "markdown",
   "metadata": {},
   "source": [
    "### Columnas para **eliminar**\n",
    "1. early_acces\n",
    "2. title\n",
    "3. publisher\n",
    "4. reviews_url\n",
    "5. url\n",
    "6. tags\n",
    "7. specs\n",
    "---\n",
    "### Se **usaran**\n",
    "1. genres\n",
    "2. item_name \n",
    "3. release_date \n",
    "4. price \n",
    "5. item_id \n",
    "6. developer"
   ]
  },
  {
   "cell_type": "markdown",
   "metadata": {},
   "source": [
    "### Limpieza de la columna **``genres``**\n",
    "\n",
    "Caracteristicas de la columna `genres`: \n",
    "- Tipo de dato `object`\n",
    "- Necesitamos descomponer la columna **``genres``**, que está compuesta por una estructura similar a una lista **`(lista-like)`**, para separar cada elemento presente en una fila y generar una nueva fila para cada uno de estos elementosm para eso usaremos el método **`.explode`**\n",
    "- "
   ]
  },
  {
   "cell_type": "code",
   "execution_count": 311,
   "metadata": {},
   "outputs": [],
   "source": [
    "df_steam_games = df_steam_games.explode('genres')"
   ]
  },
  {
   "cell_type": "code",
   "execution_count": 312,
   "metadata": {},
   "outputs": [],
   "source": [
    "# Rellenar los valores faltantes con una lista vacía y asegurarse de que los géneros estén en formato de lista\n",
    "df_steam_games = df_steam_games.assign(\n",
    "    genres=df_steam_games['genres'].apply(lambda x: ', '.join(x if isinstance(x, list) else [x] if pd.notnull(x) else []))\n",
    ")\n",
    "\n",
    "# Crear variables ficticias para los géneros\n",
    "dummy_genres = df_steam_games['genres'].str.get_dummies(', ')\n",
    "\n",
    "# Concatenar las variables ficticias con el DataFrame original\n",
    "df_steam_games = pd.concat([df_steam_games, dummy_genres], axis=1)"
   ]
  },
  {
   "cell_type": "markdown",
   "metadata": {},
   "source": [
    "transformamos la columna **`tags`** para que sus valores estén en un formato diferente, específicamente convirtiendo las listas en cadenas separadas por comas, para eso usaremos la función **`convert_tags`**"
   ]
  },
  {
   "cell_type": "code",
   "execution_count": 313,
   "metadata": {},
   "outputs": [],
   "source": [
    "def convert_tags(tags):\n",
    "    if isinstance(tags, list):\n",
    "        return ', '.join(tags)\n",
    "    elif isinstance(tags, str):\n",
    "        try:\n",
    "            tags_list = ast.literal_eval(tags)\n",
    "            return ', '.join(tags_list)\n",
    "        except (SyntaxError, ValueError):\n",
    "            return tags\n",
    "    return tags\n",
    "\n",
    "# Aplica la función al DataFrame\n",
    "df_steam_games['tags'] = df_steam_games['tags'].map(convert_tags)"
   ]
  },
  {
   "cell_type": "markdown",
   "metadata": {},
   "source": [
    "La función **`update_genres `** busca rellenar los valores nulos en la columna **`genres`** del DataFrame. Si la columna tiene la representación **`[, ]`** o es nula, extrae las etiquetas de la columna **`tags`**, encuentra los géneros únicos y los une en una cadena separada por comas para rellenar los nulos en **`genres`**. Si la columna **`genres`** ya contiene datos o no es nula, mantiene el valor existente en esa columna. La función se aplica a cada fila del DataFrame."
   ]
  },
  {
   "cell_type": "code",
   "execution_count": 314,
   "metadata": {},
   "outputs": [],
   "source": [
    "# Obtener los géneros únicos\n",
    "unique_genres = df_steam_games['genres'].dropna().unique()\n",
    "\n",
    "# Función para rellenar nulos en 'genres'\n",
    "def update_genres(row):\n",
    "    if pd.isna(row['genres']):\n",
    "        # Divide la cadena de tags en una lista de tags\n",
    "        tags = row['tags'].split(', ') if pd.notna(row['tags']) else []\n",
    "        # Encuentra la intersección de tags y unique_genres\n",
    "        genres_in_tags = list(set(tags) & set(unique_genres))\n",
    "        # Si se encuentran géneros en tags, únelos en una cadena\n",
    "        return ', '.join(genres_in_tags) if genres_in_tags else row['genres']\n",
    "    else:\n",
    "        return row['genres']\n",
    "\n",
    "# Aplica la función\n",
    "df_steam_games['genres'] = df_steam_games.apply(update_genres, axis=1)"
   ]
  },
  {
   "cell_type": "code",
   "execution_count": 315,
   "metadata": {},
   "outputs": [
    {
     "data": {
      "text/plain": [
       "array(['Action', 'Casual', 'Indie', 'Simulation', 'Strategy',\n",
       "       'Free to Play', 'RPG', 'Sports', 'Adventure', '', 'Racing',\n",
       "       'Early Access', 'Massively Multiplayer',\n",
       "       'Animation &amp; Modeling', 'Video Production', 'Utilities',\n",
       "       'Web Publishing', 'Education', 'Software Training',\n",
       "       'Design &amp; Illustration', 'Audio Production', 'Photo Editing',\n",
       "       'Accounting'], dtype=object)"
      ]
     },
     "execution_count": 315,
     "metadata": {},
     "output_type": "execute_result"
    }
   ],
   "source": [
    "# mostrar generos unicos \n",
    "df_steam_games['genres'].unique()"
   ]
  },
  {
   "cell_type": "code",
   "execution_count": 316,
   "metadata": {},
   "outputs": [],
   "source": [
    "df_steam_games['tags'] = df_steam_games['tags'].str.replace(',', '') #Eliminamos las comas de los elementos de la columna tags"
   ]
  },
  {
   "cell_type": "code",
   "execution_count": 317,
   "metadata": {},
   "outputs": [],
   "source": [
    "df_steam_games['genres'] = df_steam_games['genres'].apply(lambda x: '[]' if pd.isna(x) or x == '' else x) #Reemplazamos los valores nulos y las cadenas vacías por [] en la columna genres"
   ]
  },
  {
   "cell_type": "code",
   "execution_count": 318,
   "metadata": {},
   "outputs": [
    {
     "data": {
      "text/html": [
       "<div>\n",
       "<style scoped>\n",
       "    .dataframe tbody tr th:only-of-type {\n",
       "        vertical-align: middle;\n",
       "    }\n",
       "\n",
       "    .dataframe tbody tr th {\n",
       "        vertical-align: top;\n",
       "    }\n",
       "\n",
       "    .dataframe thead th {\n",
       "        text-align: right;\n",
       "    }\n",
       "</style>\n",
       "<table border=\"1\" class=\"dataframe\">\n",
       "  <thead>\n",
       "    <tr style=\"text-align: right;\">\n",
       "      <th></th>\n",
       "      <th>genres</th>\n",
       "      <th>item_name</th>\n",
       "      <th>title</th>\n",
       "      <th>url</th>\n",
       "      <th>release_date</th>\n",
       "      <th>tags</th>\n",
       "      <th>reviews_url</th>\n",
       "      <th>specs</th>\n",
       "      <th>price</th>\n",
       "      <th>early_access</th>\n",
       "      <th>...</th>\n",
       "      <th>Photo Editing</th>\n",
       "      <th>RPG</th>\n",
       "      <th>Racing</th>\n",
       "      <th>Simulation</th>\n",
       "      <th>Software Training</th>\n",
       "      <th>Sports</th>\n",
       "      <th>Strategy</th>\n",
       "      <th>Utilities</th>\n",
       "      <th>Video Production</th>\n",
       "      <th>Web Publishing</th>\n",
       "    </tr>\n",
       "  </thead>\n",
       "  <tbody>\n",
       "    <tr>\n",
       "      <th>0</th>\n",
       "      <td>Action</td>\n",
       "      <td>Lost Summoner Kitty</td>\n",
       "      <td>Lost Summoner Kitty</td>\n",
       "      <td>http://store.steampowered.com/app/761140/Lost_...</td>\n",
       "      <td>2018</td>\n",
       "      <td>Strategy Action Indie Casual Simulation</td>\n",
       "      <td>http://steamcommunity.com/app/761140/reviews/?...</td>\n",
       "      <td>[Single-player]</td>\n",
       "      <td>4.99</td>\n",
       "      <td>0.0</td>\n",
       "      <td>...</td>\n",
       "      <td>0</td>\n",
       "      <td>0</td>\n",
       "      <td>0</td>\n",
       "      <td>0</td>\n",
       "      <td>0</td>\n",
       "      <td>0</td>\n",
       "      <td>0</td>\n",
       "      <td>0</td>\n",
       "      <td>0</td>\n",
       "      <td>0</td>\n",
       "    </tr>\n",
       "    <tr>\n",
       "      <th>0</th>\n",
       "      <td>Casual</td>\n",
       "      <td>Lost Summoner Kitty</td>\n",
       "      <td>Lost Summoner Kitty</td>\n",
       "      <td>http://store.steampowered.com/app/761140/Lost_...</td>\n",
       "      <td>2018</td>\n",
       "      <td>Strategy Action Indie Casual Simulation</td>\n",
       "      <td>http://steamcommunity.com/app/761140/reviews/?...</td>\n",
       "      <td>[Single-player]</td>\n",
       "      <td>4.99</td>\n",
       "      <td>0.0</td>\n",
       "      <td>...</td>\n",
       "      <td>0</td>\n",
       "      <td>0</td>\n",
       "      <td>0</td>\n",
       "      <td>0</td>\n",
       "      <td>0</td>\n",
       "      <td>0</td>\n",
       "      <td>0</td>\n",
       "      <td>0</td>\n",
       "      <td>0</td>\n",
       "      <td>0</td>\n",
       "    </tr>\n",
       "    <tr>\n",
       "      <th>0</th>\n",
       "      <td>Indie</td>\n",
       "      <td>Lost Summoner Kitty</td>\n",
       "      <td>Lost Summoner Kitty</td>\n",
       "      <td>http://store.steampowered.com/app/761140/Lost_...</td>\n",
       "      <td>2018</td>\n",
       "      <td>Strategy Action Indie Casual Simulation</td>\n",
       "      <td>http://steamcommunity.com/app/761140/reviews/?...</td>\n",
       "      <td>[Single-player]</td>\n",
       "      <td>4.99</td>\n",
       "      <td>0.0</td>\n",
       "      <td>...</td>\n",
       "      <td>0</td>\n",
       "      <td>0</td>\n",
       "      <td>0</td>\n",
       "      <td>0</td>\n",
       "      <td>0</td>\n",
       "      <td>0</td>\n",
       "      <td>0</td>\n",
       "      <td>0</td>\n",
       "      <td>0</td>\n",
       "      <td>0</td>\n",
       "    </tr>\n",
       "    <tr>\n",
       "      <th>0</th>\n",
       "      <td>Simulation</td>\n",
       "      <td>Lost Summoner Kitty</td>\n",
       "      <td>Lost Summoner Kitty</td>\n",
       "      <td>http://store.steampowered.com/app/761140/Lost_...</td>\n",
       "      <td>2018</td>\n",
       "      <td>Strategy Action Indie Casual Simulation</td>\n",
       "      <td>http://steamcommunity.com/app/761140/reviews/?...</td>\n",
       "      <td>[Single-player]</td>\n",
       "      <td>4.99</td>\n",
       "      <td>0.0</td>\n",
       "      <td>...</td>\n",
       "      <td>0</td>\n",
       "      <td>0</td>\n",
       "      <td>0</td>\n",
       "      <td>1</td>\n",
       "      <td>0</td>\n",
       "      <td>0</td>\n",
       "      <td>0</td>\n",
       "      <td>0</td>\n",
       "      <td>0</td>\n",
       "      <td>0</td>\n",
       "    </tr>\n",
       "    <tr>\n",
       "      <th>0</th>\n",
       "      <td>Strategy</td>\n",
       "      <td>Lost Summoner Kitty</td>\n",
       "      <td>Lost Summoner Kitty</td>\n",
       "      <td>http://store.steampowered.com/app/761140/Lost_...</td>\n",
       "      <td>2018</td>\n",
       "      <td>Strategy Action Indie Casual Simulation</td>\n",
       "      <td>http://steamcommunity.com/app/761140/reviews/?...</td>\n",
       "      <td>[Single-player]</td>\n",
       "      <td>4.99</td>\n",
       "      <td>0.0</td>\n",
       "      <td>...</td>\n",
       "      <td>0</td>\n",
       "      <td>0</td>\n",
       "      <td>0</td>\n",
       "      <td>0</td>\n",
       "      <td>0</td>\n",
       "      <td>0</td>\n",
       "      <td>1</td>\n",
       "      <td>0</td>\n",
       "      <td>0</td>\n",
       "      <td>0</td>\n",
       "    </tr>\n",
       "  </tbody>\n",
       "</table>\n",
       "<p>5 rows × 34 columns</p>\n",
       "</div>"
      ],
      "text/plain": [
       "       genres            item_name                title  \\\n",
       "0      Action  Lost Summoner Kitty  Lost Summoner Kitty   \n",
       "0      Casual  Lost Summoner Kitty  Lost Summoner Kitty   \n",
       "0       Indie  Lost Summoner Kitty  Lost Summoner Kitty   \n",
       "0  Simulation  Lost Summoner Kitty  Lost Summoner Kitty   \n",
       "0    Strategy  Lost Summoner Kitty  Lost Summoner Kitty   \n",
       "\n",
       "                                                 url  release_date  \\\n",
       "0  http://store.steampowered.com/app/761140/Lost_...          2018   \n",
       "0  http://store.steampowered.com/app/761140/Lost_...          2018   \n",
       "0  http://store.steampowered.com/app/761140/Lost_...          2018   \n",
       "0  http://store.steampowered.com/app/761140/Lost_...          2018   \n",
       "0  http://store.steampowered.com/app/761140/Lost_...          2018   \n",
       "\n",
       "                                      tags  \\\n",
       "0  Strategy Action Indie Casual Simulation   \n",
       "0  Strategy Action Indie Casual Simulation   \n",
       "0  Strategy Action Indie Casual Simulation   \n",
       "0  Strategy Action Indie Casual Simulation   \n",
       "0  Strategy Action Indie Casual Simulation   \n",
       "\n",
       "                                         reviews_url            specs  price  \\\n",
       "0  http://steamcommunity.com/app/761140/reviews/?...  [Single-player]   4.99   \n",
       "0  http://steamcommunity.com/app/761140/reviews/?...  [Single-player]   4.99   \n",
       "0  http://steamcommunity.com/app/761140/reviews/?...  [Single-player]   4.99   \n",
       "0  http://steamcommunity.com/app/761140/reviews/?...  [Single-player]   4.99   \n",
       "0  http://steamcommunity.com/app/761140/reviews/?...  [Single-player]   4.99   \n",
       "\n",
       "   early_access  ...  Photo Editing RPG  Racing  Simulation  \\\n",
       "0           0.0  ...              0   0       0           0   \n",
       "0           0.0  ...              0   0       0           0   \n",
       "0           0.0  ...              0   0       0           0   \n",
       "0           0.0  ...              0   0       0           1   \n",
       "0           0.0  ...              0   0       0           0   \n",
       "\n",
       "   Software Training  Sports  Strategy  Utilities  Video Production  \\\n",
       "0                  0       0         0          0                 0   \n",
       "0                  0       0         0          0                 0   \n",
       "0                  0       0         0          0                 0   \n",
       "0                  0       0         0          0                 0   \n",
       "0                  0       0         1          0                 0   \n",
       "\n",
       "   Web Publishing  \n",
       "0               0  \n",
       "0               0  \n",
       "0               0  \n",
       "0               0  \n",
       "0               0  \n",
       "\n",
       "[5 rows x 34 columns]"
      ]
     },
     "execution_count": 318,
     "metadata": {},
     "output_type": "execute_result"
    }
   ],
   "source": [
    "def convert_genres_to_string(df):\n",
    "    df['genres'] = df['genres'].astype('string')\n",
    "    return df\n",
    "\n",
    "df_steam_games = convert_genres_to_string(df_steam_games)\n",
    "df_steam_games.head()"
   ]
  },
  {
   "cell_type": "code",
   "execution_count": 319,
   "metadata": {},
   "outputs": [
    {
     "data": {
      "text/html": [
       "<div>\n",
       "<style scoped>\n",
       "    .dataframe tbody tr th:only-of-type {\n",
       "        vertical-align: middle;\n",
       "    }\n",
       "\n",
       "    .dataframe tbody tr th {\n",
       "        vertical-align: top;\n",
       "    }\n",
       "\n",
       "    .dataframe thead th {\n",
       "        text-align: right;\n",
       "    }\n",
       "</style>\n",
       "<table border=\"1\" class=\"dataframe\">\n",
       "  <thead>\n",
       "    <tr style=\"text-align: right;\">\n",
       "      <th></th>\n",
       "      <th>genres</th>\n",
       "      <th>item_name</th>\n",
       "      <th>title</th>\n",
       "      <th>url</th>\n",
       "      <th>release_date</th>\n",
       "      <th>tags</th>\n",
       "      <th>reviews_url</th>\n",
       "      <th>specs</th>\n",
       "      <th>price</th>\n",
       "      <th>early_access</th>\n",
       "      <th>...</th>\n",
       "      <th>Photo Editing</th>\n",
       "      <th>RPG</th>\n",
       "      <th>Racing</th>\n",
       "      <th>Simulation</th>\n",
       "      <th>Software Training</th>\n",
       "      <th>Sports</th>\n",
       "      <th>Strategy</th>\n",
       "      <th>Utilities</th>\n",
       "      <th>Video Production</th>\n",
       "      <th>Web Publishing</th>\n",
       "    </tr>\n",
       "  </thead>\n",
       "  <tbody>\n",
       "  </tbody>\n",
       "</table>\n",
       "<p>0 rows × 34 columns</p>\n",
       "</div>"
      ],
      "text/plain": [
       "Empty DataFrame\n",
       "Columns: [genres, item_name, title, url, release_date, tags, reviews_url, specs, price, early_access, item_id, developer, Accounting, Action, Adventure, Animation &amp; Modeling, Audio Production, Casual, Design &amp; Illustration, Early Access, Education, Free to Play, Indie, Massively Multiplayer, Photo Editing, RPG, Racing, Simulation, Software Training, Sports, Strategy, Utilities, Video Production, Web Publishing]\n",
       "Index: []\n",
       "\n",
       "[0 rows x 34 columns]"
      ]
     },
     "execution_count": 319,
     "metadata": {},
     "output_type": "execute_result"
    }
   ],
   "source": [
    "df_steam_games.head(0)"
   ]
  },
  {
   "cell_type": "code",
   "execution_count": 320,
   "metadata": {},
   "outputs": [],
   "source": [
    "def drop_unnecessary_columns(df):\n",
    "    columns_to_drop = ['tags', 'Accounting', 'Action', 'Adventure', 'Animation &amp; Modeling', 'Audio Production', 'Casual', 'Design &amp; Illustration', 'Early Access', 'Education', 'Free to Play', 'Indie', 'Massively Multiplayer', 'Photo Editing', 'RPG', 'Racing', 'Simulation', 'Software Training', 'Sports', 'Strategy', 'Utilities', 'Video Production', 'Web Publishing']\n",
    "    df = df.drop(columns=columns_to_drop)\n",
    "    return df\n",
    "\n",
    "df_steam_games = drop_unnecessary_columns(df_steam_games)"
   ]
  },
  {
   "cell_type": "code",
   "execution_count": 321,
   "metadata": {},
   "outputs": [],
   "source": [
    "df_steam_games = df_steam_games.reset_index(drop=True)"
   ]
  },
  {
   "cell_type": "code",
   "execution_count": 322,
   "metadata": {},
   "outputs": [
    {
     "data": {
      "text/html": [
       "<div>\n",
       "<style scoped>\n",
       "    .dataframe tbody tr th:only-of-type {\n",
       "        vertical-align: middle;\n",
       "    }\n",
       "\n",
       "    .dataframe tbody tr th {\n",
       "        vertical-align: top;\n",
       "    }\n",
       "\n",
       "    .dataframe thead th {\n",
       "        text-align: right;\n",
       "    }\n",
       "</style>\n",
       "<table border=\"1\" class=\"dataframe\">\n",
       "  <thead>\n",
       "    <tr style=\"text-align: right;\">\n",
       "      <th></th>\n",
       "      <th>genres</th>\n",
       "      <th>item_name</th>\n",
       "      <th>title</th>\n",
       "      <th>url</th>\n",
       "      <th>release_date</th>\n",
       "      <th>reviews_url</th>\n",
       "      <th>specs</th>\n",
       "      <th>price</th>\n",
       "      <th>early_access</th>\n",
       "      <th>item_id</th>\n",
       "      <th>developer</th>\n",
       "    </tr>\n",
       "  </thead>\n",
       "  <tbody>\n",
       "    <tr>\n",
       "      <th>0</th>\n",
       "      <td>Action</td>\n",
       "      <td>Lost Summoner Kitty</td>\n",
       "      <td>Lost Summoner Kitty</td>\n",
       "      <td>http://store.steampowered.com/app/761140/Lost_...</td>\n",
       "      <td>2018</td>\n",
       "      <td>http://steamcommunity.com/app/761140/reviews/?...</td>\n",
       "      <td>[Single-player]</td>\n",
       "      <td>4.99</td>\n",
       "      <td>0.0</td>\n",
       "      <td>761140</td>\n",
       "      <td>Kotoshiro</td>\n",
       "    </tr>\n",
       "    <tr>\n",
       "      <th>1</th>\n",
       "      <td>Casual</td>\n",
       "      <td>Lost Summoner Kitty</td>\n",
       "      <td>Lost Summoner Kitty</td>\n",
       "      <td>http://store.steampowered.com/app/761140/Lost_...</td>\n",
       "      <td>2018</td>\n",
       "      <td>http://steamcommunity.com/app/761140/reviews/?...</td>\n",
       "      <td>[Single-player]</td>\n",
       "      <td>4.99</td>\n",
       "      <td>0.0</td>\n",
       "      <td>761140</td>\n",
       "      <td>Kotoshiro</td>\n",
       "    </tr>\n",
       "    <tr>\n",
       "      <th>2</th>\n",
       "      <td>Indie</td>\n",
       "      <td>Lost Summoner Kitty</td>\n",
       "      <td>Lost Summoner Kitty</td>\n",
       "      <td>http://store.steampowered.com/app/761140/Lost_...</td>\n",
       "      <td>2018</td>\n",
       "      <td>http://steamcommunity.com/app/761140/reviews/?...</td>\n",
       "      <td>[Single-player]</td>\n",
       "      <td>4.99</td>\n",
       "      <td>0.0</td>\n",
       "      <td>761140</td>\n",
       "      <td>Kotoshiro</td>\n",
       "    </tr>\n",
       "    <tr>\n",
       "      <th>3</th>\n",
       "      <td>Simulation</td>\n",
       "      <td>Lost Summoner Kitty</td>\n",
       "      <td>Lost Summoner Kitty</td>\n",
       "      <td>http://store.steampowered.com/app/761140/Lost_...</td>\n",
       "      <td>2018</td>\n",
       "      <td>http://steamcommunity.com/app/761140/reviews/?...</td>\n",
       "      <td>[Single-player]</td>\n",
       "      <td>4.99</td>\n",
       "      <td>0.0</td>\n",
       "      <td>761140</td>\n",
       "      <td>Kotoshiro</td>\n",
       "    </tr>\n",
       "  </tbody>\n",
       "</table>\n",
       "</div>"
      ],
      "text/plain": [
       "       genres            item_name                title  \\\n",
       "0      Action  Lost Summoner Kitty  Lost Summoner Kitty   \n",
       "1      Casual  Lost Summoner Kitty  Lost Summoner Kitty   \n",
       "2       Indie  Lost Summoner Kitty  Lost Summoner Kitty   \n",
       "3  Simulation  Lost Summoner Kitty  Lost Summoner Kitty   \n",
       "\n",
       "                                                 url  release_date  \\\n",
       "0  http://store.steampowered.com/app/761140/Lost_...          2018   \n",
       "1  http://store.steampowered.com/app/761140/Lost_...          2018   \n",
       "2  http://store.steampowered.com/app/761140/Lost_...          2018   \n",
       "3  http://store.steampowered.com/app/761140/Lost_...          2018   \n",
       "\n",
       "                                         reviews_url            specs  price  \\\n",
       "0  http://steamcommunity.com/app/761140/reviews/?...  [Single-player]   4.99   \n",
       "1  http://steamcommunity.com/app/761140/reviews/?...  [Single-player]   4.99   \n",
       "2  http://steamcommunity.com/app/761140/reviews/?...  [Single-player]   4.99   \n",
       "3  http://steamcommunity.com/app/761140/reviews/?...  [Single-player]   4.99   \n",
       "\n",
       "   early_access  item_id  developer  \n",
       "0           0.0   761140  Kotoshiro  \n",
       "1           0.0   761140  Kotoshiro  \n",
       "2           0.0   761140  Kotoshiro  \n",
       "3           0.0   761140  Kotoshiro  "
      ]
     },
     "execution_count": 322,
     "metadata": {},
     "output_type": "execute_result"
    }
   ],
   "source": [
    "df_steam_games.head(4)"
   ]
  },
  {
   "cell_type": "code",
   "execution_count": 323,
   "metadata": {},
   "outputs": [
    {
     "data": {
      "text/plain": [
       "<StringArray>\n",
       "[                   'Action',                    'Casual',\n",
       "                     'Indie',                'Simulation',\n",
       "                  'Strategy',              'Free to Play',\n",
       "                       'RPG',                    'Sports',\n",
       "                 'Adventure',                        '[]',\n",
       "                    'Racing',              'Early Access',\n",
       "     'Massively Multiplayer',  'Animation &amp; Modeling',\n",
       "          'Video Production',                 'Utilities',\n",
       "            'Web Publishing',                 'Education',\n",
       "         'Software Training', 'Design &amp; Illustration',\n",
       "          'Audio Production',             'Photo Editing',\n",
       "                'Accounting']\n",
       "Length: 23, dtype: string"
      ]
     },
     "execution_count": 323,
     "metadata": {},
     "output_type": "execute_result"
    }
   ],
   "source": [
    "# mostrar valores unicos de la columna genres en una lista\n",
    "\n",
    "df_steam_games['genres'].unique()"
   ]
  },
  {
   "cell_type": "code",
   "execution_count": 324,
   "metadata": {},
   "outputs": [],
   "source": [
    "# Cambiar los valores de la columna 'genres' 'Free to Play' y 'Early Access' por la etiqueta 'Desconocido'\n",
    "df_steam_games['genres'] = df_steam_games['genres'].replace(['Free to Play', 'Early Access', '[]'], 'Desconocido')"
   ]
  },
  {
   "cell_type": "code",
   "execution_count": 325,
   "metadata": {},
   "outputs": [
    {
     "data": {
      "text/html": [
       "<div>\n",
       "<style scoped>\n",
       "    .dataframe tbody tr th:only-of-type {\n",
       "        vertical-align: middle;\n",
       "    }\n",
       "\n",
       "    .dataframe tbody tr th {\n",
       "        vertical-align: top;\n",
       "    }\n",
       "\n",
       "    .dataframe thead th {\n",
       "        text-align: right;\n",
       "    }\n",
       "</style>\n",
       "<table border=\"1\" class=\"dataframe\">\n",
       "  <thead>\n",
       "    <tr style=\"text-align: right;\">\n",
       "      <th></th>\n",
       "      <th>genres</th>\n",
       "      <th>item_name</th>\n",
       "      <th>title</th>\n",
       "      <th>url</th>\n",
       "      <th>release_date</th>\n",
       "      <th>reviews_url</th>\n",
       "      <th>specs</th>\n",
       "      <th>price</th>\n",
       "      <th>early_access</th>\n",
       "      <th>item_id</th>\n",
       "      <th>developer</th>\n",
       "    </tr>\n",
       "  </thead>\n",
       "  <tbody>\n",
       "    <tr>\n",
       "      <th>5</th>\n",
       "      <td>Desconocido</td>\n",
       "      <td>Ironbound</td>\n",
       "      <td>Ironbound</td>\n",
       "      <td>http://store.steampowered.com/app/643980/Ironb...</td>\n",
       "      <td>2018</td>\n",
       "      <td>http://steamcommunity.com/app/643980/reviews/?...</td>\n",
       "      <td>[Single-player, Multi-player, Online Multi-Pla...</td>\n",
       "      <td>0.00</td>\n",
       "      <td>0.0</td>\n",
       "      <td>643980</td>\n",
       "      <td>Secret Level SRL</td>\n",
       "    </tr>\n",
       "    <tr>\n",
       "      <th>10</th>\n",
       "      <td>Desconocido</td>\n",
       "      <td>Real Pool 3D - Poolians</td>\n",
       "      <td>Real Pool 3D - Poolians</td>\n",
       "      <td>http://store.steampowered.com/app/670290/Real_...</td>\n",
       "      <td>2017</td>\n",
       "      <td>http://steamcommunity.com/app/670290/reviews/?...</td>\n",
       "      <td>[Single-player, Multi-player, Online Multi-Pla...</td>\n",
       "      <td>0.00</td>\n",
       "      <td>0.0</td>\n",
       "      <td>670290</td>\n",
       "      <td>Poolians.com</td>\n",
       "    </tr>\n",
       "    <tr>\n",
       "      <th>17</th>\n",
       "      <td>Desconocido</td>\n",
       "      <td>Log Challenge</td>\n",
       "      <td>None</td>\n",
       "      <td>http://store.steampowered.com/app/773570/Log_C...</td>\n",
       "      <td>0</td>\n",
       "      <td>http://steamcommunity.com/app/773570/reviews/?...</td>\n",
       "      <td>[Single-player, Full controller support, HTC V...</td>\n",
       "      <td>2.99</td>\n",
       "      <td>0.0</td>\n",
       "      <td>773570</td>\n",
       "      <td>Dev-desconocidos</td>\n",
       "    </tr>\n",
       "    <tr>\n",
       "      <th>21</th>\n",
       "      <td>Desconocido</td>\n",
       "      <td>SNOW - All Access Basic Pass</td>\n",
       "      <td>SNOW - All Access Basic Pass</td>\n",
       "      <td>http://store.steampowered.com/app/774276/SNOW_...</td>\n",
       "      <td>2018</td>\n",
       "      <td>http://steamcommunity.com/app/774276/reviews/?...</td>\n",
       "      <td>[Single-player, Multi-player, Online Multi-Pla...</td>\n",
       "      <td>9.99</td>\n",
       "      <td>0.0</td>\n",
       "      <td>774276</td>\n",
       "      <td>Poppermost Productions</td>\n",
       "    </tr>\n",
       "    <tr>\n",
       "      <th>25</th>\n",
       "      <td>Desconocido</td>\n",
       "      <td>SNOW - All Access Pro Pass</td>\n",
       "      <td>SNOW - All Access Pro Pass</td>\n",
       "      <td>http://store.steampowered.com/app/774277/SNOW_...</td>\n",
       "      <td>2018</td>\n",
       "      <td>http://steamcommunity.com/app/774277/reviews/?...</td>\n",
       "      <td>[Single-player, Multi-player, Online Multi-Pla...</td>\n",
       "      <td>18.99</td>\n",
       "      <td>0.0</td>\n",
       "      <td>774277</td>\n",
       "      <td>Poppermost Productions</td>\n",
       "    </tr>\n",
       "    <tr>\n",
       "      <th>...</th>\n",
       "      <td>...</td>\n",
       "      <td>...</td>\n",
       "      <td>...</td>\n",
       "      <td>...</td>\n",
       "      <td>...</td>\n",
       "      <td>...</td>\n",
       "      <td>...</td>\n",
       "      <td>...</td>\n",
       "      <td>...</td>\n",
       "      <td>...</td>\n",
       "      <td>...</td>\n",
       "    </tr>\n",
       "    <tr>\n",
       "      <th>74800</th>\n",
       "      <td>Desconocido</td>\n",
       "      <td>Robotpencil Presents: Creative Composition</td>\n",
       "      <td>Robotpencil Presents: Creative Composition</td>\n",
       "      <td>http://store.steampowered.com/app/777930/Robot...</td>\n",
       "      <td>2018</td>\n",
       "      <td>http://steamcommunity.com/app/777930/reviews/?...</td>\n",
       "      <td>None</td>\n",
       "      <td>3.99</td>\n",
       "      <td>0.0</td>\n",
       "      <td>777930</td>\n",
       "      <td>Dev-desconocidos</td>\n",
       "    </tr>\n",
       "    <tr>\n",
       "      <th>74801</th>\n",
       "      <td>Desconocido</td>\n",
       "      <td>The Gamble House</td>\n",
       "      <td>The Gamble House</td>\n",
       "      <td>http://store.steampowered.com/app/775370/The_G...</td>\n",
       "      <td>2016</td>\n",
       "      <td>http://steamcommunity.com/app/775370/reviews/?...</td>\n",
       "      <td>[Captions available]</td>\n",
       "      <td>4.99</td>\n",
       "      <td>0.0</td>\n",
       "      <td>775370</td>\n",
       "      <td>Dev-desconocidos</td>\n",
       "    </tr>\n",
       "    <tr>\n",
       "      <th>74802</th>\n",
       "      <td>Desconocido</td>\n",
       "      <td>Kalen Chock Presents: 2017 Free Tutorial</td>\n",
       "      <td>Kalen Chock Presents: 2017 Free Tutorial</td>\n",
       "      <td>http://store.steampowered.com/app/777950/Kalen...</td>\n",
       "      <td>2018</td>\n",
       "      <td>http://steamcommunity.com/app/777950/reviews/?...</td>\n",
       "      <td>None</td>\n",
       "      <td>0.00</td>\n",
       "      <td>0.0</td>\n",
       "      <td>777950</td>\n",
       "      <td>Dev-desconocidos</td>\n",
       "    </tr>\n",
       "    <tr>\n",
       "      <th>74808</th>\n",
       "      <td>Desconocido</td>\n",
       "      <td>Cricket Club</td>\n",
       "      <td>Cricket Club</td>\n",
       "      <td>http://store.steampowered.com/app/772180/Crick...</td>\n",
       "      <td>2018</td>\n",
       "      <td>http://steamcommunity.com/app/772180/reviews/?...</td>\n",
       "      <td>[Single-player]</td>\n",
       "      <td>4.99</td>\n",
       "      <td>1.0</td>\n",
       "      <td>772180</td>\n",
       "      <td>VersoVR</td>\n",
       "    </tr>\n",
       "    <tr>\n",
       "      <th>74836</th>\n",
       "      <td>Desconocido</td>\n",
       "      <td>Maze Run VR</td>\n",
       "      <td>None</td>\n",
       "      <td>http://store.steampowered.com/app/681550/Maze_...</td>\n",
       "      <td>0</td>\n",
       "      <td>http://steamcommunity.com/app/681550/reviews/?...</td>\n",
       "      <td>[Single-player, Stats, Steam Leaderboards, HTC...</td>\n",
       "      <td>4.99</td>\n",
       "      <td>1.0</td>\n",
       "      <td>681550</td>\n",
       "      <td>Dev-desconocidos</td>\n",
       "    </tr>\n",
       "  </tbody>\n",
       "</table>\n",
       "<p>6776 rows × 11 columns</p>\n",
       "</div>"
      ],
      "text/plain": [
       "            genres                                   item_name  \\\n",
       "5      Desconocido                                   Ironbound   \n",
       "10     Desconocido                     Real Pool 3D - Poolians   \n",
       "17     Desconocido                               Log Challenge   \n",
       "21     Desconocido                SNOW - All Access Basic Pass   \n",
       "25     Desconocido                  SNOW - All Access Pro Pass   \n",
       "...            ...                                         ...   \n",
       "74800  Desconocido  Robotpencil Presents: Creative Composition   \n",
       "74801  Desconocido                            The Gamble House   \n",
       "74802  Desconocido    Kalen Chock Presents: 2017 Free Tutorial   \n",
       "74808  Desconocido                                Cricket Club   \n",
       "74836  Desconocido                                 Maze Run VR   \n",
       "\n",
       "                                            title  \\\n",
       "5                                       Ironbound   \n",
       "10                        Real Pool 3D - Poolians   \n",
       "17                                           None   \n",
       "21                   SNOW - All Access Basic Pass   \n",
       "25                     SNOW - All Access Pro Pass   \n",
       "...                                           ...   \n",
       "74800  Robotpencil Presents: Creative Composition   \n",
       "74801                            The Gamble House   \n",
       "74802    Kalen Chock Presents: 2017 Free Tutorial   \n",
       "74808                                Cricket Club   \n",
       "74836                                        None   \n",
       "\n",
       "                                                     url  release_date  \\\n",
       "5      http://store.steampowered.com/app/643980/Ironb...          2018   \n",
       "10     http://store.steampowered.com/app/670290/Real_...          2017   \n",
       "17     http://store.steampowered.com/app/773570/Log_C...             0   \n",
       "21     http://store.steampowered.com/app/774276/SNOW_...          2018   \n",
       "25     http://store.steampowered.com/app/774277/SNOW_...          2018   \n",
       "...                                                  ...           ...   \n",
       "74800  http://store.steampowered.com/app/777930/Robot...          2018   \n",
       "74801  http://store.steampowered.com/app/775370/The_G...          2016   \n",
       "74802  http://store.steampowered.com/app/777950/Kalen...          2018   \n",
       "74808  http://store.steampowered.com/app/772180/Crick...          2018   \n",
       "74836  http://store.steampowered.com/app/681550/Maze_...             0   \n",
       "\n",
       "                                             reviews_url  \\\n",
       "5      http://steamcommunity.com/app/643980/reviews/?...   \n",
       "10     http://steamcommunity.com/app/670290/reviews/?...   \n",
       "17     http://steamcommunity.com/app/773570/reviews/?...   \n",
       "21     http://steamcommunity.com/app/774276/reviews/?...   \n",
       "25     http://steamcommunity.com/app/774277/reviews/?...   \n",
       "...                                                  ...   \n",
       "74800  http://steamcommunity.com/app/777930/reviews/?...   \n",
       "74801  http://steamcommunity.com/app/775370/reviews/?...   \n",
       "74802  http://steamcommunity.com/app/777950/reviews/?...   \n",
       "74808  http://steamcommunity.com/app/772180/reviews/?...   \n",
       "74836  http://steamcommunity.com/app/681550/reviews/?...   \n",
       "\n",
       "                                                   specs  price  early_access  \\\n",
       "5      [Single-player, Multi-player, Online Multi-Pla...   0.00           0.0   \n",
       "10     [Single-player, Multi-player, Online Multi-Pla...   0.00           0.0   \n",
       "17     [Single-player, Full controller support, HTC V...   2.99           0.0   \n",
       "21     [Single-player, Multi-player, Online Multi-Pla...   9.99           0.0   \n",
       "25     [Single-player, Multi-player, Online Multi-Pla...  18.99           0.0   \n",
       "...                                                  ...    ...           ...   \n",
       "74800                                               None   3.99           0.0   \n",
       "74801                               [Captions available]   4.99           0.0   \n",
       "74802                                               None   0.00           0.0   \n",
       "74808                                    [Single-player]   4.99           1.0   \n",
       "74836  [Single-player, Stats, Steam Leaderboards, HTC...   4.99           1.0   \n",
       "\n",
       "       item_id               developer  \n",
       "5       643980        Secret Level SRL  \n",
       "10      670290            Poolians.com  \n",
       "17      773570        Dev-desconocidos  \n",
       "21      774276  Poppermost Productions  \n",
       "25      774277  Poppermost Productions  \n",
       "...        ...                     ...  \n",
       "74800   777930        Dev-desconocidos  \n",
       "74801   775370        Dev-desconocidos  \n",
       "74802   777950        Dev-desconocidos  \n",
       "74808   772180                 VersoVR  \n",
       "74836   681550        Dev-desconocidos  \n",
       "\n",
       "[6776 rows x 11 columns]"
      ]
     },
     "execution_count": 325,
     "metadata": {},
     "output_type": "execute_result"
    }
   ],
   "source": [
    "# buscar el valor Early Access en la columna genres\n",
    "df_steam_games[df_steam_games['genres'].str.contains('Desconocido')] "
   ]
  },
  {
   "cell_type": "code",
   "execution_count": 326,
   "metadata": {},
   "outputs": [
    {
     "data": {
      "text/plain": [
       "(74837, 11)"
      ]
     },
     "execution_count": 326,
     "metadata": {},
     "output_type": "execute_result"
    }
   ],
   "source": [
    "df_steam_games.shape"
   ]
  },
  {
   "cell_type": "code",
   "execution_count": 327,
   "metadata": {},
   "outputs": [
    {
     "data": {
      "text/plain": [
       "genres             0\n",
       "item_name          0\n",
       "title           2051\n",
       "url                0\n",
       "release_date       0\n",
       "reviews_url        3\n",
       "specs            941\n",
       "price              0\n",
       "early_access       0\n",
       "item_id            0\n",
       "developer          0\n",
       "dtype: int64"
      ]
     },
     "execution_count": 327,
     "metadata": {},
     "output_type": "execute_result"
    }
   ],
   "source": [
    "# mostrar valores null en el dataframe\n",
    "df_steam_games.isnull().sum()"
   ]
  },
  {
   "cell_type": "code",
   "execution_count": 328,
   "metadata": {},
   "outputs": [
    {
     "data": {
      "text/plain": [
       "genres\n",
       "Indie                        15858\n",
       "Action                       11321\n",
       "Casual                        8282\n",
       "Adventure                     8243\n",
       "Strategy                      6957\n",
       "Desconocido                   6776\n",
       "Simulation                    6699\n",
       "RPG                           5479\n",
       "Sports                        1257\n",
       "Massively Multiplayer         1108\n",
       "Racing                        1083\n",
       "Design &amp; Illustration      460\n",
       "Utilities                      340\n",
       "Web Publishing                 268\n",
       "Animation &amp; Modeling       183\n",
       "Education                      125\n",
       "Video Production               116\n",
       "Software Training              105\n",
       "Audio Production                93\n",
       "Photo Editing                   77\n",
       "Accounting                       7\n",
       "Name: count, dtype: Int64"
      ]
     },
     "execution_count": 328,
     "metadata": {},
     "output_type": "execute_result"
    }
   ],
   "source": [
    "# ver frecuencia de valores en la columna genres\n",
    "df_steam_games['genres'].value_counts()"
   ]
  },
  {
   "cell_type": "markdown",
   "metadata": {},
   "source": [
    "Eliminamos las columnas que no usaremos\n",
    "1. early_acces\n",
    "2. title\n",
    "3. publisher\n",
    "4. reviews_url\n",
    "5. url\n",
    "6. tags\n",
    "7. specs\n",
    "\n",
    "### Se **usaran**\n",
    "1. genres\n",
    "2. item_name \n",
    "3. release_date \n",
    "4. price \n",
    "5. item_id \n",
    "6. developer\n",
    "\n",
    "- cambiar tipos de datos "
   ]
  },
  {
   "cell_type": "code",
   "execution_count": 329,
   "metadata": {},
   "outputs": [],
   "source": [
    "# Eliminamos ls columnas que no usaremos\n",
    "df_steam_games = df_steam_games.drop(columns=['early_access', 'reviews_url', 'url', 'title','specs'])"
   ]
  },
  {
   "cell_type": "code",
   "execution_count": 330,
   "metadata": {},
   "outputs": [
    {
     "data": {
      "text/html": [
       "<div>\n",
       "<style scoped>\n",
       "    .dataframe tbody tr th:only-of-type {\n",
       "        vertical-align: middle;\n",
       "    }\n",
       "\n",
       "    .dataframe tbody tr th {\n",
       "        vertical-align: top;\n",
       "    }\n",
       "\n",
       "    .dataframe thead th {\n",
       "        text-align: right;\n",
       "    }\n",
       "</style>\n",
       "<table border=\"1\" class=\"dataframe\">\n",
       "  <thead>\n",
       "    <tr style=\"text-align: right;\">\n",
       "      <th></th>\n",
       "      <th>genres</th>\n",
       "      <th>item_name</th>\n",
       "      <th>release_date</th>\n",
       "      <th>price</th>\n",
       "      <th>item_id</th>\n",
       "      <th>developer</th>\n",
       "    </tr>\n",
       "  </thead>\n",
       "  <tbody>\n",
       "  </tbody>\n",
       "</table>\n",
       "</div>"
      ],
      "text/plain": [
       "Empty DataFrame\n",
       "Columns: [genres, item_name, release_date, price, item_id, developer]\n",
       "Index: []"
      ]
     },
     "execution_count": 330,
     "metadata": {},
     "output_type": "execute_result"
    }
   ],
   "source": [
    "df_steam_games.head(0)"
   ]
  },
  {
   "cell_type": "code",
   "execution_count": 331,
   "metadata": {},
   "outputs": [
    {
     "data": {
      "text/plain": [
       "(74837, 6)"
      ]
     },
     "execution_count": 331,
     "metadata": {},
     "output_type": "execute_result"
    }
   ],
   "source": [
    "df_steam_games.shape"
   ]
  },
  {
   "cell_type": "code",
   "execution_count": 332,
   "metadata": {},
   "outputs": [],
   "source": [
    "# Cambiar el tipo de dato de las columnas 'item_name' y 'developer' a string\n",
    "df_steam_games['item_name'] = df_steam_games['item_name'].astype(str)\n",
    "df_steam_games['developer'] = df_steam_games['developer'].astype(str)"
   ]
  },
  {
   "cell_type": "code",
   "execution_count": 333,
   "metadata": {},
   "outputs": [
    {
     "name": "stdout",
     "output_type": "stream",
     "text": [
      "<class 'pandas.core.frame.DataFrame'>\n",
      "RangeIndex: 74837 entries, 0 to 74836\n",
      "Data columns (total 6 columns):\n",
      " #   Column        Non-Null Count  Dtype  \n",
      "---  ------        --------------  -----  \n",
      " 0   genres        74837 non-null  string \n",
      " 1   item_name     74837 non-null  object \n",
      " 2   release_date  74837 non-null  int32  \n",
      " 3   price         74837 non-null  float64\n",
      " 4   item_id       74837 non-null  int32  \n",
      " 5   developer     74837 non-null  object \n",
      "dtypes: float64(1), int32(2), object(2), string(1)\n",
      "memory usage: 2.9+ MB\n"
     ]
    }
   ],
   "source": [
    "df_steam_games.info()"
   ]
  },
  {
   "cell_type": "code",
   "execution_count": 334,
   "metadata": {},
   "outputs": [
    {
     "data": {
      "text/plain": [
       "genres          74837\n",
       "item_name       74837\n",
       "release_date    74837\n",
       "price           74837\n",
       "item_id         74837\n",
       "developer       74837\n",
       "dtype: int64"
      ]
     },
     "execution_count": 334,
     "metadata": {},
     "output_type": "execute_result"
    }
   ],
   "source": [
    "# cantidad de filas por columna\n",
    "df_steam_games.count() "
   ]
  },
  {
   "cell_type": "code",
   "execution_count": 335,
   "metadata": {},
   "outputs": [
    {
     "data": {
      "text/html": [
       "<div>\n",
       "<style scoped>\n",
       "    .dataframe tbody tr th:only-of-type {\n",
       "        vertical-align: middle;\n",
       "    }\n",
       "\n",
       "    .dataframe tbody tr th {\n",
       "        vertical-align: top;\n",
       "    }\n",
       "\n",
       "    .dataframe thead th {\n",
       "        text-align: right;\n",
       "    }\n",
       "</style>\n",
       "<table border=\"1\" class=\"dataframe\">\n",
       "  <thead>\n",
       "    <tr style=\"text-align: right;\">\n",
       "      <th></th>\n",
       "      <th>genres</th>\n",
       "      <th>item_name</th>\n",
       "      <th>release_date</th>\n",
       "      <th>price</th>\n",
       "      <th>item_id</th>\n",
       "      <th>developer</th>\n",
       "    </tr>\n",
       "  </thead>\n",
       "  <tbody>\n",
       "    <tr>\n",
       "      <th>0</th>\n",
       "      <td>Action</td>\n",
       "      <td>Lost Summoner Kitty</td>\n",
       "      <td>2018</td>\n",
       "      <td>4.99</td>\n",
       "      <td>761140</td>\n",
       "      <td>Kotoshiro</td>\n",
       "    </tr>\n",
       "    <tr>\n",
       "      <th>1</th>\n",
       "      <td>Casual</td>\n",
       "      <td>Lost Summoner Kitty</td>\n",
       "      <td>2018</td>\n",
       "      <td>4.99</td>\n",
       "      <td>761140</td>\n",
       "      <td>Kotoshiro</td>\n",
       "    </tr>\n",
       "    <tr>\n",
       "      <th>2</th>\n",
       "      <td>Indie</td>\n",
       "      <td>Lost Summoner Kitty</td>\n",
       "      <td>2018</td>\n",
       "      <td>4.99</td>\n",
       "      <td>761140</td>\n",
       "      <td>Kotoshiro</td>\n",
       "    </tr>\n",
       "    <tr>\n",
       "      <th>3</th>\n",
       "      <td>Simulation</td>\n",
       "      <td>Lost Summoner Kitty</td>\n",
       "      <td>2018</td>\n",
       "      <td>4.99</td>\n",
       "      <td>761140</td>\n",
       "      <td>Kotoshiro</td>\n",
       "    </tr>\n",
       "    <tr>\n",
       "      <th>4</th>\n",
       "      <td>Strategy</td>\n",
       "      <td>Lost Summoner Kitty</td>\n",
       "      <td>2018</td>\n",
       "      <td>4.99</td>\n",
       "      <td>761140</td>\n",
       "      <td>Kotoshiro</td>\n",
       "    </tr>\n",
       "    <tr>\n",
       "      <th>...</th>\n",
       "      <td>...</td>\n",
       "      <td>...</td>\n",
       "      <td>...</td>\n",
       "      <td>...</td>\n",
       "      <td>...</td>\n",
       "      <td>...</td>\n",
       "    </tr>\n",
       "    <tr>\n",
       "      <th>74832</th>\n",
       "      <td>Racing</td>\n",
       "      <td>Russian Roads</td>\n",
       "      <td>2018</td>\n",
       "      <td>1.99</td>\n",
       "      <td>610660</td>\n",
       "      <td>Laush Dmitriy Sergeevich</td>\n",
       "    </tr>\n",
       "    <tr>\n",
       "      <th>74833</th>\n",
       "      <td>Simulation</td>\n",
       "      <td>Russian Roads</td>\n",
       "      <td>2018</td>\n",
       "      <td>1.99</td>\n",
       "      <td>610660</td>\n",
       "      <td>Laush Dmitriy Sergeevich</td>\n",
       "    </tr>\n",
       "    <tr>\n",
       "      <th>74834</th>\n",
       "      <td>Casual</td>\n",
       "      <td>EXIT 2 - Directions</td>\n",
       "      <td>2017</td>\n",
       "      <td>4.99</td>\n",
       "      <td>658870</td>\n",
       "      <td>xropi,stev3ns</td>\n",
       "    </tr>\n",
       "    <tr>\n",
       "      <th>74835</th>\n",
       "      <td>Indie</td>\n",
       "      <td>EXIT 2 - Directions</td>\n",
       "      <td>2017</td>\n",
       "      <td>4.99</td>\n",
       "      <td>658870</td>\n",
       "      <td>xropi,stev3ns</td>\n",
       "    </tr>\n",
       "    <tr>\n",
       "      <th>74836</th>\n",
       "      <td>Desconocido</td>\n",
       "      <td>Maze Run VR</td>\n",
       "      <td>0</td>\n",
       "      <td>4.99</td>\n",
       "      <td>681550</td>\n",
       "      <td>Dev-desconocidos</td>\n",
       "    </tr>\n",
       "  </tbody>\n",
       "</table>\n",
       "<p>74837 rows × 6 columns</p>\n",
       "</div>"
      ],
      "text/plain": [
       "            genres            item_name  release_date  price  item_id  \\\n",
       "0           Action  Lost Summoner Kitty          2018   4.99   761140   \n",
       "1           Casual  Lost Summoner Kitty          2018   4.99   761140   \n",
       "2            Indie  Lost Summoner Kitty          2018   4.99   761140   \n",
       "3       Simulation  Lost Summoner Kitty          2018   4.99   761140   \n",
       "4         Strategy  Lost Summoner Kitty          2018   4.99   761140   \n",
       "...            ...                  ...           ...    ...      ...   \n",
       "74832       Racing        Russian Roads          2018   1.99   610660   \n",
       "74833   Simulation        Russian Roads          2018   1.99   610660   \n",
       "74834       Casual  EXIT 2 - Directions          2017   4.99   658870   \n",
       "74835        Indie  EXIT 2 - Directions          2017   4.99   658870   \n",
       "74836  Desconocido          Maze Run VR             0   4.99   681550   \n",
       "\n",
       "                      developer  \n",
       "0                     Kotoshiro  \n",
       "1                     Kotoshiro  \n",
       "2                     Kotoshiro  \n",
       "3                     Kotoshiro  \n",
       "4                     Kotoshiro  \n",
       "...                         ...  \n",
       "74832  Laush Dmitriy Sergeevich  \n",
       "74833  Laush Dmitriy Sergeevich  \n",
       "74834             xropi,stev3ns  \n",
       "74835             xropi,stev3ns  \n",
       "74836          Dev-desconocidos  \n",
       "\n",
       "[74837 rows x 6 columns]"
      ]
     },
     "execution_count": 335,
     "metadata": {},
     "output_type": "execute_result"
    }
   ],
   "source": [
    "df_steam_games"
   ]
  },
  {
   "cell_type": "code",
   "execution_count": 337,
   "metadata": {},
   "outputs": [
    {
     "data": {
      "text/plain": [
       "genres          0\n",
       "item_name       0\n",
       "release_date    0\n",
       "price           0\n",
       "item_id         0\n",
       "developer       0\n",
       "dtype: int64"
      ]
     },
     "execution_count": 337,
     "metadata": {},
     "output_type": "execute_result"
    }
   ],
   "source": [
    "# mostrar valores null en el dataframe\n",
    "df_steam_games.isnull().sum()"
   ]
  },
  {
   "cell_type": "markdown",
   "metadata": {},
   "source": [
    "Convertimos el **`DataFrame`** **`df_steam_games`** a un archivo **`Parquet`** utilizando el método **`to_parquet()`**"
   ]
  },
  {
   "cell_type": "code",
   "execution_count": 336,
   "metadata": {},
   "outputs": [],
   "source": [
    "# convertir el dataframe a parquet\n",
    "df_steam_games.to_parquet('games.parquet', index=False)"
   ]
  }
 ],
 "metadata": {
  "kernelspec": {
   "display_name": "Python 3",
   "language": "python",
   "name": "python3"
  },
  "language_info": {
   "codemirror_mode": {
    "name": "ipython",
    "version": 3
   },
   "file_extension": ".py",
   "mimetype": "text/x-python",
   "name": "python",
   "nbconvert_exporter": "python",
   "pygments_lexer": "ipython3",
   "version": "3.11.4"
  }
 },
 "nbformat": 4,
 "nbformat_minor": 2
}
