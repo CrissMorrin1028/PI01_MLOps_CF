{
 "cells": [
  {
   "cell_type": "markdown",
   "metadata": {},
   "source": [
    "###  **``función 1``**:\n",
    " def **desarrollador**( **`desarrollador`**: **str** ) : Cantidad de items y porcentajede contenido Free por año según empresa desarrolladora. **variables**: **``item_id``**, **`developer`**, **`release_date`**, **`price`**"
   ]
  },
  {
   "cell_type": "code",
   "execution_count": 1,
   "metadata": {},
   "outputs": [],
   "source": [
    "# importamos la libreria de pandas\n",
    "import pandas as pd"
   ]
  },
  {
   "cell_type": "code",
   "execution_count": 30,
   "metadata": {},
   "outputs": [
    {
     "data": {
      "text/html": [
       "<div>\n",
       "<style scoped>\n",
       "    .dataframe tbody tr th:only-of-type {\n",
       "        vertical-align: middle;\n",
       "    }\n",
       "\n",
       "    .dataframe tbody tr th {\n",
       "        vertical-align: top;\n",
       "    }\n",
       "\n",
       "    .dataframe thead th {\n",
       "        text-align: right;\n",
       "    }\n",
       "</style>\n",
       "<table border=\"1\" class=\"dataframe\">\n",
       "  <thead>\n",
       "    <tr style=\"text-align: right;\">\n",
       "      <th></th>\n",
       "      <th>genres</th>\n",
       "      <th>item_name</th>\n",
       "      <th>release_date</th>\n",
       "      <th>price</th>\n",
       "      <th>item_id</th>\n",
       "      <th>developer</th>\n",
       "    </tr>\n",
       "  </thead>\n",
       "  <tbody>\n",
       "    <tr>\n",
       "      <th>0</th>\n",
       "      <td>Action</td>\n",
       "      <td>Lost Summoner Kitty</td>\n",
       "      <td>2018</td>\n",
       "      <td>4.99</td>\n",
       "      <td>761140</td>\n",
       "      <td>Kotoshiro</td>\n",
       "    </tr>\n",
       "    <tr>\n",
       "      <th>1</th>\n",
       "      <td>Casual</td>\n",
       "      <td>Lost Summoner Kitty</td>\n",
       "      <td>2018</td>\n",
       "      <td>4.99</td>\n",
       "      <td>761140</td>\n",
       "      <td>Kotoshiro</td>\n",
       "    </tr>\n",
       "  </tbody>\n",
       "</table>\n",
       "</div>"
      ],
      "text/plain": [
       "   genres            item_name  release_date  price  item_id  developer\n",
       "0  Action  Lost Summoner Kitty          2018   4.99   761140  Kotoshiro\n",
       "1  Casual  Lost Summoner Kitty          2018   4.99   761140  Kotoshiro"
      ]
     },
     "execution_count": 30,
     "metadata": {},
     "output_type": "execute_result"
    }
   ],
   "source": [
    "games.head(2)"
   ]
  },
  {
   "cell_type": "code",
   "execution_count": 31,
   "metadata": {},
   "outputs": [],
   "source": [
    "# convertir games a un archivo parquet\n",
    "games.to_parquet('games.parquet')"
   ]
  },
  {
   "cell_type": "code",
   "execution_count": 21,
   "metadata": {},
   "outputs": [],
   "source": [
    "# abrimos el archivo parquet\n",
    "games = pd.read_parquet('parquet/games.parquet')"
   ]
  },
  {
   "cell_type": "code",
   "execution_count": 22,
   "metadata": {},
   "outputs": [],
   "source": [
    "# seleccionamos las columnas del dataframe games item_id, release_date, price y developer y las guardamos en un nuevo dataframe llamado games_funcion_1\n",
    "games_funcion_1 = games[['item_id', 'release_date', 'price', 'developer']]"
   ]
  },
  {
   "cell_type": "code",
   "execution_count": 5,
   "metadata": {},
   "outputs": [],
   "source": [
    "# guardar el dataframe games_funcion_1 en un archivo parquet\n",
    "games_funcion_1.to_parquet('games_funcion_1.parquet')"
   ]
  },
  {
   "cell_type": "code",
   "execution_count": 4,
   "metadata": {},
   "outputs": [
    {
     "data": {
      "text/html": [
       "<div>\n",
       "<style scoped>\n",
       "    .dataframe tbody tr th:only-of-type {\n",
       "        vertical-align: middle;\n",
       "    }\n",
       "\n",
       "    .dataframe tbody tr th {\n",
       "        vertical-align: top;\n",
       "    }\n",
       "\n",
       "    .dataframe thead th {\n",
       "        text-align: right;\n",
       "    }\n",
       "</style>\n",
       "<table border=\"1\" class=\"dataframe\">\n",
       "  <thead>\n",
       "    <tr style=\"text-align: right;\">\n",
       "      <th></th>\n",
       "      <th>item_id</th>\n",
       "      <th>release_date</th>\n",
       "      <th>price</th>\n",
       "      <th>developer</th>\n",
       "    </tr>\n",
       "  </thead>\n",
       "  <tbody>\n",
       "    <tr>\n",
       "      <th>0</th>\n",
       "      <td>761140</td>\n",
       "      <td>2018</td>\n",
       "      <td>4.99</td>\n",
       "      <td>Kotoshiro</td>\n",
       "    </tr>\n",
       "    <tr>\n",
       "      <th>1</th>\n",
       "      <td>761140</td>\n",
       "      <td>2018</td>\n",
       "      <td>4.99</td>\n",
       "      <td>Kotoshiro</td>\n",
       "    </tr>\n",
       "  </tbody>\n",
       "</table>\n",
       "</div>"
      ],
      "text/plain": [
       "   item_id  release_date  price  developer\n",
       "0   761140          2018   4.99  Kotoshiro\n",
       "1   761140          2018   4.99  Kotoshiro"
      ]
     },
     "execution_count": 4,
     "metadata": {},
     "output_type": "execute_result"
    }
   ],
   "source": [
    "games_funcion_1.head(2)"
   ]
  },
  {
   "cell_type": "code",
   "execution_count": 9,
   "metadata": {},
   "outputs": [
    {
     "data": {
      "text/html": [
       "<div>\n",
       "<style scoped>\n",
       "    .dataframe tbody tr th:only-of-type {\n",
       "        vertical-align: middle;\n",
       "    }\n",
       "\n",
       "    .dataframe tbody tr th {\n",
       "        vertical-align: top;\n",
       "    }\n",
       "\n",
       "    .dataframe thead th {\n",
       "        text-align: right;\n",
       "    }\n",
       "</style>\n",
       "<table border=\"1\" class=\"dataframe\">\n",
       "  <thead>\n",
       "    <tr style=\"text-align: right;\">\n",
       "      <th></th>\n",
       "      <th>genres</th>\n",
       "      <th>item_name</th>\n",
       "      <th>release_date</th>\n",
       "      <th>price</th>\n",
       "      <th>item_id</th>\n",
       "      <th>developer</th>\n",
       "    </tr>\n",
       "  </thead>\n",
       "  <tbody>\n",
       "    <tr>\n",
       "      <th>0</th>\n",
       "      <td>Action</td>\n",
       "      <td>Lost Summoner Kitty</td>\n",
       "      <td>2018</td>\n",
       "      <td>4.99</td>\n",
       "      <td>761140</td>\n",
       "      <td>Kotoshiro</td>\n",
       "    </tr>\n",
       "    <tr>\n",
       "      <th>1</th>\n",
       "      <td>Casual</td>\n",
       "      <td>Lost Summoner Kitty</td>\n",
       "      <td>2018</td>\n",
       "      <td>4.99</td>\n",
       "      <td>761140</td>\n",
       "      <td>Kotoshiro</td>\n",
       "    </tr>\n",
       "    <tr>\n",
       "      <th>2</th>\n",
       "      <td>Indie</td>\n",
       "      <td>Lost Summoner Kitty</td>\n",
       "      <td>2018</td>\n",
       "      <td>4.99</td>\n",
       "      <td>761140</td>\n",
       "      <td>Kotoshiro</td>\n",
       "    </tr>\n",
       "    <tr>\n",
       "      <th>3</th>\n",
       "      <td>Simulation</td>\n",
       "      <td>Lost Summoner Kitty</td>\n",
       "      <td>2018</td>\n",
       "      <td>4.99</td>\n",
       "      <td>761140</td>\n",
       "      <td>Kotoshiro</td>\n",
       "    </tr>\n",
       "    <tr>\n",
       "      <th>4</th>\n",
       "      <td>Strategy</td>\n",
       "      <td>Lost Summoner Kitty</td>\n",
       "      <td>2018</td>\n",
       "      <td>4.99</td>\n",
       "      <td>761140</td>\n",
       "      <td>Kotoshiro</td>\n",
       "    </tr>\n",
       "  </tbody>\n",
       "</table>\n",
       "</div>"
      ],
      "text/plain": [
       "       genres            item_name  release_date  price  item_id  developer\n",
       "0      Action  Lost Summoner Kitty          2018   4.99   761140  Kotoshiro\n",
       "1      Casual  Lost Summoner Kitty          2018   4.99   761140  Kotoshiro\n",
       "2       Indie  Lost Summoner Kitty          2018   4.99   761140  Kotoshiro\n",
       "3  Simulation  Lost Summoner Kitty          2018   4.99   761140  Kotoshiro\n",
       "4    Strategy  Lost Summoner Kitty          2018   4.99   761140  Kotoshiro"
      ]
     },
     "execution_count": 9,
     "metadata": {},
     "output_type": "execute_result"
    }
   ],
   "source": [
    "games.head(5)"
   ]
  },
  {
   "cell_type": "code",
   "execution_count": 10,
   "metadata": {},
   "outputs": [],
   "source": [
    "# del dataframe funcion_1 seleccionamos las columnas developer, release_date y price y las guardamos en un nuevo dataframe llamado games_funcion_1\n",
    "games_funcion_1 = games[['developer', 'release_date', 'price']]"
   ]
  },
  {
   "cell_type": "code",
   "execution_count": 12,
   "metadata": {},
   "outputs": [
    {
     "data": {
      "text/html": [
       "<div>\n",
       "<style scoped>\n",
       "    .dataframe tbody tr th:only-of-type {\n",
       "        vertical-align: middle;\n",
       "    }\n",
       "\n",
       "    .dataframe tbody tr th {\n",
       "        vertical-align: top;\n",
       "    }\n",
       "\n",
       "    .dataframe thead th {\n",
       "        text-align: right;\n",
       "    }\n",
       "</style>\n",
       "<table border=\"1\" class=\"dataframe\">\n",
       "  <thead>\n",
       "    <tr style=\"text-align: right;\">\n",
       "      <th></th>\n",
       "      <th>developer</th>\n",
       "      <th>release_date</th>\n",
       "      <th>price</th>\n",
       "    </tr>\n",
       "  </thead>\n",
       "  <tbody>\n",
       "    <tr>\n",
       "      <th>0</th>\n",
       "      <td>Kotoshiro</td>\n",
       "      <td>2018</td>\n",
       "      <td>4.99</td>\n",
       "    </tr>\n",
       "    <tr>\n",
       "      <th>1</th>\n",
       "      <td>Kotoshiro</td>\n",
       "      <td>2018</td>\n",
       "      <td>4.99</td>\n",
       "    </tr>\n",
       "    <tr>\n",
       "      <th>2</th>\n",
       "      <td>Kotoshiro</td>\n",
       "      <td>2018</td>\n",
       "      <td>4.99</td>\n",
       "    </tr>\n",
       "    <tr>\n",
       "      <th>3</th>\n",
       "      <td>Kotoshiro</td>\n",
       "      <td>2018</td>\n",
       "      <td>4.99</td>\n",
       "    </tr>\n",
       "    <tr>\n",
       "      <th>4</th>\n",
       "      <td>Kotoshiro</td>\n",
       "      <td>2018</td>\n",
       "      <td>4.99</td>\n",
       "    </tr>\n",
       "  </tbody>\n",
       "</table>\n",
       "</div>"
      ],
      "text/plain": [
       "   developer  release_date  price\n",
       "0  Kotoshiro          2018   4.99\n",
       "1  Kotoshiro          2018   4.99\n",
       "2  Kotoshiro          2018   4.99\n",
       "3  Kotoshiro          2018   4.99\n",
       "4  Kotoshiro          2018   4.99"
      ]
     },
     "execution_count": 12,
     "metadata": {},
     "output_type": "execute_result"
    }
   ],
   "source": [
    "games_funcion_1.head(5)"
   ]
  },
  {
   "cell_type": "code",
   "execution_count": 13,
   "metadata": {},
   "outputs": [],
   "source": [
    "# guardar el dataframe games_funcion_1 en un archivo parquet\n",
    "games_funcion_1.to_parquet('games_funcion_1.parquet')"
   ]
  },
  {
   "cell_type": "code",
   "execution_count": 4,
   "metadata": {},
   "outputs": [],
   "source": [
    "def desarrollador(funcion_1, desarrollador):\n",
    "    # Filtrar el dataframe por el desarrollador dado\n",
    "    df_dev = funcion_1[funcion_1['developer'] == desarrollador]\n",
    "    \n",
    "    # Agrupar por año y contar el número total de juegos y el número de juegos gratuitos\n",
    "    juegos_por_año = df_dev.groupby('release_date').size()\n",
    "    juegos_gratis_por_año = df_dev[df_dev['price'] == 0.0].groupby('release_date').size()\n",
    "    \n",
    "    # Asegurarse de que juegos_gratis_por_año tenga la misma longitud que juegos_por_año\n",
    "    juegos_gratis_por_año = juegos_gratis_por_año.reindex(juegos_por_año.index, fill_value=0)\n",
    "    \n",
    "    # Crear un nuevo dataframe con los resultados\n",
    "    df_resultado = pd.DataFrame({\n",
    "        'Año': juegos_por_año.index,\n",
    "        'Cantidad de artículos': juegos_por_año.values,\n",
    "        'Contenido Gratis': juegos_gratis_por_año.values\n",
    "    })\n",
    "    \n",
    "    # Calcular el porcentaje de juegos gratuitos y redondearlo a un número entero\n",
    "    df_resultado['Porcentaje Gratis'] = ((df_resultado['Contenido Gratis'] / df_resultado['Cantidad de artículos']) * 100).round().astype(int)\n",
    "    \n",
    "    # Agregar el signo de porcentaje\n",
    "    df_resultado['Porcentaje Gratis'] = df_resultado['Porcentaje Gratis'].astype(str) + '%'\n",
    "    \n",
    "    return df_resultado"
   ]
  },
  {
   "cell_type": "code",
   "execution_count": 5,
   "metadata": {},
   "outputs": [
    {
     "data": {
      "text/html": [
       "<div>\n",
       "<style scoped>\n",
       "    .dataframe tbody tr th:only-of-type {\n",
       "        vertical-align: middle;\n",
       "    }\n",
       "\n",
       "    .dataframe tbody tr th {\n",
       "        vertical-align: top;\n",
       "    }\n",
       "\n",
       "    .dataframe thead th {\n",
       "        text-align: right;\n",
       "    }\n",
       "</style>\n",
       "<table border=\"1\" class=\"dataframe\">\n",
       "  <thead>\n",
       "    <tr style=\"text-align: right;\">\n",
       "      <th></th>\n",
       "      <th>Año</th>\n",
       "      <th>Cantidad de artículos</th>\n",
       "      <th>Contenido Gratis</th>\n",
       "      <th>Porcentaje Gratis</th>\n",
       "    </tr>\n",
       "  </thead>\n",
       "  <tbody>\n",
       "    <tr>\n",
       "      <th>0</th>\n",
       "      <td>2018</td>\n",
       "      <td>5</td>\n",
       "      <td>5</td>\n",
       "      <td>100%</td>\n",
       "    </tr>\n",
       "  </tbody>\n",
       "</table>\n",
       "</div>"
      ],
      "text/plain": [
       "    Año  Cantidad de artículos  Contenido Gratis Porcentaje Gratis\n",
       "0  2018                      5                 5              100%"
      ]
     },
     "execution_count": 5,
     "metadata": {},
     "output_type": "execute_result"
    }
   ],
   "source": [
    "# llamamos a la funcion\n",
    "resultado = desarrollador(funcion_1, '杭州分浪网络科技有限公司')\n",
    "resultado"
   ]
  },
  {
   "cell_type": "markdown",
   "metadata": {},
   "source": [
    "###  **``función 2``**:\n",
    " def **userdata**( **`User_id`**: **str** ) : Debe devolver `cantidad` de dinero gastado por el usuario, el `porcentaje` de recomendación en base a reviews.recommend y `cantidad de items`. **variables**:  **``user_id``**, **``price``**, **``recommend``**, **``item_name``**\n",
    "\n"
   ]
  },
  {
   "cell_type": "code",
   "execution_count": 32,
   "metadata": {},
   "outputs": [],
   "source": [
    "# abrimos los archivos parquet\n",
    "games = pd.read_parquet('parquet/games.parquet')\n",
    "items = pd.read_parquet('parquet/items.parquet')\n",
    "reviews = pd.read_parquet('parquet/reviews.parquet')\n"
   ]
  },
  {
   "cell_type": "code",
   "execution_count": 33,
   "metadata": {},
   "outputs": [
    {
     "data": {
      "text/html": [
       "<div>\n",
       "<style scoped>\n",
       "    .dataframe tbody tr th:only-of-type {\n",
       "        vertical-align: middle;\n",
       "    }\n",
       "\n",
       "    .dataframe tbody tr th {\n",
       "        vertical-align: top;\n",
       "    }\n",
       "\n",
       "    .dataframe thead th {\n",
       "        text-align: right;\n",
       "    }\n",
       "</style>\n",
       "<table border=\"1\" class=\"dataframe\">\n",
       "  <thead>\n",
       "    <tr style=\"text-align: right;\">\n",
       "      <th></th>\n",
       "      <th>genres</th>\n",
       "      <th>item_name</th>\n",
       "      <th>release_date</th>\n",
       "      <th>price</th>\n",
       "      <th>item_id</th>\n",
       "      <th>developer</th>\n",
       "    </tr>\n",
       "  </thead>\n",
       "  <tbody>\n",
       "    <tr>\n",
       "      <th>0</th>\n",
       "      <td>Action</td>\n",
       "      <td>Lost Summoner Kitty</td>\n",
       "      <td>2018</td>\n",
       "      <td>4.99</td>\n",
       "      <td>761140</td>\n",
       "      <td>Kotoshiro</td>\n",
       "    </tr>\n",
       "    <tr>\n",
       "      <th>1</th>\n",
       "      <td>Casual</td>\n",
       "      <td>Lost Summoner Kitty</td>\n",
       "      <td>2018</td>\n",
       "      <td>4.99</td>\n",
       "      <td>761140</td>\n",
       "      <td>Kotoshiro</td>\n",
       "    </tr>\n",
       "  </tbody>\n",
       "</table>\n",
       "</div>"
      ],
      "text/plain": [
       "   genres            item_name  release_date  price  item_id  developer\n",
       "0  Action  Lost Summoner Kitty          2018   4.99   761140  Kotoshiro\n",
       "1  Casual  Lost Summoner Kitty          2018   4.99   761140  Kotoshiro"
      ]
     },
     "execution_count": 33,
     "metadata": {},
     "output_type": "execute_result"
    }
   ],
   "source": [
    "games.head(2)"
   ]
  },
  {
   "cell_type": "code",
   "execution_count": 8,
   "metadata": {},
   "outputs": [
    {
     "data": {
      "text/html": [
       "<div>\n",
       "<style scoped>\n",
       "    .dataframe tbody tr th:only-of-type {\n",
       "        vertical-align: middle;\n",
       "    }\n",
       "\n",
       "    .dataframe tbody tr th {\n",
       "        vertical-align: top;\n",
       "    }\n",
       "\n",
       "    .dataframe thead th {\n",
       "        text-align: right;\n",
       "    }\n",
       "</style>\n",
       "<table border=\"1\" class=\"dataframe\">\n",
       "  <thead>\n",
       "    <tr style=\"text-align: right;\">\n",
       "      <th></th>\n",
       "      <th>item_id</th>\n",
       "      <th>item_name</th>\n",
       "      <th>playtime_forever</th>\n",
       "      <th>user_id</th>\n",
       "      <th>items_count</th>\n",
       "    </tr>\n",
       "  </thead>\n",
       "  <tbody>\n",
       "    <tr>\n",
       "      <th>0</th>\n",
       "      <td>10</td>\n",
       "      <td>Counter-Strike</td>\n",
       "      <td>0.100000</td>\n",
       "      <td>76561197970982479</td>\n",
       "      <td>277.0</td>\n",
       "    </tr>\n",
       "    <tr>\n",
       "      <th>1</th>\n",
       "      <td>30</td>\n",
       "      <td>Day of Defeat</td>\n",
       "      <td>0.116667</td>\n",
       "      <td>evcentric</td>\n",
       "      <td>137.0</td>\n",
       "    </tr>\n",
       "  </tbody>\n",
       "</table>\n",
       "</div>"
      ],
      "text/plain": [
       "   item_id       item_name  playtime_forever            user_id  items_count\n",
       "0       10  Counter-Strike          0.100000  76561197970982479        277.0\n",
       "1       30   Day of Defeat          0.116667          evcentric        137.0"
      ]
     },
     "execution_count": 8,
     "metadata": {},
     "output_type": "execute_result"
    }
   ],
   "source": [
    "items.head(2)"
   ]
  },
  {
   "cell_type": "code",
   "execution_count": 9,
   "metadata": {},
   "outputs": [
    {
     "data": {
      "text/html": [
       "<div>\n",
       "<style scoped>\n",
       "    .dataframe tbody tr th:only-of-type {\n",
       "        vertical-align: middle;\n",
       "    }\n",
       "\n",
       "    .dataframe tbody tr th {\n",
       "        vertical-align: top;\n",
       "    }\n",
       "\n",
       "    .dataframe thead th {\n",
       "        text-align: right;\n",
       "    }\n",
       "</style>\n",
       "<table border=\"1\" class=\"dataframe\">\n",
       "  <thead>\n",
       "    <tr style=\"text-align: right;\">\n",
       "      <th></th>\n",
       "      <th>user_id</th>\n",
       "      <th>user_url</th>\n",
       "      <th>item_id</th>\n",
       "      <th>recommend</th>\n",
       "      <th>year</th>\n",
       "      <th>sentiment_analysis</th>\n",
       "    </tr>\n",
       "  </thead>\n",
       "  <tbody>\n",
       "    <tr>\n",
       "      <th>0</th>\n",
       "      <td>Hype_R</td>\n",
       "      <td>http://steamcommunity.com/id/Hype_R</td>\n",
       "      <td>10</td>\n",
       "      <td>True</td>\n",
       "      <td>2014</td>\n",
       "      <td>2</td>\n",
       "    </tr>\n",
       "    <tr>\n",
       "      <th>1</th>\n",
       "      <td>lanatbeonakeehsasamokoshtan</td>\n",
       "      <td>http://steamcommunity.com/id/lanatbeonakeehsas...</td>\n",
       "      <td>10</td>\n",
       "      <td>True</td>\n",
       "      <td>2014</td>\n",
       "      <td>2</td>\n",
       "    </tr>\n",
       "  </tbody>\n",
       "</table>\n",
       "</div>"
      ],
      "text/plain": [
       "                       user_id  \\\n",
       "0                       Hype_R   \n",
       "1  lanatbeonakeehsasamokoshtan   \n",
       "\n",
       "                                            user_url  item_id  recommend  \\\n",
       "0                http://steamcommunity.com/id/Hype_R       10       True   \n",
       "1  http://steamcommunity.com/id/lanatbeonakeehsas...       10       True   \n",
       "\n",
       "   year  sentiment_analysis  \n",
       "0  2014                   2  \n",
       "1  2014                   2  "
      ]
     },
     "execution_count": 9,
     "metadata": {},
     "output_type": "execute_result"
    }
   ],
   "source": [
    "reviews.head(2)"
   ]
  },
  {
   "cell_type": "markdown",
   "metadata": {},
   "source": [
    "#### unir los dataframes games y reviews\n"
   ]
  },
  {
   "cell_type": "code",
   "execution_count": 34,
   "metadata": {},
   "outputs": [],
   "source": [
    "# unir el dataframe games y el dataframe reviews\n",
    "games_reviews = pd.merge(games, reviews, left_on='item_id', right_on='item_id', how='inner')"
   ]
  },
  {
   "cell_type": "code",
   "execution_count": 35,
   "metadata": {},
   "outputs": [
    {
     "data": {
      "text/html": [
       "<div>\n",
       "<style scoped>\n",
       "    .dataframe tbody tr th:only-of-type {\n",
       "        vertical-align: middle;\n",
       "    }\n",
       "\n",
       "    .dataframe tbody tr th {\n",
       "        vertical-align: top;\n",
       "    }\n",
       "\n",
       "    .dataframe thead th {\n",
       "        text-align: right;\n",
       "    }\n",
       "</style>\n",
       "<table border=\"1\" class=\"dataframe\">\n",
       "  <thead>\n",
       "    <tr style=\"text-align: right;\">\n",
       "      <th></th>\n",
       "      <th>genres</th>\n",
       "      <th>item_name</th>\n",
       "      <th>release_date</th>\n",
       "      <th>price</th>\n",
       "      <th>item_id</th>\n",
       "      <th>developer</th>\n",
       "      <th>user_id</th>\n",
       "      <th>user_url</th>\n",
       "      <th>recommend</th>\n",
       "      <th>year</th>\n",
       "      <th>sentiment_analysis</th>\n",
       "    </tr>\n",
       "  </thead>\n",
       "  <tbody>\n",
       "    <tr>\n",
       "      <th>0</th>\n",
       "      <td>Action</td>\n",
       "      <td>Carmageddon Max Pack</td>\n",
       "      <td>1997</td>\n",
       "      <td>9.99</td>\n",
       "      <td>282010</td>\n",
       "      <td>Stainless Games Ltd</td>\n",
       "      <td>InstigatorAU</td>\n",
       "      <td>http://steamcommunity.com/id/InstigatorAU</td>\n",
       "      <td>True</td>\n",
       "      <td>2014</td>\n",
       "      <td>1</td>\n",
       "    </tr>\n",
       "    <tr>\n",
       "      <th>1</th>\n",
       "      <td>Indie</td>\n",
       "      <td>Carmageddon Max Pack</td>\n",
       "      <td>1997</td>\n",
       "      <td>9.99</td>\n",
       "      <td>282010</td>\n",
       "      <td>Stainless Games Ltd</td>\n",
       "      <td>InstigatorAU</td>\n",
       "      <td>http://steamcommunity.com/id/InstigatorAU</td>\n",
       "      <td>True</td>\n",
       "      <td>2014</td>\n",
       "      <td>1</td>\n",
       "    </tr>\n",
       "  </tbody>\n",
       "</table>\n",
       "</div>"
      ],
      "text/plain": [
       "   genres             item_name  release_date  price  item_id  \\\n",
       "0  Action  Carmageddon Max Pack          1997   9.99   282010   \n",
       "1   Indie  Carmageddon Max Pack          1997   9.99   282010   \n",
       "\n",
       "             developer       user_id  \\\n",
       "0  Stainless Games Ltd  InstigatorAU   \n",
       "1  Stainless Games Ltd  InstigatorAU   \n",
       "\n",
       "                                    user_url  recommend  year  \\\n",
       "0  http://steamcommunity.com/id/InstigatorAU       True  2014   \n",
       "1  http://steamcommunity.com/id/InstigatorAU       True  2014   \n",
       "\n",
       "   sentiment_analysis  \n",
       "0                   1  \n",
       "1                   1  "
      ]
     },
     "execution_count": 35,
     "metadata": {},
     "output_type": "execute_result"
    }
   ],
   "source": [
    "games_reviews.head(2)"
   ]
  },
  {
   "cell_type": "code",
   "execution_count": 36,
   "metadata": {},
   "outputs": [],
   "source": [
    "# convertir el dataframe games_reviews a un archivo parquet\n",
    "games_reviews.to_parquet('games_reviews.parquet')"
   ]
  },
  {
   "cell_type": "code",
   "execution_count": 14,
   "metadata": {},
   "outputs": [],
   "source": [
    "# seleccionar del dataframe games_reviews las columnas user_id, price, recommend y item_name y las guardamos en un nuevo dataframe llamado games_reviews_funcion_2\n",
    "games_reviews_funcion_2 = games_reviews[['user_id', 'price', 'recommend', 'item_name']]"
   ]
  },
  {
   "cell_type": "code",
   "execution_count": 15,
   "metadata": {},
   "outputs": [
    {
     "data": {
      "text/html": [
       "<div>\n",
       "<style scoped>\n",
       "    .dataframe tbody tr th:only-of-type {\n",
       "        vertical-align: middle;\n",
       "    }\n",
       "\n",
       "    .dataframe tbody tr th {\n",
       "        vertical-align: top;\n",
       "    }\n",
       "\n",
       "    .dataframe thead th {\n",
       "        text-align: right;\n",
       "    }\n",
       "</style>\n",
       "<table border=\"1\" class=\"dataframe\">\n",
       "  <thead>\n",
       "    <tr style=\"text-align: right;\">\n",
       "      <th></th>\n",
       "      <th>user_id</th>\n",
       "      <th>price</th>\n",
       "      <th>recommend</th>\n",
       "      <th>item_name</th>\n",
       "    </tr>\n",
       "  </thead>\n",
       "  <tbody>\n",
       "    <tr>\n",
       "      <th>0</th>\n",
       "      <td>InstigatorAU</td>\n",
       "      <td>9.99</td>\n",
       "      <td>True</td>\n",
       "      <td>Carmageddon Max Pack</td>\n",
       "    </tr>\n",
       "    <tr>\n",
       "      <th>1</th>\n",
       "      <td>InstigatorAU</td>\n",
       "      <td>9.99</td>\n",
       "      <td>True</td>\n",
       "      <td>Carmageddon Max Pack</td>\n",
       "    </tr>\n",
       "  </tbody>\n",
       "</table>\n",
       "</div>"
      ],
      "text/plain": [
       "        user_id  price  recommend             item_name\n",
       "0  InstigatorAU   9.99       True  Carmageddon Max Pack\n",
       "1  InstigatorAU   9.99       True  Carmageddon Max Pack"
      ]
     },
     "execution_count": 15,
     "metadata": {},
     "output_type": "execute_result"
    }
   ],
   "source": [
    "games_reviews_funcion_2.head(2)"
   ]
  },
  {
   "cell_type": "code",
   "execution_count": 17,
   "metadata": {},
   "outputs": [],
   "source": [
    "# guardar el dataframe games_reviews_funcion_2 en un archivo parquet\n",
    "games_reviews_funcion_2.to_parquet('games_reviews_funcion_2.parquet')"
   ]
  },
  {
   "cell_type": "code",
   "execution_count": 20,
   "metadata": {},
   "outputs": [],
   "source": [
    "# def userdata(games_reviews, User_id):\n",
    "#     # Filtrar el dataframe 'games_reviews' por el 'User_id' dado\n",
    "#     df_filtered = games_reviews[games_reviews['user_id'] == User_id]\n",
    "\n",
    "#     # Calcular la cantidad de dinero gastado\n",
    "#     total_spent = df_filtered['price'].sum()\n",
    "\n",
    "#     # Calcular el porcentaje de recomendación\n",
    "#     total_reviews = df_filtered['recommend'].count()\n",
    "#     recommended_reviews = df_filtered[df_filtered['recommend'] == True]['recommend'].count()\n",
    "#     recommendation_percentage = (recommended_reviews / total_reviews) * 100 if total_reviews > 0 else 0\n",
    "\n",
    "#     # Calcular la cantidad de items\n",
    "#     total_items = df_filtered['item_name'].nunique()\n",
    "\n",
    "#     # Crear el diccionario de resultados\n",
    "#     result = {\n",
    "#         \"Usuario\": User_id,\n",
    "#         \"Dinero gastado\": f\"{total_spent} USD\",\n",
    "#         \"% de recomendación\": f\"{recommendation_percentage}%\",\n",
    "#         \"cantidad de artículos\": total_items\n",
    "#     }\n",
    "\n",
    "#     return result"
   ]
  },
  {
   "cell_type": "markdown",
   "metadata": {},
   "source": [
    "***Redondea los resultados del precio***"
   ]
  },
  {
   "cell_type": "code",
   "execution_count": 10,
   "metadata": {},
   "outputs": [],
   "source": [
    "def userdata(games_reviews, User_id):\n",
    "    # Filtrar el dataframe 'games_reviews' por el 'User_id' dado\n",
    "    df_filtered = games_reviews[games_reviews['user_id'] == User_id]\n",
    "\n",
    "    # Calcular la cantidad de dinero gastado y redondearlo a dos decimales\n",
    "    total_spent = round(df_filtered['price'].sum(), 2)\n",
    "\n",
    "    # Calcular el porcentaje de recomendación\n",
    "    total_reviews = df_filtered['recommend'].count()\n",
    "    recommended_reviews = df_filtered[df_filtered['recommend'] == True]['recommend'].count()\n",
    "    recommendation_percentage = (recommended_reviews / total_reviews) * 100 if total_reviews > 0 else 0\n",
    "\n",
    "    # Calcular la cantidad de items\n",
    "    total_items = df_filtered['item_name'].nunique()\n",
    "\n",
    "    # Crear el diccionario de resultados\n",
    "    result = {\n",
    "        \"Usuario\": User_id,\n",
    "        \"Dinero gastado\": f\"{total_spent} USD\",\n",
    "        \"% de recomendación\": f\"{recommendation_percentage}%\",\n",
    "        \"cantidad de artículos\": total_items\n",
    "    }\n",
    "\n",
    "    return result"
   ]
  },
  {
   "cell_type": "markdown",
   "metadata": {},
   "source": [
    "***muestra mensaje de error cuando se ingresa un valor que no existe en la base de datos***"
   ]
  },
  {
   "cell_type": "code",
   "execution_count": 12,
   "metadata": {},
   "outputs": [],
   "source": [
    "def userdata(games_reviews, User_id):\n",
    "    # Filtrar el dataframe 'games_reviews' por el 'User_id' dado\n",
    "    df_filtered = games_reviews[games_reviews['user_id'] == User_id]\n",
    "\n",
    "    # Verificar si el dataframe filtrado está vacío\n",
    "    if df_filtered.empty:\n",
    "        return f\"El usuario {User_id} no existe.\"\n",
    "\n",
    "    # Calcular la cantidad de dinero gastado y redondearlo a dos decimales\n",
    "    total_spent = round(df_filtered['price'].sum(), 2)\n",
    "\n",
    "    # Calcular el porcentaje de recomendación\n",
    "    total_reviews = df_filtered['recommend'].count()\n",
    "    recommended_reviews = df_filtered[df_filtered['recommend'] == True]['recommend'].count()\n",
    "    recommendation_percentage = (recommended_reviews / total_reviews) * 100 if total_reviews > 0 else 0\n",
    "\n",
    "    # Calcular la cantidad de items\n",
    "    total_items = df_filtered['item_name'].nunique()\n",
    "\n",
    "    # Crear el diccionario de resultados\n",
    "    result = {\n",
    "        \"Usuario\": User_id,\n",
    "        \"Dinero gastado\": f\"{total_spent} USD\",\n",
    "        \"% de recomendación\": f\"{recommendation_percentage}%\",\n",
    "        \"cantidad de artículos\": total_items\n",
    "    }\n",
    "\n",
    "    return result"
   ]
  },
  {
   "cell_type": "code",
   "execution_count": 13,
   "metadata": {},
   "outputs": [
    {
     "data": {
      "text/plain": [
       "{'Usuario': 'InstigatorAU',\n",
       " 'Dinero gastado': '29.97 USD',\n",
       " '% de recomendación': '100.0%',\n",
       " 'cantidad de artículos': 2}"
      ]
     },
     "execution_count": 13,
     "metadata": {},
     "output_type": "execute_result"
    }
   ],
   "source": [
    "# llamando a la función userdata con el argumento '76561197960265729'\n",
    "userdata(games_reviews, 'InstigatorAU')"
   ]
  },
  {
   "cell_type": "code",
   "execution_count": 13,
   "metadata": {},
   "outputs": [
    {
     "data": {
      "text/plain": [
       "<StringArray>\n",
       "[     'InstigatorAU', '76561198096849086',          'GamerFag',\n",
       "         'Bluegills',         'ripvision', '76561198088947777',\n",
       "         'epic_doom', '76561198049424642', '76561197970812298',\n",
       " '76561198069139035',\n",
       " ...\n",
       "      'shaman3soul3',           'waspish',             'cumme',\n",
       " '76561198015886143', '76561198072207162',           'Katidis',\n",
       " '76561198076217855',            '2ez2xl',       'matt1255555',\n",
       " 'LaLocaDeLosDulces']\n",
       "Length: 23157, dtype: string"
      ]
     },
     "execution_count": 13,
     "metadata": {},
     "output_type": "execute_result"
    }
   ],
   "source": [
    "# lista de valores unicos de la columna 'user_id'\n",
    "unique_users = games_reviews['user_id'].unique()\n",
    "unique_users"
   ]
  },
  {
   "cell_type": "markdown",
   "metadata": {},
   "source": [
    "###  **``función 3``**:\n",
    "def **UserForGenre**( **`genero`**: **str** ) : Debe devolver el usuario que acumula más horas jugadas para el género dado y una lista de la acumulación de horas jugadas por año de lanzamiento. **variables**: **`genres`**, **`user_id`**, **`playtime_forever`**, **`release_date`**."
   ]
  },
  {
   "cell_type": "code",
   "execution_count": 45,
   "metadata": {},
   "outputs": [],
   "source": [
    "# Seleccionar las columnas necesarias de cada DataFrame\n",
    "games_selected = games[['item_id', 'genres', 'release_date']]\n",
    "items_selected = items[['item_id', 'user_id', 'playtime_forever']]\n",
    "\n",
    "# Unir los dos DataFrames en uno nuevo llamado 'games_items'\n",
    "games_items = pd.merge(games_selected, items_selected, on='item_id')"
   ]
  },
  {
   "cell_type": "code",
   "execution_count": 46,
   "metadata": {},
   "outputs": [
    {
     "data": {
      "text/html": [
       "<div>\n",
       "<style scoped>\n",
       "    .dataframe tbody tr th:only-of-type {\n",
       "        vertical-align: middle;\n",
       "    }\n",
       "\n",
       "    .dataframe tbody tr th {\n",
       "        vertical-align: top;\n",
       "    }\n",
       "\n",
       "    .dataframe thead th {\n",
       "        text-align: right;\n",
       "    }\n",
       "</style>\n",
       "<table border=\"1\" class=\"dataframe\">\n",
       "  <thead>\n",
       "    <tr style=\"text-align: right;\">\n",
       "      <th></th>\n",
       "      <th>item_id</th>\n",
       "      <th>genres</th>\n",
       "      <th>release_date</th>\n",
       "      <th>user_id</th>\n",
       "      <th>playtime_forever</th>\n",
       "    </tr>\n",
       "  </thead>\n",
       "  <tbody>\n",
       "    <tr>\n",
       "      <th>0</th>\n",
       "      <td>282010</td>\n",
       "      <td>Action</td>\n",
       "      <td>1997</td>\n",
       "      <td>76561198063896904</td>\n",
       "      <td>0.083333</td>\n",
       "    </tr>\n",
       "    <tr>\n",
       "      <th>1</th>\n",
       "      <td>282010</td>\n",
       "      <td>Action</td>\n",
       "      <td>1997</td>\n",
       "      <td>76561198091362266</td>\n",
       "      <td>0.216667</td>\n",
       "    </tr>\n",
       "  </tbody>\n",
       "</table>\n",
       "</div>"
      ],
      "text/plain": [
       "   item_id  genres  release_date            user_id  playtime_forever\n",
       "0   282010  Action          1997  76561198063896904          0.083333\n",
       "1   282010  Action          1997  76561198091362266          0.216667"
      ]
     },
     "execution_count": 46,
     "metadata": {},
     "output_type": "execute_result"
    }
   ],
   "source": [
    "games_items.head(2)"
   ]
  },
  {
   "cell_type": "code",
   "execution_count": null,
   "metadata": {},
   "outputs": [],
   "source": []
  },
  {
   "cell_type": "code",
   "execution_count": 39,
   "metadata": {},
   "outputs": [],
   "source": [
    "# convertir games_items a un archivo parquet\n",
    "games_items.to_parquet('games_items.parquet')"
   ]
  },
  {
   "cell_type": "code",
   "execution_count": 27,
   "metadata": {},
   "outputs": [],
   "source": [
    "# seleccionar de la columna games_items las columnas genres, user_id, playtime_forever y release_date y las guardamos en un nuevo dataframe llamado games_items_funcion_3\n",
    "games_items_funcion_3 = games_items[['genres', 'user_id', 'playtime_forever', 'release_date']]"
   ]
  },
  {
   "cell_type": "code",
   "execution_count": 28,
   "metadata": {},
   "outputs": [],
   "source": [
    "# convertir el dataframe games_items_funcion_3 a un archivo parquet\n",
    "games_items_funcion_3.to_parquet('games_items_funcion_3.parquet')"
   ]
  },
  {
   "cell_type": "code",
   "execution_count": 45,
   "metadata": {},
   "outputs": [],
   "source": [
    "# # unir el dataframe games y items\n",
    "# games_items = pd.merge(games, items, left_on='item_id', right_on='item_id', how='inner')"
   ]
  },
  {
   "cell_type": "code",
   "execution_count": 47,
   "metadata": {},
   "outputs": [],
   "source": [
    "def UserForGenre(games_items, genero):\n",
    "    # Filtrar el DataFrame por el género dado\n",
    "    df_genre = games_items[games_items['genres'] == genero]\n",
    "\n",
    "    # Verificar si el DataFrame filtrado está vacío\n",
    "    if df_genre.empty:\n",
    "        return \"No hay datos para el género {}\".format(genero)\n",
    "\n",
    "    # Obtener el usuario con más horas jugadas\n",
    "    user_most_played_id = df_genre.groupby('user_id')['playtime_forever'].sum().idxmax()\n",
    "\n",
    "    # Obtener la acumulación de horas jugadas por año de lanzamiento\n",
    "    hours_per_year = df_genre.groupby('release_date')['playtime_forever'].sum().astype(int).reset_index()\n",
    "    hours_per_year.columns = ['Año', 'Horas']\n",
    "    hours_per_year = hours_per_year.to_dict('records')\n",
    "\n",
    "    # Devolver los resultados en el formato especificado\n",
    "    return {\"Usuario con más horas jugadas para el género {}\".format(genero) : user_most_played_id, \"Horas jugadas\": hours_per_year}"
   ]
  },
  {
   "cell_type": "markdown",
   "metadata": {},
   "source": [
    "***modificamos la logica para cuando el año sea igual a 0 aparezca desconocido***"
   ]
  },
  {
   "cell_type": "code",
   "execution_count": 48,
   "metadata": {},
   "outputs": [],
   "source": [
    "def UserForGenre(games_items, genero):\n",
    "    # Filtrar el DataFrame por el género dado\n",
    "    df_genre = games_items[games_items['genres'] == genero]\n",
    "\n",
    "    # Verificar si el DataFrame filtrado está vacío\n",
    "    if df_genre.empty:\n",
    "        return \"No hay datos para el género {}\".format(genero)\n",
    "\n",
    "    # Obtener el usuario con más horas jugadas\n",
    "    user_most_played_id = df_genre.groupby('user_id')['playtime_forever'].sum().idxmax()\n",
    "\n",
    "    # Obtener la acumulación de horas jugadas por año de lanzamiento\n",
    "    hours_per_year = df_genre.groupby('release_date')['playtime_forever'].sum().astype(int).reset_index()\n",
    "    hours_per_year.columns = ['Año', 'Horas']\n",
    "\n",
    "    # Cambiar el valor del año a 'desconocido' cuando es igual a 0\n",
    "    hours_per_year['Año'] = hours_per_year['Año'].apply(lambda x: 'desconocido' if x == 0 else x)\n",
    "\n",
    "    # Crear el diccionario de resultados\n",
    "    hours_per_year = [{'Año': row['Año'], 'Horas': row['Horas']} for _, row in hours_per_year.iterrows()]\n",
    "\n",
    "    # Devolver los resultados en el formato especificado\n",
    "    return {\"Usuario con más horas jugadas para el género {}\".format(genero) : user_most_played_id, \"Horas jugadas\": hours_per_year}"
   ]
  },
  {
   "cell_type": "code",
   "execution_count": 40,
   "metadata": {},
   "outputs": [
    {
     "data": {
      "text/html": [
       "<div>\n",
       "<style scoped>\n",
       "    .dataframe tbody tr th:only-of-type {\n",
       "        vertical-align: middle;\n",
       "    }\n",
       "\n",
       "    .dataframe tbody tr th {\n",
       "        vertical-align: top;\n",
       "    }\n",
       "\n",
       "    .dataframe thead th {\n",
       "        text-align: right;\n",
       "    }\n",
       "</style>\n",
       "<table border=\"1\" class=\"dataframe\">\n",
       "  <thead>\n",
       "    <tr style=\"text-align: right;\">\n",
       "      <th></th>\n",
       "      <th>item_id</th>\n",
       "      <th>genres</th>\n",
       "      <th>release_date</th>\n",
       "      <th>user_id</th>\n",
       "      <th>playtime_forever</th>\n",
       "    </tr>\n",
       "  </thead>\n",
       "  <tbody>\n",
       "    <tr>\n",
       "      <th>0</th>\n",
       "      <td>282010</td>\n",
       "      <td>Action</td>\n",
       "      <td>1997</td>\n",
       "      <td>76561198063896904</td>\n",
       "      <td>0.083333</td>\n",
       "    </tr>\n",
       "    <tr>\n",
       "      <th>1</th>\n",
       "      <td>282010</td>\n",
       "      <td>Action</td>\n",
       "      <td>1997</td>\n",
       "      <td>76561198091362266</td>\n",
       "      <td>0.216667</td>\n",
       "    </tr>\n",
       "  </tbody>\n",
       "</table>\n",
       "</div>"
      ],
      "text/plain": [
       "   item_id  genres  release_date            user_id  playtime_forever\n",
       "0   282010  Action          1997  76561198063896904          0.083333\n",
       "1   282010  Action          1997  76561198091362266          0.216667"
      ]
     },
     "execution_count": 40,
     "metadata": {},
     "output_type": "execute_result"
    }
   ],
   "source": [
    "games_items.head(2)"
   ]
  },
  {
   "cell_type": "code",
   "execution_count": null,
   "metadata": {},
   "outputs": [],
   "source": []
  },
  {
   "cell_type": "code",
   "execution_count": 50,
   "metadata": {},
   "outputs": [
    {
     "data": {
      "text/plain": [
       "{'Usuario con más horas jugadas para el género Simulation': '76561198082881423',\n",
       " 'Horas jugadas': [{'Año': 1994, 'Horas': 4},\n",
       "  {'Año': 1998, 'Horas': 31},\n",
       "  {'Año': 1999, 'Horas': 46},\n",
       "  {'Año': 2000, 'Horas': 2},\n",
       "  {'Año': 2001, 'Horas': 97},\n",
       "  {'Año': 2002, 'Horas': 52},\n",
       "  {'Año': 2003, 'Horas': 120},\n",
       "  {'Año': 2005, 'Horas': 10},\n",
       "  {'Año': 2006, 'Horas': 146305},\n",
       "  {'Año': 2007, 'Horas': 262},\n",
       "  {'Año': 2008, 'Horas': 957},\n",
       "  {'Año': 2009, 'Horas': 7270},\n",
       "  {'Año': 2010, 'Horas': 13696},\n",
       "  {'Año': 2011, 'Horas': 3349},\n",
       "  {'Año': 2012, 'Horas': 8641},\n",
       "  {'Año': 2013, 'Horas': 45421},\n",
       "  {'Año': 2014, 'Horas': 12854},\n",
       "  {'Año': 2015, 'Horas': 30457},\n",
       "  {'Año': 2016, 'Horas': 11407},\n",
       "  {'Año': 2017, 'Horas': 9749}]}"
      ]
     },
     "execution_count": 50,
     "metadata": {},
     "output_type": "execute_result"
    }
   ],
   "source": [
    "# llamar la función UserForGenre\n",
    "UserForGenre(games_items, 'Simulation')"
   ]
  },
  {
   "cell_type": "code",
   "execution_count": 63,
   "metadata": {},
   "outputs": [
    {
     "data": {
      "text/plain": [
       "<StringArray>\n",
       "[                   'Action',                     'Indie',\n",
       "                    'Racing',                  'Strategy',\n",
       "                       'RPG',                'Simulation',\n",
       "                    'Casual',                 'Adventure',\n",
       "               'Desconocido',                    'Sports',\n",
       "     'Massively Multiplayer',                 'Utilities',\n",
       "  'Animation &amp; Modeling', 'Design &amp; Illustration',\n",
       "                 'Education',         'Software Training',\n",
       "            'Web Publishing',          'Video Production',\n",
       "          'Audio Production',             'Photo Editing']\n",
       "Length: 20, dtype: string"
      ]
     },
     "execution_count": 63,
     "metadata": {},
     "output_type": "execute_result"
    }
   ],
   "source": [
    "# mostrar generos unicos\n",
    "games_items['genres'].unique()"
   ]
  },
  {
   "cell_type": "markdown",
   "metadata": {},
   "source": [
    "###  **``función 4``**:\n",
    "def **best_developer_year**(**`año`**: **int** ) : Devuelve el top 3 de desarrolladores con juegos MÁS recomendados por usuarios para el año dado. (reviews.recommend = Verdadero y comentarios positivos). **variables**. **`release_date`**, **`reviews.recommend (sentiment_analysis)`**"
   ]
  },
  {
   "cell_type": "code",
   "execution_count": 18,
   "metadata": {},
   "outputs": [],
   "source": [
    "def best_developer_year(games_reviews, year):\n",
    "    # Filtrar el dataframe 'games_reviews' por año, recomendaciones y comentarios positivos\n",
    "    df_filtered = games_reviews[(games_reviews['release_date'] == year) & (games_reviews['recommend'] == True) & (games_reviews['sentiment_analysis'] == 2)]\n",
    "\n",
    "    # Agrupar por desarrollador y contar las reseñas\n",
    "    developer_counts = df_filtered['developer'].value_counts()\n",
    "\n",
    "    # Ordenar los resultados y seleccionar los tres primeros\n",
    "    top_developers = developer_counts.nlargest(3)\n",
    "\n",
    "    # Crear la lista de resultados\n",
    "    result = []\n",
    "    for i, (developer, count) in enumerate(top_developers.items(), start=1):\n",
    "        result.append({f\"Puesto {i}\": developer})\n",
    "\n",
    "    return result"
   ]
  },
  {
   "cell_type": "markdown",
   "metadata": {},
   "source": [
    "***Se agrego un mensaje de error***"
   ]
  },
  {
   "cell_type": "code",
   "execution_count": 29,
   "metadata": {},
   "outputs": [],
   "source": [
    "def best_developer_year(games_reviews, year):\n",
    "    # Filtrar el dataframe 'games_reviews' por año, recomendaciones y comentarios positivos\n",
    "    df_filtered = games_reviews[(games_reviews['release_date'] == year) & (games_reviews['recommend'] == True) & (games_reviews['sentiment_analysis'] == 2)]\n",
    "\n",
    "    # Verificar si el DataFrame filtrado está vacío\n",
    "    if df_filtered.empty:\n",
    "        return \"No hay datos para el año {}\".format(year)\n",
    "\n",
    "    # Agrupar por desarrollador y contar las reseñas\n",
    "    developer_counts = df_filtered['developer'].value_counts()\n",
    "\n",
    "    # Ordenar los resultados y seleccionar los tres primeros\n",
    "    top_developers = developer_counts.nlargest(3)\n",
    "\n",
    "    # Crear la lista de resultados\n",
    "    result = []\n",
    "    for i, (developer, count) in enumerate(top_developers.items(), start=1):\n",
    "        result.append({f\"Puesto {i}\": developer})\n",
    "\n",
    "    return result"
   ]
  },
  {
   "cell_type": "code",
   "execution_count": 19,
   "metadata": {},
   "outputs": [
    {
     "data": {
      "text/plain": [
       "array([1997, 1998, 2006, 2005, 2000, 2007, 1996, 1995, 1994, 2001, 2004,\n",
       "       2003, 2008, 1993, 2009, 2002, 2010, 2011, 2013, 2012,    0, 2015,\n",
       "       2014, 1992, 2016, 1989, 1999, 2017, 1991, 1990])"
      ]
     },
     "execution_count": 19,
     "metadata": {},
     "output_type": "execute_result"
    }
   ],
   "source": [
    "# fechas unicas de release_date\n",
    "games_reviews['release_date'].unique()"
   ]
  },
  {
   "cell_type": "code",
   "execution_count": 41,
   "metadata": {},
   "outputs": [
    {
     "data": {
      "text/plain": [
       "[{'Puesto 1': 'Psyonix, Inc.'},\n",
       " {'Puesto 2': 'Trion Worlds'},\n",
       " {'Puesto 3': 'Kyle Seeley'}]"
      ]
     },
     "execution_count": 41,
     "metadata": {},
     "output_type": "execute_result"
    }
   ],
   "source": [
    "# buscar el mejor desarrollador del año 2019\n",
    "best_developer_year(games_reviews, 2015)"
   ]
  },
  {
   "cell_type": "markdown",
   "metadata": {},
   "source": [
    "###  **``función 5``**:\n",
    "def **desarrollador_reviews_analysis**( **`desarrolladora`**: **str**) : Según el desarrollador, se devuelve un diccionario con el nombre del desarrollador como llave y una lista con la cantidad total de registros de reseñas de usuarios que se encuentran categorizados con un análisis de sentimiento como valor positivo o negativo. **`developer`**, **`sentiment_analysis`**"
   ]
  },
  {
   "cell_type": "code",
   "execution_count": 85,
   "metadata": {},
   "outputs": [],
   "source": [
    "def desarrollador_reviews_analysis(games_reviews, desarrolladora):\n",
    "    # Filtrar el dataframe por el desarrollador\n",
    "    df_filtered = games_reviews[games_reviews['developer'] == desarrolladora]\n",
    "\n",
    "    # Contar el número de reseñas con análisis de sentimiento positivo, neutral y negativo\n",
    "    sentiment_counts = df_filtered['sentiment_analysis'].value_counts()\n",
    "\n",
    "    # Crear el diccionario de resultados\n",
    "    result = {desarrolladora: {'Negativo': sentiment_counts.get(0, 0), 'Positivo': sentiment_counts.get(2, 0)}}\n",
    "\n",
    "    return result"
   ]
  },
  {
   "cell_type": "code",
   "execution_count": 51,
   "metadata": {},
   "outputs": [],
   "source": [
    "def desarrollador_reviews_analysis(games_reviews, desarrolladora):\n",
    "    # Filtrar el dataframe por el desarrollador\n",
    "    df_filtered = games_reviews[games_reviews['developer'] == desarrolladora]\n",
    "\n",
    "    # Verificar si el DataFrame filtrado está vacío\n",
    "    if df_filtered.empty:\n",
    "        return \"No hay datos para el desarrollador {}\".format(desarrolladora)\n",
    "\n",
    "    # Contar el número de reseñas con análisis de sentimiento positivo, neutral y negativo\n",
    "    sentiment_counts = df_filtered['sentiment_analysis'].value_counts()\n",
    "\n",
    "    # Crear el diccionario de resultados\n",
    "    resultado = {desarrolladora: {'Negativo': sentiment_counts.get(0, 0), 'Positivo': sentiment_counts.get(2, 0)}}\n",
    "\n",
    "    return resultado"
   ]
  },
  {
   "cell_type": "code",
   "execution_count": 53,
   "metadata": {},
   "outputs": [
    {
     "data": {
      "text/plain": [
       "'No hay datos para el desarrollador Poolians.com'"
      ]
     },
     "execution_count": 53,
     "metadata": {},
     "output_type": "execute_result"
    }
   ],
   "source": [
    "# llamar a la función desarrollador_reviews_analysis con el argumento 'Valve'\n",
    "desarrollador_reviews_analysis(games_reviews, 'Poolians.com')"
   ]
  },
  {
   "cell_type": "code",
   "execution_count": 86,
   "metadata": {},
   "outputs": [
    {
     "data": {
      "text/plain": [
       "{'Stainless Games Ltd': {'Negativo': 0, 'Positivo': 2}}"
      ]
     },
     "execution_count": 86,
     "metadata": {},
     "output_type": "execute_result"
    }
   ],
   "source": [
    "# llamar a la función desarrollador_reviews_analysis con el argumento 'Valve'\n",
    "desarrollador_reviews_analysis(games_reviews, 'Stainless Games Ltd')"
   ]
  },
  {
   "cell_type": "code",
   "execution_count": 24,
   "metadata": {},
   "outputs": [
    {
     "data": {
      "text/plain": [
       "array(['Stainless Games Ltd', 'Valve', 'Outerlight Ltd.', ...,\n",
       "       'Troika Games', 'Neversoft', 'Malfador Machinations'], dtype=object)"
      ]
     },
     "execution_count": 24,
     "metadata": {},
     "output_type": "execute_result"
    }
   ],
   "source": [
    "# lista de desarrolladores unicos\n",
    "desarrolladores = games_reviews['developer'].unique()\n",
    "desarrolladores"
   ]
  },
  {
   "cell_type": "code",
   "execution_count": 26,
   "metadata": {},
   "outputs": [
    {
     "data": {
      "text/plain": [
       "genres                0\n",
       "item_name             0\n",
       "release_date          0\n",
       "price                 0\n",
       "item_id               0\n",
       "developer             0\n",
       "user_id               0\n",
       "user_url              0\n",
       "recommend             0\n",
       "year                  0\n",
       "sentiment_analysis    0\n",
       "dtype: int64"
      ]
     },
     "execution_count": 26,
     "metadata": {},
     "output_type": "execute_result"
    }
   ],
   "source": [
    "games_reviews.isna().sum().sort_values(ascending = False)"
   ]
  },
  {
   "cell_type": "markdown",
   "metadata": {},
   "source": [
    "### **Reporte** \n",
    "* Convertir los dataframes en **``parquet``** solo seleccionando las columnas que se utilizaran para cada función\n",
    "* Sistema de recomendación modelo **Machine Learning** \n",
    "* Hacer el **EDA**\n",
    "* Probar las funciones con ***FastApi*** (***ENV***, Requerimientos)\n",
    "* Optimizar la documentación y el proyecto en general\n",
    "* Publicar los repositorios\n",
    "* Deployar el proyecto ***Render***\n",
    "* Hacer el video de 7 min"
   ]
  },
  {
   "cell_type": "code",
   "execution_count": 31,
   "metadata": {},
   "outputs": [
    {
     "data": {
      "text/plain": [
       "array([2018, 2017,    0, 1997, 1998, 2016, 2006, 2005, 2003, 2007, 2002,\n",
       "       2000, 1995, 1996, 1994, 2001, 1993, 2004, 1999, 2008, 2009, 1992,\n",
       "       1989, 2010, 2011, 2013, 2012, 2014, 1983, 1984, 2015, 1990, 1988,\n",
       "       1991, 1985, 1982, 1987, 1981, 1986, 2021, 2019, 1975, 1970, 1980])"
      ]
     },
     "execution_count": 31,
     "metadata": {},
     "output_type": "execute_result"
    }
   ],
   "source": [
    "# mostrar las fechas unicas del dataframe games \n",
    "games['release_date'].unique()"
   ]
  },
  {
   "cell_type": "code",
   "execution_count": 42,
   "metadata": {},
   "outputs": [
    {
     "data": {
      "text/html": [
       "<div>\n",
       "<style scoped>\n",
       "    .dataframe tbody tr th:only-of-type {\n",
       "        vertical-align: middle;\n",
       "    }\n",
       "\n",
       "    .dataframe tbody tr th {\n",
       "        vertical-align: top;\n",
       "    }\n",
       "\n",
       "    .dataframe thead th {\n",
       "        text-align: right;\n",
       "    }\n",
       "</style>\n",
       "<table border=\"1\" class=\"dataframe\">\n",
       "  <thead>\n",
       "    <tr style=\"text-align: right;\">\n",
       "      <th></th>\n",
       "      <th>user_id</th>\n",
       "      <th>user_url</th>\n",
       "      <th>item_id</th>\n",
       "      <th>recommend</th>\n",
       "      <th>year</th>\n",
       "      <th>sentiment_analysis</th>\n",
       "    </tr>\n",
       "  </thead>\n",
       "  <tbody>\n",
       "    <tr>\n",
       "      <th>0</th>\n",
       "      <td>Hype_R</td>\n",
       "      <td>http://steamcommunity.com/id/Hype_R</td>\n",
       "      <td>10</td>\n",
       "      <td>True</td>\n",
       "      <td>2014</td>\n",
       "      <td>2</td>\n",
       "    </tr>\n",
       "    <tr>\n",
       "      <th>1</th>\n",
       "      <td>lanatbeonakeehsasamokoshtan</td>\n",
       "      <td>http://steamcommunity.com/id/lanatbeonakeehsas...</td>\n",
       "      <td>10</td>\n",
       "      <td>True</td>\n",
       "      <td>2014</td>\n",
       "      <td>2</td>\n",
       "    </tr>\n",
       "  </tbody>\n",
       "</table>\n",
       "</div>"
      ],
      "text/plain": [
       "                       user_id  \\\n",
       "0                       Hype_R   \n",
       "1  lanatbeonakeehsasamokoshtan   \n",
       "\n",
       "                                            user_url  item_id  recommend  \\\n",
       "0                http://steamcommunity.com/id/Hype_R       10       True   \n",
       "1  http://steamcommunity.com/id/lanatbeonakeehsas...       10       True   \n",
       "\n",
       "   year  sentiment_analysis  \n",
       "0  2014                   2  \n",
       "1  2014                   2  "
      ]
     },
     "execution_count": 42,
     "metadata": {},
     "output_type": "execute_result"
    }
   ],
   "source": [
    "reviews.head(2)"
   ]
  },
  {
   "cell_type": "code",
   "execution_count": 43,
   "metadata": {},
   "outputs": [
    {
     "data": {
      "text/plain": [
       "genres          74837\n",
       "item_name       74837\n",
       "release_date    74837\n",
       "price           74837\n",
       "item_id         74837\n",
       "developer       74837\n",
       "dtype: int64"
      ]
     },
     "execution_count": 43,
     "metadata": {},
     "output_type": "execute_result"
    }
   ],
   "source": [
    "games.count()"
   ]
  },
  {
   "cell_type": "code",
   "execution_count": 44,
   "metadata": {},
   "outputs": [
    {
     "data": {
      "text/plain": [
       "item_id             48328\n",
       "item_name           48328\n",
       "playtime_forever    48328\n",
       "user_id             48328\n",
       "items_count         48328\n",
       "dtype: int64"
      ]
     },
     "execution_count": 44,
     "metadata": {},
     "output_type": "execute_result"
    }
   ],
   "source": [
    "items.count()"
   ]
  },
  {
   "cell_type": "code",
   "execution_count": 45,
   "metadata": {},
   "outputs": [
    {
     "data": {
      "text/plain": [
       "user_id               55313\n",
       "user_url              55313\n",
       "item_id               55313\n",
       "recommend             55313\n",
       "year                  55313\n",
       "sentiment_analysis    55313\n",
       "dtype: int64"
      ]
     },
     "execution_count": 45,
     "metadata": {},
     "output_type": "execute_result"
    }
   ],
   "source": [
    "reviews.count()"
   ]
  },
  {
   "cell_type": "code",
   "execution_count": 29,
   "metadata": {},
   "outputs": [
    {
     "data": {
      "text/html": [
       "<div>\n",
       "<style scoped>\n",
       "    .dataframe tbody tr th:only-of-type {\n",
       "        vertical-align: middle;\n",
       "    }\n",
       "\n",
       "    .dataframe tbody tr th {\n",
       "        vertical-align: top;\n",
       "    }\n",
       "\n",
       "    .dataframe thead th {\n",
       "        text-align: right;\n",
       "    }\n",
       "</style>\n",
       "<table border=\"1\" class=\"dataframe\">\n",
       "  <thead>\n",
       "    <tr style=\"text-align: right;\">\n",
       "      <th></th>\n",
       "      <th>genres</th>\n",
       "      <th>item_name</th>\n",
       "      <th>release_date</th>\n",
       "      <th>price</th>\n",
       "      <th>item_id</th>\n",
       "      <th>developer</th>\n",
       "      <th>user_id</th>\n",
       "      <th>user_url</th>\n",
       "      <th>recommend</th>\n",
       "      <th>year</th>\n",
       "      <th>sentiment_analysis</th>\n",
       "    </tr>\n",
       "  </thead>\n",
       "  <tbody>\n",
       "    <tr>\n",
       "      <th>0</th>\n",
       "      <td>Action</td>\n",
       "      <td>Carmageddon Max Pack</td>\n",
       "      <td>1997</td>\n",
       "      <td>9.99</td>\n",
       "      <td>282010</td>\n",
       "      <td>Stainless Games Ltd</td>\n",
       "      <td>InstigatorAU</td>\n",
       "      <td>http://steamcommunity.com/id/InstigatorAU</td>\n",
       "      <td>True</td>\n",
       "      <td>2014</td>\n",
       "      <td>1</td>\n",
       "    </tr>\n",
       "    <tr>\n",
       "      <th>1</th>\n",
       "      <td>Indie</td>\n",
       "      <td>Carmageddon Max Pack</td>\n",
       "      <td>1997</td>\n",
       "      <td>9.99</td>\n",
       "      <td>282010</td>\n",
       "      <td>Stainless Games Ltd</td>\n",
       "      <td>InstigatorAU</td>\n",
       "      <td>http://steamcommunity.com/id/InstigatorAU</td>\n",
       "      <td>True</td>\n",
       "      <td>2014</td>\n",
       "      <td>1</td>\n",
       "    </tr>\n",
       "  </tbody>\n",
       "</table>\n",
       "</div>"
      ],
      "text/plain": [
       "   genres             item_name  release_date  price  item_id  \\\n",
       "0  Action  Carmageddon Max Pack          1997   9.99   282010   \n",
       "1   Indie  Carmageddon Max Pack          1997   9.99   282010   \n",
       "\n",
       "             developer       user_id  \\\n",
       "0  Stainless Games Ltd  InstigatorAU   \n",
       "1  Stainless Games Ltd  InstigatorAU   \n",
       "\n",
       "                                    user_url  recommend  year  \\\n",
       "0  http://steamcommunity.com/id/InstigatorAU       True  2014   \n",
       "1  http://steamcommunity.com/id/InstigatorAU       True  2014   \n",
       "\n",
       "   sentiment_analysis  \n",
       "0                   1  \n",
       "1                   1  "
      ]
     },
     "execution_count": 29,
     "metadata": {},
     "output_type": "execute_result"
    }
   ],
   "source": [
    "games_reviews.head(2)"
   ]
  },
  {
   "cell_type": "code",
   "execution_count": null,
   "metadata": {},
   "outputs": [],
   "source": []
  }
 ],
 "metadata": {
  "kernelspec": {
   "display_name": "Python 3",
   "language": "python",
   "name": "python3"
  },
  "language_info": {
   "codemirror_mode": {
    "name": "ipython",
    "version": 3
   },
   "file_extension": ".py",
   "mimetype": "text/x-python",
   "name": "python",
   "nbconvert_exporter": "python",
   "pygments_lexer": "ipython3",
   "version": "3.11.4"
  }
 },
 "nbformat": 4,
 "nbformat_minor": 2
}
